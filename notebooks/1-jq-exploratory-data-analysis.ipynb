{
 "cells": [
  {
   "cell_type": "code",
   "execution_count": 16,
   "id": "802e9f2e",
   "metadata": {},
   "outputs": [
    {
     "name": "stdout",
     "output_type": "stream",
     "text": [
      "The autoreload extension is already loaded. To reload it, use:\n",
      "  %reload_ext autoreload\n"
     ]
    }
   ],
   "source": [
    "import sys\n",
    "import pandas as pd\n",
    "sys.path.append(\"..\")\n",
    "\n",
    "%load_ext autoreload\n",
    "%autoreload 2"
   ]
  },
  {
   "cell_type": "markdown",
   "id": "398f390c",
   "metadata": {},
   "source": [
    "# Exploratory Data Analysis"
   ]
  },
  {
   "cell_type": "markdown",
   "id": "5fdf557c",
   "metadata": {},
   "source": [
    "\n",
    "## ROI per Cohort - Mathematical Formulation\n",
    "\n",
    "We define a **cohort** $c$, created at time $t=0$. For each loan $i \\in c$:\n",
    "\n",
    "- $L_i $: principal loan amount granted.  \n",
    "- $R_i(t) $: cumulative repayments (including normal repayments and collections) up to time $t$.  \n",
    "- $L_i$ : amount of loan $i$.\n",
    "\n",
    "The **net cash flow** $F_i$ of loan $i$ up to time $t$ is:\n",
    "\n",
    "$$\n",
    "F_i(t) = R_i(t) - L_i\n",
    "$$\n",
    "\n",
    "The **net cash flow of cohort $c$** up to time $t$ is:\n",
    "\n",
    "$$\n",
    "F_c(t) = \\sum_{i \\in c} F_i(t) = \\sum_{i \\in c} \\big(R_i(t) - L_i\\big)\n",
    "$$\n",
    "\n",
    "The **Return on Investment (ROI)** for cohort $c$ up to time $t$ is defined as:\n",
    "\n",
    "$$\n",
    "ROI_c(t) = \\frac{F_c(t)}{\\sum_{i \\in c} L_i}\n",
    "$$\n",
    "\n",
    "or equivalently:\n",
    "\n",
    "$$\n",
    "ROI_c(t) = \\frac{\\sum_{i \\in c} R_i(t)}{\\sum_{i \\in c} L_i} - 1\n",
    "$$\n",
    "\n",
    "### Properties\n",
    "\n",
    "- At the start ($t=0$), repayments are zero, so $ROI_c(0) = -1$.  \n",
    "- As repayments occur, $ROI_c(t)$ increases.  \n",
    "- If $ROI_c(t) > 0$, the cohort has become profitable at horizon $t$.  "
   ]
  },
  {
   "cell_type": "markdown",
   "id": "5777d60b",
   "metadata": {},
   "source": [
    "## Computing ROI curves"
   ]
  },
  {
   "cell_type": "markdown",
   "id": "4ae440ac",
   "metadata": {},
   "source": [
    "The initial step involves creating a consolidated table that combines repayment data, loan details, and batch identifiers. This comprehensive table will enable us to group repayments by batch and subsequently calculate the Return on Investment (ROI) curves for each cohort."
   ]
  },
  {
   "cell_type": "code",
   "execution_count": 21,
   "id": "0ffa2289",
   "metadata": {},
   "outputs": [],
   "source": [
    "from src.data_loading import load_data\n",
    "\n",
    "# Load and prepare all data\n",
    "allowlist, loans, repayments, loans_and_cohort, repayments_and_loans = load_data(\"../database.db\")"
   ]
  },
  {
   "cell_type": "code",
   "execution_count": 12,
   "id": "a43550d7",
   "metadata": {},
   "outputs": [
    {
     "data": {
      "application/vnd.microsoft.datawrangler.viewer.v0+json": {
       "columns": [
        {
         "name": "index",
         "rawType": "int64",
         "type": "integer"
        },
        {
         "name": "date",
         "rawType": "datetime64[ns]",
         "type": "datetime"
        },
        {
         "name": "loan_id",
         "rawType": "object",
         "type": "string"
        },
        {
         "name": "repayment_amount",
         "rawType": "float64",
         "type": "float"
        },
        {
         "name": "billings_amount",
         "rawType": "float64",
         "type": "float"
        },
        {
         "name": "user_id",
         "rawType": "object",
         "type": "string"
        },
        {
         "name": "created_at",
         "rawType": "datetime64[ns]",
         "type": "datetime"
        },
        {
         "name": "updated_at",
         "rawType": "datetime64[ns, UTC]",
         "type": "unknown"
        },
        {
         "name": "annual_interest",
         "rawType": "float64",
         "type": "float"
        },
        {
         "name": "loan_amount",
         "rawType": "float64",
         "type": "float"
        },
        {
         "name": "status",
         "rawType": "object",
         "type": "string"
        },
        {
         "name": "batch",
         "rawType": "object",
         "type": "string"
        },
        {
         "name": "allowlisted_date",
         "rawType": "datetime64[ns]",
         "type": "datetime"
        }
       ],
       "ref": "3701e512-f4be-4b8f-9054-a0f6b8612b2f",
       "rows": [
        [
         "0",
         "2022-12-13 00:00:00",
         "66fb058ba3d8436e498813f940534410a2cbe63bca8c1dc49d65b5aefcd6ee3c",
         "0.0",
         "0.15",
         "7ab6fd45808f75f1288602bc268917bd67cbe9a136f833ac51514b883582f746",
         "2022-08-30 00:00:00",
         "2022-12-27 18:06:03.902000+00:00",
         "2.4",
         "9750.0",
         "debt_collection",
         "1d83f7f96a6a3a06b30bc683b94a428225fe072e60959f3741fe1eac98731f61",
         "2022-08-29 00:00:00"
        ],
        [
         "1",
         "2022-12-13 00:00:00",
         "66fb058ba3d8436e498813f940534410a2cbe63bca8c1dc49d65b5aefcd6ee3c",
         "0.0",
         "0.15",
         "7ab6fd45808f75f1288602bc268917bd67cbe9a136f833ac51514b883582f746",
         "2022-08-30 00:00:00",
         "2022-12-13 01:00:01.294000+00:00",
         "2.4",
         "9750.0",
         "debt_collection",
         "1d83f7f96a6a3a06b30bc683b94a428225fe072e60959f3741fe1eac98731f61",
         "2022-08-29 00:00:00"
        ],
        [
         "2",
         "2022-12-13 00:00:00",
         "66fb058ba3d8436e498813f940534410a2cbe63bca8c1dc49d65b5aefcd6ee3c",
         "0.0",
         "0.15",
         "7ab6fd45808f75f1288602bc268917bd67cbe9a136f833ac51514b883582f746",
         "2022-08-30 00:00:00",
         "2025-01-07 22:30:20.346000+00:00",
         "2.4",
         "9750.0",
         "debt_collection",
         "1d83f7f96a6a3a06b30bc683b94a428225fe072e60959f3741fe1eac98731f61",
         "2022-08-29 00:00:00"
        ],
        [
         "3",
         "2022-12-13 00:00:00",
         "66fb058ba3d8436e498813f940534410a2cbe63bca8c1dc49d65b5aefcd6ee3c",
         "0.0",
         "0.15",
         "7ab6fd45808f75f1288602bc268917bd67cbe9a136f833ac51514b883582f746",
         "2022-08-30 00:00:00",
         "2022-08-30 17:44:27.679729+00:00",
         "2.4",
         "9750.0",
         "executed",
         "1d83f7f96a6a3a06b30bc683b94a428225fe072e60959f3741fe1eac98731f61",
         "2022-08-29 00:00:00"
        ],
        [
         "4",
         "2022-12-13 00:00:00",
         "66fb058ba3d8436e498813f940534410a2cbe63bca8c1dc49d65b5aefcd6ee3c",
         "0.0",
         "0.15",
         "7ab6fd45808f75f1288602bc268917bd67cbe9a136f833ac51514b883582f746",
         "2022-08-30 00:00:00",
         "2022-10-10 12:42:46.269064+00:00",
         "2.4",
         "9750.0",
         "executed",
         "1d83f7f96a6a3a06b30bc683b94a428225fe072e60959f3741fe1eac98731f61",
         "2022-08-29 00:00:00"
        ]
       ],
       "shape": {
        "columns": 12,
        "rows": 5
       }
      },
      "text/html": [
       "<div>\n",
       "<style scoped>\n",
       "    .dataframe tbody tr th:only-of-type {\n",
       "        vertical-align: middle;\n",
       "    }\n",
       "\n",
       "    .dataframe tbody tr th {\n",
       "        vertical-align: top;\n",
       "    }\n",
       "\n",
       "    .dataframe thead th {\n",
       "        text-align: right;\n",
       "    }\n",
       "</style>\n",
       "<table border=\"1\" class=\"dataframe\">\n",
       "  <thead>\n",
       "    <tr style=\"text-align: right;\">\n",
       "      <th></th>\n",
       "      <th>date</th>\n",
       "      <th>loan_id</th>\n",
       "      <th>repayment_amount</th>\n",
       "      <th>billings_amount</th>\n",
       "      <th>user_id</th>\n",
       "      <th>created_at</th>\n",
       "      <th>updated_at</th>\n",
       "      <th>annual_interest</th>\n",
       "      <th>loan_amount</th>\n",
       "      <th>status</th>\n",
       "      <th>batch</th>\n",
       "      <th>allowlisted_date</th>\n",
       "    </tr>\n",
       "  </thead>\n",
       "  <tbody>\n",
       "    <tr>\n",
       "      <th>0</th>\n",
       "      <td>2022-12-13</td>\n",
       "      <td>66fb058ba3d8436e498813f940534410a2cbe63bca8c1d...</td>\n",
       "      <td>0.0</td>\n",
       "      <td>0.15</td>\n",
       "      <td>7ab6fd45808f75f1288602bc268917bd67cbe9a136f833...</td>\n",
       "      <td>2022-08-30</td>\n",
       "      <td>2022-12-27 18:06:03.902000+00:00</td>\n",
       "      <td>2.4</td>\n",
       "      <td>9750.0</td>\n",
       "      <td>debt_collection</td>\n",
       "      <td>1d83f7f96a6a3a06b30bc683b94a428225fe072e60959f...</td>\n",
       "      <td>2022-08-29</td>\n",
       "    </tr>\n",
       "    <tr>\n",
       "      <th>1</th>\n",
       "      <td>2022-12-13</td>\n",
       "      <td>66fb058ba3d8436e498813f940534410a2cbe63bca8c1d...</td>\n",
       "      <td>0.0</td>\n",
       "      <td>0.15</td>\n",
       "      <td>7ab6fd45808f75f1288602bc268917bd67cbe9a136f833...</td>\n",
       "      <td>2022-08-30</td>\n",
       "      <td>2022-12-13 01:00:01.294000+00:00</td>\n",
       "      <td>2.4</td>\n",
       "      <td>9750.0</td>\n",
       "      <td>debt_collection</td>\n",
       "      <td>1d83f7f96a6a3a06b30bc683b94a428225fe072e60959f...</td>\n",
       "      <td>2022-08-29</td>\n",
       "    </tr>\n",
       "    <tr>\n",
       "      <th>2</th>\n",
       "      <td>2022-12-13</td>\n",
       "      <td>66fb058ba3d8436e498813f940534410a2cbe63bca8c1d...</td>\n",
       "      <td>0.0</td>\n",
       "      <td>0.15</td>\n",
       "      <td>7ab6fd45808f75f1288602bc268917bd67cbe9a136f833...</td>\n",
       "      <td>2022-08-30</td>\n",
       "      <td>2025-01-07 22:30:20.346000+00:00</td>\n",
       "      <td>2.4</td>\n",
       "      <td>9750.0</td>\n",
       "      <td>debt_collection</td>\n",
       "      <td>1d83f7f96a6a3a06b30bc683b94a428225fe072e60959f...</td>\n",
       "      <td>2022-08-29</td>\n",
       "    </tr>\n",
       "    <tr>\n",
       "      <th>3</th>\n",
       "      <td>2022-12-13</td>\n",
       "      <td>66fb058ba3d8436e498813f940534410a2cbe63bca8c1d...</td>\n",
       "      <td>0.0</td>\n",
       "      <td>0.15</td>\n",
       "      <td>7ab6fd45808f75f1288602bc268917bd67cbe9a136f833...</td>\n",
       "      <td>2022-08-30</td>\n",
       "      <td>2022-08-30 17:44:27.679729+00:00</td>\n",
       "      <td>2.4</td>\n",
       "      <td>9750.0</td>\n",
       "      <td>executed</td>\n",
       "      <td>1d83f7f96a6a3a06b30bc683b94a428225fe072e60959f...</td>\n",
       "      <td>2022-08-29</td>\n",
       "    </tr>\n",
       "    <tr>\n",
       "      <th>4</th>\n",
       "      <td>2022-12-13</td>\n",
       "      <td>66fb058ba3d8436e498813f940534410a2cbe63bca8c1d...</td>\n",
       "      <td>0.0</td>\n",
       "      <td>0.15</td>\n",
       "      <td>7ab6fd45808f75f1288602bc268917bd67cbe9a136f833...</td>\n",
       "      <td>2022-08-30</td>\n",
       "      <td>2022-10-10 12:42:46.269064+00:00</td>\n",
       "      <td>2.4</td>\n",
       "      <td>9750.0</td>\n",
       "      <td>executed</td>\n",
       "      <td>1d83f7f96a6a3a06b30bc683b94a428225fe072e60959f...</td>\n",
       "      <td>2022-08-29</td>\n",
       "    </tr>\n",
       "  </tbody>\n",
       "</table>\n",
       "</div>"
      ],
      "text/plain": [
       "        date                                            loan_id  \\\n",
       "0 2022-12-13  66fb058ba3d8436e498813f940534410a2cbe63bca8c1d...   \n",
       "1 2022-12-13  66fb058ba3d8436e498813f940534410a2cbe63bca8c1d...   \n",
       "2 2022-12-13  66fb058ba3d8436e498813f940534410a2cbe63bca8c1d...   \n",
       "3 2022-12-13  66fb058ba3d8436e498813f940534410a2cbe63bca8c1d...   \n",
       "4 2022-12-13  66fb058ba3d8436e498813f940534410a2cbe63bca8c1d...   \n",
       "\n",
       "   repayment_amount  billings_amount  \\\n",
       "0               0.0             0.15   \n",
       "1               0.0             0.15   \n",
       "2               0.0             0.15   \n",
       "3               0.0             0.15   \n",
       "4               0.0             0.15   \n",
       "\n",
       "                                             user_id created_at  \\\n",
       "0  7ab6fd45808f75f1288602bc268917bd67cbe9a136f833... 2022-08-30   \n",
       "1  7ab6fd45808f75f1288602bc268917bd67cbe9a136f833... 2022-08-30   \n",
       "2  7ab6fd45808f75f1288602bc268917bd67cbe9a136f833... 2022-08-30   \n",
       "3  7ab6fd45808f75f1288602bc268917bd67cbe9a136f833... 2022-08-30   \n",
       "4  7ab6fd45808f75f1288602bc268917bd67cbe9a136f833... 2022-08-30   \n",
       "\n",
       "                        updated_at  annual_interest  loan_amount  \\\n",
       "0 2022-12-27 18:06:03.902000+00:00              2.4       9750.0   \n",
       "1 2022-12-13 01:00:01.294000+00:00              2.4       9750.0   \n",
       "2 2025-01-07 22:30:20.346000+00:00              2.4       9750.0   \n",
       "3 2022-08-30 17:44:27.679729+00:00              2.4       9750.0   \n",
       "4 2022-10-10 12:42:46.269064+00:00              2.4       9750.0   \n",
       "\n",
       "            status                                              batch  \\\n",
       "0  debt_collection  1d83f7f96a6a3a06b30bc683b94a428225fe072e60959f...   \n",
       "1  debt_collection  1d83f7f96a6a3a06b30bc683b94a428225fe072e60959f...   \n",
       "2  debt_collection  1d83f7f96a6a3a06b30bc683b94a428225fe072e60959f...   \n",
       "3         executed  1d83f7f96a6a3a06b30bc683b94a428225fe072e60959f...   \n",
       "4         executed  1d83f7f96a6a3a06b30bc683b94a428225fe072e60959f...   \n",
       "\n",
       "  allowlisted_date  \n",
       "0       2022-08-29  \n",
       "1       2022-08-29  \n",
       "2       2022-08-29  \n",
       "3       2022-08-29  \n",
       "4       2022-08-29  "
      ]
     },
     "metadata": {},
     "output_type": "display_data"
    }
   ],
   "source": [
    "# Dataframe of loans with cohort information\n",
    "display(loans_and_cohort.head())"
   ]
  },
  {
   "cell_type": "code",
   "execution_count": 22,
   "id": "4c1661a1",
   "metadata": {},
   "outputs": [
    {
     "data": {
      "application/vnd.microsoft.datawrangler.viewer.v0+json": {
       "columns": [
        {
         "name": "index",
         "rawType": "int64",
         "type": "integer"
        },
        {
         "name": "date",
         "rawType": "datetime64[ns]",
         "type": "datetime"
        },
        {
         "name": "loan_id",
         "rawType": "object",
         "type": "string"
        },
        {
         "name": "repayment_amount",
         "rawType": "float64",
         "type": "float"
        },
        {
         "name": "billings_amount",
         "rawType": "float64",
         "type": "float"
        },
        {
         "name": "user_id",
         "rawType": "object",
         "type": "string"
        },
        {
         "name": "created_at",
         "rawType": "datetime64[ns]",
         "type": "datetime"
        },
        {
         "name": "updated_at",
         "rawType": "datetime64[ns, UTC]",
         "type": "unknown"
        },
        {
         "name": "annual_interest",
         "rawType": "float64",
         "type": "float"
        },
        {
         "name": "loan_amount",
         "rawType": "float64",
         "type": "float"
        },
        {
         "name": "status",
         "rawType": "object",
         "type": "string"
        },
        {
         "name": "batch",
         "rawType": "object",
         "type": "string"
        },
        {
         "name": "allowlisted_date",
         "rawType": "datetime64[ns]",
         "type": "datetime"
        }
       ],
       "ref": "55e2a03c-cccd-49dc-9cf7-0fda04908216",
       "rows": [
        [
         "0",
         "2022-12-13 00:00:00",
         "66fb058ba3d8436e498813f940534410a2cbe63bca8c1dc49d65b5aefcd6ee3c",
         "0.0",
         "0.15",
         "7ab6fd45808f75f1288602bc268917bd67cbe9a136f833ac51514b883582f746",
         "2022-08-30 00:00:00",
         "2022-12-27 18:06:03.902000+00:00",
         "2.4",
         "9750.0",
         "debt_collection",
         "1d83f7f96a6a3a06b30bc683b94a428225fe072e60959f3741fe1eac98731f61",
         "2022-08-29 00:00:00"
        ],
        [
         "1",
         "2022-12-13 00:00:00",
         "66fb058ba3d8436e498813f940534410a2cbe63bca8c1dc49d65b5aefcd6ee3c",
         "0.0",
         "0.15",
         "7ab6fd45808f75f1288602bc268917bd67cbe9a136f833ac51514b883582f746",
         "2022-08-30 00:00:00",
         "2022-12-13 01:00:01.294000+00:00",
         "2.4",
         "9750.0",
         "debt_collection",
         "1d83f7f96a6a3a06b30bc683b94a428225fe072e60959f3741fe1eac98731f61",
         "2022-08-29 00:00:00"
        ],
        [
         "2",
         "2022-12-13 00:00:00",
         "66fb058ba3d8436e498813f940534410a2cbe63bca8c1dc49d65b5aefcd6ee3c",
         "0.0",
         "0.15",
         "7ab6fd45808f75f1288602bc268917bd67cbe9a136f833ac51514b883582f746",
         "2022-08-30 00:00:00",
         "2025-01-07 22:30:20.346000+00:00",
         "2.4",
         "9750.0",
         "debt_collection",
         "1d83f7f96a6a3a06b30bc683b94a428225fe072e60959f3741fe1eac98731f61",
         "2022-08-29 00:00:00"
        ],
        [
         "3",
         "2022-12-13 00:00:00",
         "66fb058ba3d8436e498813f940534410a2cbe63bca8c1dc49d65b5aefcd6ee3c",
         "0.0",
         "0.15",
         "7ab6fd45808f75f1288602bc268917bd67cbe9a136f833ac51514b883582f746",
         "2022-08-30 00:00:00",
         "2022-08-30 17:44:27.679729+00:00",
         "2.4",
         "9750.0",
         "executed",
         "1d83f7f96a6a3a06b30bc683b94a428225fe072e60959f3741fe1eac98731f61",
         "2022-08-29 00:00:00"
        ],
        [
         "4",
         "2022-12-13 00:00:00",
         "66fb058ba3d8436e498813f940534410a2cbe63bca8c1dc49d65b5aefcd6ee3c",
         "0.0",
         "0.15",
         "7ab6fd45808f75f1288602bc268917bd67cbe9a136f833ac51514b883582f746",
         "2022-08-30 00:00:00",
         "2022-10-10 12:42:46.269064+00:00",
         "2.4",
         "9750.0",
         "executed",
         "1d83f7f96a6a3a06b30bc683b94a428225fe072e60959f3741fe1eac98731f61",
         "2022-08-29 00:00:00"
        ]
       ],
       "shape": {
        "columns": 12,
        "rows": 5
       }
      },
      "text/html": [
       "<div>\n",
       "<style scoped>\n",
       "    .dataframe tbody tr th:only-of-type {\n",
       "        vertical-align: middle;\n",
       "    }\n",
       "\n",
       "    .dataframe tbody tr th {\n",
       "        vertical-align: top;\n",
       "    }\n",
       "\n",
       "    .dataframe thead th {\n",
       "        text-align: right;\n",
       "    }\n",
       "</style>\n",
       "<table border=\"1\" class=\"dataframe\">\n",
       "  <thead>\n",
       "    <tr style=\"text-align: right;\">\n",
       "      <th></th>\n",
       "      <th>date</th>\n",
       "      <th>loan_id</th>\n",
       "      <th>repayment_amount</th>\n",
       "      <th>billings_amount</th>\n",
       "      <th>user_id</th>\n",
       "      <th>created_at</th>\n",
       "      <th>updated_at</th>\n",
       "      <th>annual_interest</th>\n",
       "      <th>loan_amount</th>\n",
       "      <th>status</th>\n",
       "      <th>batch</th>\n",
       "      <th>allowlisted_date</th>\n",
       "    </tr>\n",
       "  </thead>\n",
       "  <tbody>\n",
       "    <tr>\n",
       "      <th>0</th>\n",
       "      <td>2022-12-13</td>\n",
       "      <td>66fb058ba3d8436e498813f940534410a2cbe63bca8c1d...</td>\n",
       "      <td>0.0</td>\n",
       "      <td>0.15</td>\n",
       "      <td>7ab6fd45808f75f1288602bc268917bd67cbe9a136f833...</td>\n",
       "      <td>2022-08-30</td>\n",
       "      <td>2022-12-27 18:06:03.902000+00:00</td>\n",
       "      <td>2.4</td>\n",
       "      <td>9750.0</td>\n",
       "      <td>debt_collection</td>\n",
       "      <td>1d83f7f96a6a3a06b30bc683b94a428225fe072e60959f...</td>\n",
       "      <td>2022-08-29</td>\n",
       "    </tr>\n",
       "    <tr>\n",
       "      <th>1</th>\n",
       "      <td>2022-12-13</td>\n",
       "      <td>66fb058ba3d8436e498813f940534410a2cbe63bca8c1d...</td>\n",
       "      <td>0.0</td>\n",
       "      <td>0.15</td>\n",
       "      <td>7ab6fd45808f75f1288602bc268917bd67cbe9a136f833...</td>\n",
       "      <td>2022-08-30</td>\n",
       "      <td>2022-12-13 01:00:01.294000+00:00</td>\n",
       "      <td>2.4</td>\n",
       "      <td>9750.0</td>\n",
       "      <td>debt_collection</td>\n",
       "      <td>1d83f7f96a6a3a06b30bc683b94a428225fe072e60959f...</td>\n",
       "      <td>2022-08-29</td>\n",
       "    </tr>\n",
       "    <tr>\n",
       "      <th>2</th>\n",
       "      <td>2022-12-13</td>\n",
       "      <td>66fb058ba3d8436e498813f940534410a2cbe63bca8c1d...</td>\n",
       "      <td>0.0</td>\n",
       "      <td>0.15</td>\n",
       "      <td>7ab6fd45808f75f1288602bc268917bd67cbe9a136f833...</td>\n",
       "      <td>2022-08-30</td>\n",
       "      <td>2025-01-07 22:30:20.346000+00:00</td>\n",
       "      <td>2.4</td>\n",
       "      <td>9750.0</td>\n",
       "      <td>debt_collection</td>\n",
       "      <td>1d83f7f96a6a3a06b30bc683b94a428225fe072e60959f...</td>\n",
       "      <td>2022-08-29</td>\n",
       "    </tr>\n",
       "    <tr>\n",
       "      <th>3</th>\n",
       "      <td>2022-12-13</td>\n",
       "      <td>66fb058ba3d8436e498813f940534410a2cbe63bca8c1d...</td>\n",
       "      <td>0.0</td>\n",
       "      <td>0.15</td>\n",
       "      <td>7ab6fd45808f75f1288602bc268917bd67cbe9a136f833...</td>\n",
       "      <td>2022-08-30</td>\n",
       "      <td>2022-08-30 17:44:27.679729+00:00</td>\n",
       "      <td>2.4</td>\n",
       "      <td>9750.0</td>\n",
       "      <td>executed</td>\n",
       "      <td>1d83f7f96a6a3a06b30bc683b94a428225fe072e60959f...</td>\n",
       "      <td>2022-08-29</td>\n",
       "    </tr>\n",
       "    <tr>\n",
       "      <th>4</th>\n",
       "      <td>2022-12-13</td>\n",
       "      <td>66fb058ba3d8436e498813f940534410a2cbe63bca8c1d...</td>\n",
       "      <td>0.0</td>\n",
       "      <td>0.15</td>\n",
       "      <td>7ab6fd45808f75f1288602bc268917bd67cbe9a136f833...</td>\n",
       "      <td>2022-08-30</td>\n",
       "      <td>2022-10-10 12:42:46.269064+00:00</td>\n",
       "      <td>2.4</td>\n",
       "      <td>9750.0</td>\n",
       "      <td>executed</td>\n",
       "      <td>1d83f7f96a6a3a06b30bc683b94a428225fe072e60959f...</td>\n",
       "      <td>2022-08-29</td>\n",
       "    </tr>\n",
       "  </tbody>\n",
       "</table>\n",
       "</div>"
      ],
      "text/plain": [
       "        date                                            loan_id  \\\n",
       "0 2022-12-13  66fb058ba3d8436e498813f940534410a2cbe63bca8c1d...   \n",
       "1 2022-12-13  66fb058ba3d8436e498813f940534410a2cbe63bca8c1d...   \n",
       "2 2022-12-13  66fb058ba3d8436e498813f940534410a2cbe63bca8c1d...   \n",
       "3 2022-12-13  66fb058ba3d8436e498813f940534410a2cbe63bca8c1d...   \n",
       "4 2022-12-13  66fb058ba3d8436e498813f940534410a2cbe63bca8c1d...   \n",
       "\n",
       "   repayment_amount  billings_amount  \\\n",
       "0               0.0             0.15   \n",
       "1               0.0             0.15   \n",
       "2               0.0             0.15   \n",
       "3               0.0             0.15   \n",
       "4               0.0             0.15   \n",
       "\n",
       "                                             user_id created_at  \\\n",
       "0  7ab6fd45808f75f1288602bc268917bd67cbe9a136f833... 2022-08-30   \n",
       "1  7ab6fd45808f75f1288602bc268917bd67cbe9a136f833... 2022-08-30   \n",
       "2  7ab6fd45808f75f1288602bc268917bd67cbe9a136f833... 2022-08-30   \n",
       "3  7ab6fd45808f75f1288602bc268917bd67cbe9a136f833... 2022-08-30   \n",
       "4  7ab6fd45808f75f1288602bc268917bd67cbe9a136f833... 2022-08-30   \n",
       "\n",
       "                        updated_at  annual_interest  loan_amount  \\\n",
       "0 2022-12-27 18:06:03.902000+00:00              2.4       9750.0   \n",
       "1 2022-12-13 01:00:01.294000+00:00              2.4       9750.0   \n",
       "2 2025-01-07 22:30:20.346000+00:00              2.4       9750.0   \n",
       "3 2022-08-30 17:44:27.679729+00:00              2.4       9750.0   \n",
       "4 2022-10-10 12:42:46.269064+00:00              2.4       9750.0   \n",
       "\n",
       "            status                                              batch  \\\n",
       "0  debt_collection  1d83f7f96a6a3a06b30bc683b94a428225fe072e60959f...   \n",
       "1  debt_collection  1d83f7f96a6a3a06b30bc683b94a428225fe072e60959f...   \n",
       "2  debt_collection  1d83f7f96a6a3a06b30bc683b94a428225fe072e60959f...   \n",
       "3         executed  1d83f7f96a6a3a06b30bc683b94a428225fe072e60959f...   \n",
       "4         executed  1d83f7f96a6a3a06b30bc683b94a428225fe072e60959f...   \n",
       "\n",
       "  allowlisted_date  \n",
       "0       2022-08-29  \n",
       "1       2022-08-29  \n",
       "2       2022-08-29  \n",
       "3       2022-08-29  \n",
       "4       2022-08-29  "
      ]
     },
     "metadata": {},
     "output_type": "display_data"
    }
   ],
   "source": [
    "# Dataframe of repayments with loans and cohort information\n",
    "display(repayments_and_loans.head())"
   ]
  },
  {
   "cell_type": "markdown",
   "id": "150aeb00",
   "metadata": {},
   "source": [
    "Now, let's create three important columns:\n",
    "- **cohort_start:** the date when the user was allowlisted\n",
    "- **h_days:** the number of days since the cohort_start until the repayment date\n",
    "- **repayment_total:** the total amount repaid by the user, including both normal repayments and collections."
   ]
  },
  {
   "cell_type": "code",
   "execution_count": 23,
   "id": "8c6a3b50",
   "metadata": {},
   "outputs": [
    {
     "data": {
      "application/vnd.microsoft.datawrangler.viewer.v0+json": {
       "columns": [
        {
         "name": "index",
         "rawType": "int64",
         "type": "integer"
        },
        {
         "name": "date",
         "rawType": "datetime64[ns]",
         "type": "datetime"
        },
        {
         "name": "loan_id",
         "rawType": "object",
         "type": "string"
        },
        {
         "name": "repayment_amount",
         "rawType": "float64",
         "type": "float"
        },
        {
         "name": "billings_amount",
         "rawType": "float64",
         "type": "float"
        },
        {
         "name": "user_id",
         "rawType": "object",
         "type": "string"
        },
        {
         "name": "created_at",
         "rawType": "datetime64[ns]",
         "type": "datetime"
        },
        {
         "name": "updated_at",
         "rawType": "datetime64[ns, UTC]",
         "type": "unknown"
        },
        {
         "name": "annual_interest",
         "rawType": "float64",
         "type": "float"
        },
        {
         "name": "loan_amount",
         "rawType": "float64",
         "type": "float"
        },
        {
         "name": "status",
         "rawType": "object",
         "type": "string"
        },
        {
         "name": "batch",
         "rawType": "object",
         "type": "string"
        },
        {
         "name": "allowlisted_date",
         "rawType": "datetime64[ns]",
         "type": "datetime"
        },
        {
         "name": "cohort_start",
         "rawType": "datetime64[ns]",
         "type": "datetime"
        },
        {
         "name": "h_days",
         "rawType": "int64",
         "type": "integer"
        },
        {
         "name": "repayment_total",
         "rawType": "float64",
         "type": "float"
        }
       ],
       "ref": "e8c41475-42ad-40c8-82f2-f9a9bd586421",
       "rows": [
        [
         "0",
         "2022-12-13 00:00:00",
         "66fb058ba3d8436e498813f940534410a2cbe63bca8c1dc49d65b5aefcd6ee3c",
         "0.0",
         "0.15",
         "7ab6fd45808f75f1288602bc268917bd67cbe9a136f833ac51514b883582f746",
         "2022-08-30 00:00:00",
         "2022-12-27 18:06:03.902000+00:00",
         "2.4",
         "9750.0",
         "debt_collection",
         "1d83f7f96a6a3a06b30bc683b94a428225fe072e60959f3741fe1eac98731f61",
         "2022-08-29 00:00:00",
         "2022-08-29 00:00:00",
         "106",
         "0.15"
        ],
        [
         "1",
         "2022-12-13 00:00:00",
         "66fb058ba3d8436e498813f940534410a2cbe63bca8c1dc49d65b5aefcd6ee3c",
         "0.0",
         "0.15",
         "7ab6fd45808f75f1288602bc268917bd67cbe9a136f833ac51514b883582f746",
         "2022-08-30 00:00:00",
         "2022-12-13 01:00:01.294000+00:00",
         "2.4",
         "9750.0",
         "debt_collection",
         "1d83f7f96a6a3a06b30bc683b94a428225fe072e60959f3741fe1eac98731f61",
         "2022-08-29 00:00:00",
         "2022-08-29 00:00:00",
         "106",
         "0.15"
        ],
        [
         "2",
         "2022-12-13 00:00:00",
         "66fb058ba3d8436e498813f940534410a2cbe63bca8c1dc49d65b5aefcd6ee3c",
         "0.0",
         "0.15",
         "7ab6fd45808f75f1288602bc268917bd67cbe9a136f833ac51514b883582f746",
         "2022-08-30 00:00:00",
         "2025-01-07 22:30:20.346000+00:00",
         "2.4",
         "9750.0",
         "debt_collection",
         "1d83f7f96a6a3a06b30bc683b94a428225fe072e60959f3741fe1eac98731f61",
         "2022-08-29 00:00:00",
         "2022-08-29 00:00:00",
         "106",
         "0.15"
        ],
        [
         "3",
         "2022-12-13 00:00:00",
         "66fb058ba3d8436e498813f940534410a2cbe63bca8c1dc49d65b5aefcd6ee3c",
         "0.0",
         "0.15",
         "7ab6fd45808f75f1288602bc268917bd67cbe9a136f833ac51514b883582f746",
         "2022-08-30 00:00:00",
         "2022-08-30 17:44:27.679729+00:00",
         "2.4",
         "9750.0",
         "executed",
         "1d83f7f96a6a3a06b30bc683b94a428225fe072e60959f3741fe1eac98731f61",
         "2022-08-29 00:00:00",
         "2022-08-29 00:00:00",
         "106",
         "0.15"
        ],
        [
         "4",
         "2022-12-13 00:00:00",
         "66fb058ba3d8436e498813f940534410a2cbe63bca8c1dc49d65b5aefcd6ee3c",
         "0.0",
         "0.15",
         "7ab6fd45808f75f1288602bc268917bd67cbe9a136f833ac51514b883582f746",
         "2022-08-30 00:00:00",
         "2022-10-10 12:42:46.269064+00:00",
         "2.4",
         "9750.0",
         "executed",
         "1d83f7f96a6a3a06b30bc683b94a428225fe072e60959f3741fe1eac98731f61",
         "2022-08-29 00:00:00",
         "2022-08-29 00:00:00",
         "106",
         "0.15"
        ]
       ],
       "shape": {
        "columns": 15,
        "rows": 5
       }
      },
      "text/html": [
       "<div>\n",
       "<style scoped>\n",
       "    .dataframe tbody tr th:only-of-type {\n",
       "        vertical-align: middle;\n",
       "    }\n",
       "\n",
       "    .dataframe tbody tr th {\n",
       "        vertical-align: top;\n",
       "    }\n",
       "\n",
       "    .dataframe thead th {\n",
       "        text-align: right;\n",
       "    }\n",
       "</style>\n",
       "<table border=\"1\" class=\"dataframe\">\n",
       "  <thead>\n",
       "    <tr style=\"text-align: right;\">\n",
       "      <th></th>\n",
       "      <th>date</th>\n",
       "      <th>loan_id</th>\n",
       "      <th>repayment_amount</th>\n",
       "      <th>billings_amount</th>\n",
       "      <th>user_id</th>\n",
       "      <th>created_at</th>\n",
       "      <th>updated_at</th>\n",
       "      <th>annual_interest</th>\n",
       "      <th>loan_amount</th>\n",
       "      <th>status</th>\n",
       "      <th>batch</th>\n",
       "      <th>allowlisted_date</th>\n",
       "      <th>cohort_start</th>\n",
       "      <th>h_days</th>\n",
       "      <th>repayment_total</th>\n",
       "    </tr>\n",
       "  </thead>\n",
       "  <tbody>\n",
       "    <tr>\n",
       "      <th>0</th>\n",
       "      <td>2022-12-13</td>\n",
       "      <td>66fb058ba3d8436e498813f940534410a2cbe63bca8c1d...</td>\n",
       "      <td>0.0</td>\n",
       "      <td>0.15</td>\n",
       "      <td>7ab6fd45808f75f1288602bc268917bd67cbe9a136f833...</td>\n",
       "      <td>2022-08-30</td>\n",
       "      <td>2022-12-27 18:06:03.902000+00:00</td>\n",
       "      <td>2.4</td>\n",
       "      <td>9750.0</td>\n",
       "      <td>debt_collection</td>\n",
       "      <td>1d83f7f96a6a3a06b30bc683b94a428225fe072e60959f...</td>\n",
       "      <td>2022-08-29</td>\n",
       "      <td>2022-08-29</td>\n",
       "      <td>106</td>\n",
       "      <td>0.15</td>\n",
       "    </tr>\n",
       "    <tr>\n",
       "      <th>1</th>\n",
       "      <td>2022-12-13</td>\n",
       "      <td>66fb058ba3d8436e498813f940534410a2cbe63bca8c1d...</td>\n",
       "      <td>0.0</td>\n",
       "      <td>0.15</td>\n",
       "      <td>7ab6fd45808f75f1288602bc268917bd67cbe9a136f833...</td>\n",
       "      <td>2022-08-30</td>\n",
       "      <td>2022-12-13 01:00:01.294000+00:00</td>\n",
       "      <td>2.4</td>\n",
       "      <td>9750.0</td>\n",
       "      <td>debt_collection</td>\n",
       "      <td>1d83f7f96a6a3a06b30bc683b94a428225fe072e60959f...</td>\n",
       "      <td>2022-08-29</td>\n",
       "      <td>2022-08-29</td>\n",
       "      <td>106</td>\n",
       "      <td>0.15</td>\n",
       "    </tr>\n",
       "    <tr>\n",
       "      <th>2</th>\n",
       "      <td>2022-12-13</td>\n",
       "      <td>66fb058ba3d8436e498813f940534410a2cbe63bca8c1d...</td>\n",
       "      <td>0.0</td>\n",
       "      <td>0.15</td>\n",
       "      <td>7ab6fd45808f75f1288602bc268917bd67cbe9a136f833...</td>\n",
       "      <td>2022-08-30</td>\n",
       "      <td>2025-01-07 22:30:20.346000+00:00</td>\n",
       "      <td>2.4</td>\n",
       "      <td>9750.0</td>\n",
       "      <td>debt_collection</td>\n",
       "      <td>1d83f7f96a6a3a06b30bc683b94a428225fe072e60959f...</td>\n",
       "      <td>2022-08-29</td>\n",
       "      <td>2022-08-29</td>\n",
       "      <td>106</td>\n",
       "      <td>0.15</td>\n",
       "    </tr>\n",
       "    <tr>\n",
       "      <th>3</th>\n",
       "      <td>2022-12-13</td>\n",
       "      <td>66fb058ba3d8436e498813f940534410a2cbe63bca8c1d...</td>\n",
       "      <td>0.0</td>\n",
       "      <td>0.15</td>\n",
       "      <td>7ab6fd45808f75f1288602bc268917bd67cbe9a136f833...</td>\n",
       "      <td>2022-08-30</td>\n",
       "      <td>2022-08-30 17:44:27.679729+00:00</td>\n",
       "      <td>2.4</td>\n",
       "      <td>9750.0</td>\n",
       "      <td>executed</td>\n",
       "      <td>1d83f7f96a6a3a06b30bc683b94a428225fe072e60959f...</td>\n",
       "      <td>2022-08-29</td>\n",
       "      <td>2022-08-29</td>\n",
       "      <td>106</td>\n",
       "      <td>0.15</td>\n",
       "    </tr>\n",
       "    <tr>\n",
       "      <th>4</th>\n",
       "      <td>2022-12-13</td>\n",
       "      <td>66fb058ba3d8436e498813f940534410a2cbe63bca8c1d...</td>\n",
       "      <td>0.0</td>\n",
       "      <td>0.15</td>\n",
       "      <td>7ab6fd45808f75f1288602bc268917bd67cbe9a136f833...</td>\n",
       "      <td>2022-08-30</td>\n",
       "      <td>2022-10-10 12:42:46.269064+00:00</td>\n",
       "      <td>2.4</td>\n",
       "      <td>9750.0</td>\n",
       "      <td>executed</td>\n",
       "      <td>1d83f7f96a6a3a06b30bc683b94a428225fe072e60959f...</td>\n",
       "      <td>2022-08-29</td>\n",
       "      <td>2022-08-29</td>\n",
       "      <td>106</td>\n",
       "      <td>0.15</td>\n",
       "    </tr>\n",
       "  </tbody>\n",
       "</table>\n",
       "</div>"
      ],
      "text/plain": [
       "        date                                            loan_id  \\\n",
       "0 2022-12-13  66fb058ba3d8436e498813f940534410a2cbe63bca8c1d...   \n",
       "1 2022-12-13  66fb058ba3d8436e498813f940534410a2cbe63bca8c1d...   \n",
       "2 2022-12-13  66fb058ba3d8436e498813f940534410a2cbe63bca8c1d...   \n",
       "3 2022-12-13  66fb058ba3d8436e498813f940534410a2cbe63bca8c1d...   \n",
       "4 2022-12-13  66fb058ba3d8436e498813f940534410a2cbe63bca8c1d...   \n",
       "\n",
       "   repayment_amount  billings_amount  \\\n",
       "0               0.0             0.15   \n",
       "1               0.0             0.15   \n",
       "2               0.0             0.15   \n",
       "3               0.0             0.15   \n",
       "4               0.0             0.15   \n",
       "\n",
       "                                             user_id created_at  \\\n",
       "0  7ab6fd45808f75f1288602bc268917bd67cbe9a136f833... 2022-08-30   \n",
       "1  7ab6fd45808f75f1288602bc268917bd67cbe9a136f833... 2022-08-30   \n",
       "2  7ab6fd45808f75f1288602bc268917bd67cbe9a136f833... 2022-08-30   \n",
       "3  7ab6fd45808f75f1288602bc268917bd67cbe9a136f833... 2022-08-30   \n",
       "4  7ab6fd45808f75f1288602bc268917bd67cbe9a136f833... 2022-08-30   \n",
       "\n",
       "                        updated_at  annual_interest  loan_amount  \\\n",
       "0 2022-12-27 18:06:03.902000+00:00              2.4       9750.0   \n",
       "1 2022-12-13 01:00:01.294000+00:00              2.4       9750.0   \n",
       "2 2025-01-07 22:30:20.346000+00:00              2.4       9750.0   \n",
       "3 2022-08-30 17:44:27.679729+00:00              2.4       9750.0   \n",
       "4 2022-10-10 12:42:46.269064+00:00              2.4       9750.0   \n",
       "\n",
       "            status                                              batch  \\\n",
       "0  debt_collection  1d83f7f96a6a3a06b30bc683b94a428225fe072e60959f...   \n",
       "1  debt_collection  1d83f7f96a6a3a06b30bc683b94a428225fe072e60959f...   \n",
       "2  debt_collection  1d83f7f96a6a3a06b30bc683b94a428225fe072e60959f...   \n",
       "3         executed  1d83f7f96a6a3a06b30bc683b94a428225fe072e60959f...   \n",
       "4         executed  1d83f7f96a6a3a06b30bc683b94a428225fe072e60959f...   \n",
       "\n",
       "  allowlisted_date cohort_start  h_days  repayment_total  \n",
       "0       2022-08-29   2022-08-29     106             0.15  \n",
       "1       2022-08-29   2022-08-29     106             0.15  \n",
       "2       2022-08-29   2022-08-29     106             0.15  \n",
       "3       2022-08-29   2022-08-29     106             0.15  \n",
       "4       2022-08-29   2022-08-29     106             0.15  "
      ]
     },
     "metadata": {},
     "output_type": "display_data"
    }
   ],
   "source": [
    "from src.data_loading import prepare_roi_columns\n",
    "\n",
    "# Prepare additional columns for ROI calculations\n",
    "repayments_and_loans = prepare_roi_columns(repayments_and_loans)\n",
    "\n",
    "display(repayments_and_loans.head())"
   ]
  },
  {
   "cell_type": "markdown",
   "id": "41a92dd3",
   "metadata": {},
   "source": [
    "Now, we need to compute the loan amount per batch."
   ]
  },
  {
   "cell_type": "code",
   "execution_count": 24,
   "id": "f64ede3e",
   "metadata": {},
   "outputs": [
    {
     "data": {
      "application/vnd.microsoft.datawrangler.viewer.v0+json": {
       "columns": [
        {
         "name": "batch",
         "rawType": "object",
         "type": "string"
        },
        {
         "name": "cohort_principal",
         "rawType": "float64",
         "type": "float"
        }
       ],
       "ref": "49c73900-4944-43dc-9f8d-b003efd692b4",
       "rows": [
        [
         "1aa97f249a5324861f6c93ab68cfde742ed9ff35dd3e2157841bfff5fa732465",
         "2691900.82"
        ],
        [
         "1d83f7f96a6a3a06b30bc683b94a428225fe072e60959f3741fe1eac98731f61",
         "84339088.16"
        ],
        [
         "22bda9c4992b30b6b347e22c27f9e59fb9ce99f1072389373820e5ed747bdd71",
         "114612279.68"
        ],
        [
         "4398a3e49d78f4b1b816ced315f34a5da5e830b1f53640b4e0e049e7a95e8e7f",
         "9982617.65"
        ],
        [
         "5bcbc3d39978a3ff54a2671faf77e3e43c798faf53e98f6d27810f35a57346a1",
         "51778746.24"
        ],
        [
         "9a65c2254d6d2b240f353b95df7061928c7a9869417325770f461463271a3b65",
         "30141345.19"
        ],
        [
         "e6a25e071c60243b0c51c698db5302b54ef61338c6747a79598215f4d982028b",
         "12140495.37"
        ]
       ],
       "shape": {
        "columns": 1,
        "rows": 7
       }
      },
      "text/plain": [
       "batch\n",
       "1aa97f249a5324861f6c93ab68cfde742ed9ff35dd3e2157841bfff5fa732465    2.691901e+06\n",
       "1d83f7f96a6a3a06b30bc683b94a428225fe072e60959f3741fe1eac98731f61    8.433909e+07\n",
       "22bda9c4992b30b6b347e22c27f9e59fb9ce99f1072389373820e5ed747bdd71    1.146123e+08\n",
       "4398a3e49d78f4b1b816ced315f34a5da5e830b1f53640b4e0e049e7a95e8e7f    9.982618e+06\n",
       "5bcbc3d39978a3ff54a2671faf77e3e43c798faf53e98f6d27810f35a57346a1    5.177875e+07\n",
       "9a65c2254d6d2b240f353b95df7061928c7a9869417325770f461463271a3b65    3.014135e+07\n",
       "e6a25e071c60243b0c51c698db5302b54ef61338c6747a79598215f4d982028b    1.214050e+07\n",
       "Name: cohort_principal, dtype: float64"
      ]
     },
     "metadata": {},
     "output_type": "display_data"
    }
   ],
   "source": [
    "cohort_principal = loans_and_cohort.groupby(\"batch\")[\"loan_amount\"].sum().rename(\"cohort_principal\")\n",
    "display(cohort_principal)"
   ]
  },
  {
   "cell_type": "markdown",
   "id": "f585e814",
   "metadata": {},
   "source": [
    "Now, let's group the loans by batch and days since cohort start, summing the repayments. Then, we will compute the cumulative sum of repayments over time for each batch."
   ]
  },
  {
   "cell_type": "code",
   "execution_count": 38,
   "id": "523dfb14",
   "metadata": {},
   "outputs": [],
   "source": [
    "repayment_curve = (\n",
    "    repayments_and_loans.groupby(\n",
    "        [\"batch\", \"h_days\"]\n",
    "    )[\"repayment_total\"]\n",
    "    .sum()\n",
    "    .groupby(level=0)\n",
    "    .cumsum()\n",
    "    .reset_index()\n",
    ")"
   ]
  },
  {
   "cell_type": "markdown",
   "id": "df020f12",
   "metadata": {},
   "source": [
    "Finally, we will merge the cumulative repayments with the principal amounts to calculate the ROI for each cohort over time."
   ]
  },
  {
   "cell_type": "code",
   "execution_count": 39,
   "id": "53e53e73",
   "metadata": {},
   "outputs": [
    {
     "data": {
      "application/vnd.microsoft.datawrangler.viewer.v0+json": {
       "columns": [
        {
         "name": "index",
         "rawType": "int64",
         "type": "integer"
        },
        {
         "name": "batch",
         "rawType": "object",
         "type": "string"
        },
        {
         "name": "h_days",
         "rawType": "int64",
         "type": "integer"
        },
        {
         "name": "repayment_total",
         "rawType": "float64",
         "type": "float"
        },
        {
         "name": "cohort_principal",
         "rawType": "float64",
         "type": "float"
        },
        {
         "name": "ROI",
         "rawType": "float64",
         "type": "float"
        }
       ],
       "ref": "276a0396-f021-4422-8c5d-c05c42072bb5",
       "rows": [
        [
         "0",
         "1aa97f249a5324861f6c93ab68cfde742ed9ff35dd3e2157841bfff5fa732465",
         "0",
         "602.64",
         "2691900.82",
         "-0.9997761284533506"
        ],
        [
         "1",
         "1aa97f249a5324861f6c93ab68cfde742ed9ff35dd3e2157841bfff5fa732465",
         "1",
         "2676.6099999999997",
         "2691900.82",
         "-0.9990056803058591"
        ],
        [
         "2",
         "1aa97f249a5324861f6c93ab68cfde742ed9ff35dd3e2157841bfff5fa732465",
         "2",
         "10170.009999999998",
         "2691900.82",
         "-0.9962219967673251"
        ],
        [
         "3",
         "1aa97f249a5324861f6c93ab68cfde742ed9ff35dd3e2157841bfff5fa732465",
         "3",
         "11044.88",
         "2691900.82",
         "-0.995896995937614"
        ],
        [
         "4",
         "1aa97f249a5324861f6c93ab68cfde742ed9ff35dd3e2157841bfff5fa732465",
         "4",
         "21928.609107999997",
         "2691900.82",
         "-0.9918538569678804"
        ],
        [
         "5",
         "1aa97f249a5324861f6c93ab68cfde742ed9ff35dd3e2157841bfff5fa732465",
         "5",
         "31932.031863999997",
         "2691900.82",
         "-0.9881377383495132"
        ],
        [
         "6",
         "1aa97f249a5324861f6c93ab68cfde742ed9ff35dd3e2157841bfff5fa732465",
         "6",
         "37897.900812",
         "2691900.82",
         "-0.98592150924342"
        ],
        [
         "7",
         "1aa97f249a5324861f6c93ab68cfde742ed9ff35dd3e2157841bfff5fa732465",
         "7",
         "40596.892908",
         "2691900.82",
         "-0.9849188749427997"
        ],
        [
         "8",
         "1aa97f249a5324861f6c93ab68cfde742ed9ff35dd3e2157841bfff5fa732465",
         "8",
         "49112.18808",
         "2691900.82",
         "-0.981755572970924"
        ],
        [
         "9",
         "1aa97f249a5324861f6c93ab68cfde742ed9ff35dd3e2157841bfff5fa732465",
         "9",
         "56291.72386",
         "2691900.82",
         "-0.9790884851916647"
        ]
       ],
       "shape": {
        "columns": 5,
        "rows": 10
       }
      },
      "text/html": [
       "<div>\n",
       "<style scoped>\n",
       "    .dataframe tbody tr th:only-of-type {\n",
       "        vertical-align: middle;\n",
       "    }\n",
       "\n",
       "    .dataframe tbody tr th {\n",
       "        vertical-align: top;\n",
       "    }\n",
       "\n",
       "    .dataframe thead th {\n",
       "        text-align: right;\n",
       "    }\n",
       "</style>\n",
       "<table border=\"1\" class=\"dataframe\">\n",
       "  <thead>\n",
       "    <tr style=\"text-align: right;\">\n",
       "      <th></th>\n",
       "      <th>batch</th>\n",
       "      <th>h_days</th>\n",
       "      <th>repayment_total</th>\n",
       "      <th>cohort_principal</th>\n",
       "      <th>ROI</th>\n",
       "    </tr>\n",
       "  </thead>\n",
       "  <tbody>\n",
       "    <tr>\n",
       "      <th>0</th>\n",
       "      <td>1aa97f249a5324861f6c93ab68cfde742ed9ff35dd3e21...</td>\n",
       "      <td>0</td>\n",
       "      <td>602.640000</td>\n",
       "      <td>2691900.82</td>\n",
       "      <td>-0.999776</td>\n",
       "    </tr>\n",
       "    <tr>\n",
       "      <th>1</th>\n",
       "      <td>1aa97f249a5324861f6c93ab68cfde742ed9ff35dd3e21...</td>\n",
       "      <td>1</td>\n",
       "      <td>2676.610000</td>\n",
       "      <td>2691900.82</td>\n",
       "      <td>-0.999006</td>\n",
       "    </tr>\n",
       "    <tr>\n",
       "      <th>2</th>\n",
       "      <td>1aa97f249a5324861f6c93ab68cfde742ed9ff35dd3e21...</td>\n",
       "      <td>2</td>\n",
       "      <td>10170.010000</td>\n",
       "      <td>2691900.82</td>\n",
       "      <td>-0.996222</td>\n",
       "    </tr>\n",
       "    <tr>\n",
       "      <th>3</th>\n",
       "      <td>1aa97f249a5324861f6c93ab68cfde742ed9ff35dd3e21...</td>\n",
       "      <td>3</td>\n",
       "      <td>11044.880000</td>\n",
       "      <td>2691900.82</td>\n",
       "      <td>-0.995897</td>\n",
       "    </tr>\n",
       "    <tr>\n",
       "      <th>4</th>\n",
       "      <td>1aa97f249a5324861f6c93ab68cfde742ed9ff35dd3e21...</td>\n",
       "      <td>4</td>\n",
       "      <td>21928.609108</td>\n",
       "      <td>2691900.82</td>\n",
       "      <td>-0.991854</td>\n",
       "    </tr>\n",
       "    <tr>\n",
       "      <th>5</th>\n",
       "      <td>1aa97f249a5324861f6c93ab68cfde742ed9ff35dd3e21...</td>\n",
       "      <td>5</td>\n",
       "      <td>31932.031864</td>\n",
       "      <td>2691900.82</td>\n",
       "      <td>-0.988138</td>\n",
       "    </tr>\n",
       "    <tr>\n",
       "      <th>6</th>\n",
       "      <td>1aa97f249a5324861f6c93ab68cfde742ed9ff35dd3e21...</td>\n",
       "      <td>6</td>\n",
       "      <td>37897.900812</td>\n",
       "      <td>2691900.82</td>\n",
       "      <td>-0.985922</td>\n",
       "    </tr>\n",
       "    <tr>\n",
       "      <th>7</th>\n",
       "      <td>1aa97f249a5324861f6c93ab68cfde742ed9ff35dd3e21...</td>\n",
       "      <td>7</td>\n",
       "      <td>40596.892908</td>\n",
       "      <td>2691900.82</td>\n",
       "      <td>-0.984919</td>\n",
       "    </tr>\n",
       "    <tr>\n",
       "      <th>8</th>\n",
       "      <td>1aa97f249a5324861f6c93ab68cfde742ed9ff35dd3e21...</td>\n",
       "      <td>8</td>\n",
       "      <td>49112.188080</td>\n",
       "      <td>2691900.82</td>\n",
       "      <td>-0.981756</td>\n",
       "    </tr>\n",
       "    <tr>\n",
       "      <th>9</th>\n",
       "      <td>1aa97f249a5324861f6c93ab68cfde742ed9ff35dd3e21...</td>\n",
       "      <td>9</td>\n",
       "      <td>56291.723860</td>\n",
       "      <td>2691900.82</td>\n",
       "      <td>-0.979088</td>\n",
       "    </tr>\n",
       "  </tbody>\n",
       "</table>\n",
       "</div>"
      ],
      "text/plain": [
       "                                               batch  h_days  repayment_total  \\\n",
       "0  1aa97f249a5324861f6c93ab68cfde742ed9ff35dd3e21...       0       602.640000   \n",
       "1  1aa97f249a5324861f6c93ab68cfde742ed9ff35dd3e21...       1      2676.610000   \n",
       "2  1aa97f249a5324861f6c93ab68cfde742ed9ff35dd3e21...       2     10170.010000   \n",
       "3  1aa97f249a5324861f6c93ab68cfde742ed9ff35dd3e21...       3     11044.880000   \n",
       "4  1aa97f249a5324861f6c93ab68cfde742ed9ff35dd3e21...       4     21928.609108   \n",
       "5  1aa97f249a5324861f6c93ab68cfde742ed9ff35dd3e21...       5     31932.031864   \n",
       "6  1aa97f249a5324861f6c93ab68cfde742ed9ff35dd3e21...       6     37897.900812   \n",
       "7  1aa97f249a5324861f6c93ab68cfde742ed9ff35dd3e21...       7     40596.892908   \n",
       "8  1aa97f249a5324861f6c93ab68cfde742ed9ff35dd3e21...       8     49112.188080   \n",
       "9  1aa97f249a5324861f6c93ab68cfde742ed9ff35dd3e21...       9     56291.723860   \n",
       "\n",
       "   cohort_principal       ROI  \n",
       "0        2691900.82 -0.999776  \n",
       "1        2691900.82 -0.999006  \n",
       "2        2691900.82 -0.996222  \n",
       "3        2691900.82 -0.995897  \n",
       "4        2691900.82 -0.991854  \n",
       "5        2691900.82 -0.988138  \n",
       "6        2691900.82 -0.985922  \n",
       "7        2691900.82 -0.984919  \n",
       "8        2691900.82 -0.981756  \n",
       "9        2691900.82 -0.979088  "
      ]
     },
     "metadata": {},
     "output_type": "display_data"
    }
   ],
   "source": [
    "\n",
    "repayment_curve = repayment_curve.merge(cohort_principal, on=\"batch\")\n",
    "repayment_curve[\"ROI\"] = repayment_curve[\"repayment_total\"] / repayment_curve[\"cohort_principal\"] - 1\n",
    "\n",
    "display(repayment_curve.head(10))"
   ]
  },
  {
   "cell_type": "markdown",
   "id": "944183a3",
   "metadata": {},
   "source": [
    "Now, we can iterate over each batch to plot the ROI curves."
   ]
  },
  {
   "cell_type": "code",
   "execution_count": 54,
   "id": "9fc13173",
   "metadata": {},
   "outputs": [
    {
     "data": {
      "image/png": "[encoded data removed]",
      "text/plain": [
       "<Figure size 640x480 with 1 Axes>"
      ]
     },
     "metadata": {},
     "output_type": "display_data"
    }
   ],
   "source": [
    "import matplotlib.pyplot as plt\n",
    "\n",
    "for batch, g in repayment_curve.groupby(\"batch\"):\n",
    "\n",
    "    plt.plot(g[\"h_days\"], g[\"ROI\"], label=f\"Cohort {batch[:10]}...\")\n",
    "\n",
    "plt.title(\"ROI by Cohort\")\n",
    "plt.xlabel(\"H (days since cohort start)\")\n",
    "plt.ylabel(\"ROI\")\n",
    "plt.grid(which='both', axis='x')\n",
    "plt.axhline(0, color='black', linestyle='--', linewidth=0.8)\n",
    "plt.legend(bbox_to_anchor=(1.05, 1), loc='upper left')\n",
    "plt.show()"
   ]
  },
  {
   "cell_type": "markdown",
   "id": "349701e7",
   "metadata": {},
   "source": [
    "## Questions to answer, facts, and notes"
   ]
  },
  {
   "cell_type": "markdown",
   "id": "03838090",
   "metadata": {},
   "source": [
    "**Facts**\n",
    "- 1 - the repayment is not acumulative.\n",
    "- 2 - alguns usuários não possuem empréstimos ativos, alguns batchs inteiros não possuem empréstimos.\n",
    "\n",
    "**Questions**\n",
    "- 1 - todos os emprestimos de um cohort começam a partir do inicio dele?"
   ]
  },
  {
   "cell_type": "code",
   "execution_count": null,
   "id": "4b488338",
   "metadata": {},
   "outputs": [],
   "source": []
  }
 ],
 "metadata": {
  "kernelspec": {
   "display_name": "case-ds-cloud-walk",
   "language": "python",
   "name": "python3"
  },
  "language_info": {
   "codemirror_mode": {
    "name": "ipython",
    "version": 3
   },
   "file_extension": ".py",
   "mimetype": "text/x-python",
   "name": "python",
   "nbconvert_exporter": "python",
   "pygments_lexer": "ipython3",
   "version": "3.12.6"
  }
 },
 "nbformat": 4,
 "nbformat_minor": 5
}
