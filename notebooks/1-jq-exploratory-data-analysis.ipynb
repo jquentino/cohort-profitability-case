{
 "cells": [
  {
   "cell_type": "code",
   "execution_count": 1,
   "id": "802e9f2e",
   "metadata": {},
   "outputs": [],
   "source": [
    "import sys\n",
    "import pandas as pd\n",
    "sys.path.append(\"..\")\n",
    "\n",
    "%load_ext autoreload\n",
    "%autoreload 2"
   ]
  },
  {
   "cell_type": "markdown",
   "id": "398f390c",
   "metadata": {},
   "source": [
    "# Exploratory Data Analysis"
   ]
  },
  {
   "cell_type": "markdown",
   "id": "5fdf557c",
   "metadata": {},
   "source": [
    "\n",
    "## Cohort ROI - Mathematical Formulation\n",
    "\n",
    "We define a **cohort** $c$, created at time $t=0$. For each loan $i \\in c$:\n",
    "\n",
    "- $L_i $: principal loan amount granted.  \n",
    "- $R_i(t) $: cumulative repayments (including normal repayments and collections) up to time $t$.  \n",
    "- $L_i$ : amount of loan $i$.\n",
    "\n",
    "The **net cash flow** $F_i$ of loan $i$ up to time $t$ is:\n",
    "\n",
    "$$\n",
    "F_i(t) = R_i(t) - L_i\n",
    "$$\n",
    "\n",
    "The **net cash flow of cohort $c$** up to time $t$ is:\n",
    "\n",
    "$$\n",
    "F_c(t) = \\sum_{i \\in c} F_i(t) = \\sum_{i \\in c} \\big(R_i(t) - L_i\\big)\n",
    "$$\n",
    "\n",
    "The **Return on Investment (ROI)** for cohort $c$ up to time $t$ is defined as:\n",
    "\n",
    "$$\n",
    "ROI_c(t) = \\frac{F_c(t)}{\\sum_{i \\in c} L_i}\n",
    "$$\n",
    "\n",
    "or equivalently:\n",
    "\n",
    "$$\n",
    "ROI_c(t) = \\frac{\\sum_{i \\in c} R_i(t)}{\\sum_{i \\in c} L_i} - 1\n",
    "$$\n",
    "\n",
    "### Properties\n",
    "\n",
    "- At the start ($t=0$), repayments are zero, so $ROI_c(0) = -1$.  \n",
    "- As repayments occur, $ROI_c(t)$ increases.  \n",
    "- If $ROI_c(t) > 0$, the cohort has become profitable at horizon $t$.  "
   ]
  },
  {
   "cell_type": "markdown",
   "id": "5777d60b",
   "metadata": {},
   "source": [
    "## Computing ROI curves"
   ]
  },
  {
   "cell_type": "markdown",
   "id": "4ae440ac",
   "metadata": {},
   "source": [
    "The initial step involves creating a consolidated table that combines repayment data, loan details, and batch identifiers. This comprehensive table will enable us to group repayments by batch and subsequently calculate the Return on Investment (ROI) curves for each cohort."
   ]
  },
  {
   "cell_type": "code",
   "execution_count": 2,
   "id": "0ffa2289",
   "metadata": {},
   "outputs": [],
   "source": [
    "from src.data_manipulation import load_data\n",
    "\n",
    "# Load and prepare all data\n",
    "allowlist, loans, repayments, loans_and_cohort, repayments_and_loans = load_data(\"../database.db\")"
   ]
  },
  {
   "cell_type": "code",
   "execution_count": 3,
   "id": "a43550d7",
   "metadata": {},
   "outputs": [
    {
     "data": {
      "application/vnd.microsoft.datawrangler.viewer.v0+json": {
       "columns": [
        {
         "name": "index",
         "rawType": "int64",
         "type": "integer"
        },
        {
         "name": "loan_id",
         "rawType": "object",
         "type": "string"
        },
        {
         "name": "user_id",
         "rawType": "object",
         "type": "string"
        },
        {
         "name": "created_at",
         "rawType": "datetime64[ns]",
         "type": "datetime"
        },
        {
         "name": "updated_at",
         "rawType": "datetime64[ns, UTC]",
         "type": "unknown"
        },
        {
         "name": "annual_interest",
         "rawType": "float64",
         "type": "float"
        },
        {
         "name": "loan_amount",
         "rawType": "float64",
         "type": "float"
        },
        {
         "name": "status",
         "rawType": "object",
         "type": "string"
        },
        {
         "name": "batch",
         "rawType": "object",
         "type": "string"
        },
        {
         "name": "allowlisted_date",
         "rawType": "datetime64[ns]",
         "type": "datetime"
        },
        {
         "name": "batch_letter",
         "rawType": "object",
         "type": "string"
        }
       ],
       "ref": "402f08bc-b00b-4b31-a894-1e34bde76aab",
       "rows": [
        [
         "0",
         "561fb48b1bcc88cdb406cb4e31aedc10735ab76b57ca8ec89230a8289affce4c",
         "83340eac06d22f039113479a1cdddd88c6015af7a51eb75067d12ef85f9809c4",
         "2023-12-06 00:00:00",
         "2023-12-06 20:50:26.060000+00:00",
         "3.2",
         "500.0",
         "executed",
         "4398a3e49d78f4b1b816ced315f34a5da5e830b1f53640b4e0e049e7a95e8e7f",
         "2023-12-05 00:00:00",
         "D"
        ],
        [
         "1",
         "561fb48b1bcc88cdb406cb4e31aedc10735ab76b57ca8ec89230a8289affce4c",
         "83340eac06d22f039113479a1cdddd88c6015af7a51eb75067d12ef85f9809c4",
         "2023-12-06 00:00:00",
         "2023-12-06 20:50:26.049000+00:00",
         "3.2",
         "500.0",
         "executed",
         "4398a3e49d78f4b1b816ced315f34a5da5e830b1f53640b4e0e049e7a95e8e7f",
         "2023-12-05 00:00:00",
         "D"
        ],
        [
         "2",
         "561fb48b1bcc88cdb406cb4e31aedc10735ab76b57ca8ec89230a8289affce4c",
         "83340eac06d22f039113479a1cdddd88c6015af7a51eb75067d12ef85f9809c4",
         "2023-12-06 00:00:00",
         "2023-12-22 07:25:57.889000+00:00",
         "3.2",
         "500.0",
         "repaid",
         "4398a3e49d78f4b1b816ced315f34a5da5e830b1f53640b4e0e049e7a95e8e7f",
         "2023-12-05 00:00:00",
         "D"
        ],
        [
         "3",
         "561fb48b1bcc88cdb406cb4e31aedc10735ab76b57ca8ec89230a8289affce4c",
         "83340eac06d22f039113479a1cdddd88c6015af7a51eb75067d12ef85f9809c4",
         "2023-12-06 00:00:00",
         "2023-12-06 20:54:10.858000+00:00",
         "3.2",
         "500.0",
         "executed",
         "4398a3e49d78f4b1b816ced315f34a5da5e830b1f53640b4e0e049e7a95e8e7f",
         "2023-12-05 00:00:00",
         "D"
        ],
        [
         "4",
         "03bd8fb1f4c0504c2c97da9a059fcf4df1f5b60caef43674bbd8e31f6b1b200a",
         "83340eac06d22f039113479a1cdddd88c6015af7a51eb75067d12ef85f9809c4",
         "2023-12-22 00:00:00",
         "2023-12-22 13:41:48.169000+00:00",
         "3.2",
         "500.0",
         "executed",
         "4398a3e49d78f4b1b816ced315f34a5da5e830b1f53640b4e0e049e7a95e8e7f",
         "2023-12-05 00:00:00",
         "D"
        ]
       ],
       "shape": {
        "columns": 10,
        "rows": 5
       }
      },
      "text/html": [
       "<div>\n",
       "<style scoped>\n",
       "    .dataframe tbody tr th:only-of-type {\n",
       "        vertical-align: middle;\n",
       "    }\n",
       "\n",
       "    .dataframe tbody tr th {\n",
       "        vertical-align: top;\n",
       "    }\n",
       "\n",
       "    .dataframe thead th {\n",
       "        text-align: right;\n",
       "    }\n",
       "</style>\n",
       "<table border=\"1\" class=\"dataframe\">\n",
       "  <thead>\n",
       "    <tr style=\"text-align: right;\">\n",
       "      <th></th>\n",
       "      <th>loan_id</th>\n",
       "      <th>user_id</th>\n",
       "      <th>created_at</th>\n",
       "      <th>updated_at</th>\n",
       "      <th>annual_interest</th>\n",
       "      <th>loan_amount</th>\n",
       "      <th>status</th>\n",
       "      <th>batch</th>\n",
       "      <th>allowlisted_date</th>\n",
       "      <th>batch_letter</th>\n",
       "    </tr>\n",
       "  </thead>\n",
       "  <tbody>\n",
       "    <tr>\n",
       "      <th>0</th>\n",
       "      <td>561fb48b1bcc88cdb406cb4e31aedc10735ab76b57ca8e...</td>\n",
       "      <td>83340eac06d22f039113479a1cdddd88c6015af7a51eb7...</td>\n",
       "      <td>2023-12-06</td>\n",
       "      <td>2023-12-06 20:50:26.060000+00:00</td>\n",
       "      <td>3.2</td>\n",
       "      <td>500.0</td>\n",
       "      <td>executed</td>\n",
       "      <td>4398a3e49d78f4b1b816ced315f34a5da5e830b1f53640...</td>\n",
       "      <td>2023-12-05</td>\n",
       "      <td>D</td>\n",
       "    </tr>\n",
       "    <tr>\n",
       "      <th>1</th>\n",
       "      <td>561fb48b1bcc88cdb406cb4e31aedc10735ab76b57ca8e...</td>\n",
       "      <td>83340eac06d22f039113479a1cdddd88c6015af7a51eb7...</td>\n",
       "      <td>2023-12-06</td>\n",
       "      <td>2023-12-06 20:50:26.049000+00:00</td>\n",
       "      <td>3.2</td>\n",
       "      <td>500.0</td>\n",
       "      <td>executed</td>\n",
       "      <td>4398a3e49d78f4b1b816ced315f34a5da5e830b1f53640...</td>\n",
       "      <td>2023-12-05</td>\n",
       "      <td>D</td>\n",
       "    </tr>\n",
       "    <tr>\n",
       "      <th>2</th>\n",
       "      <td>561fb48b1bcc88cdb406cb4e31aedc10735ab76b57ca8e...</td>\n",
       "      <td>83340eac06d22f039113479a1cdddd88c6015af7a51eb7...</td>\n",
       "      <td>2023-12-06</td>\n",
       "      <td>2023-12-22 07:25:57.889000+00:00</td>\n",
       "      <td>3.2</td>\n",
       "      <td>500.0</td>\n",
       "      <td>repaid</td>\n",
       "      <td>4398a3e49d78f4b1b816ced315f34a5da5e830b1f53640...</td>\n",
       "      <td>2023-12-05</td>\n",
       "      <td>D</td>\n",
       "    </tr>\n",
       "    <tr>\n",
       "      <th>3</th>\n",
       "      <td>561fb48b1bcc88cdb406cb4e31aedc10735ab76b57ca8e...</td>\n",
       "      <td>83340eac06d22f039113479a1cdddd88c6015af7a51eb7...</td>\n",
       "      <td>2023-12-06</td>\n",
       "      <td>2023-12-06 20:54:10.858000+00:00</td>\n",
       "      <td>3.2</td>\n",
       "      <td>500.0</td>\n",
       "      <td>executed</td>\n",
       "      <td>4398a3e49d78f4b1b816ced315f34a5da5e830b1f53640...</td>\n",
       "      <td>2023-12-05</td>\n",
       "      <td>D</td>\n",
       "    </tr>\n",
       "    <tr>\n",
       "      <th>4</th>\n",
       "      <td>03bd8fb1f4c0504c2c97da9a059fcf4df1f5b60caef436...</td>\n",
       "      <td>83340eac06d22f039113479a1cdddd88c6015af7a51eb7...</td>\n",
       "      <td>2023-12-22</td>\n",
       "      <td>2023-12-22 13:41:48.169000+00:00</td>\n",
       "      <td>3.2</td>\n",
       "      <td>500.0</td>\n",
       "      <td>executed</td>\n",
       "      <td>4398a3e49d78f4b1b816ced315f34a5da5e830b1f53640...</td>\n",
       "      <td>2023-12-05</td>\n",
       "      <td>D</td>\n",
       "    </tr>\n",
       "  </tbody>\n",
       "</table>\n",
       "</div>"
      ],
      "text/plain": [
       "                                             loan_id  \\\n",
       "0  561fb48b1bcc88cdb406cb4e31aedc10735ab76b57ca8e...   \n",
       "1  561fb48b1bcc88cdb406cb4e31aedc10735ab76b57ca8e...   \n",
       "2  561fb48b1bcc88cdb406cb4e31aedc10735ab76b57ca8e...   \n",
       "3  561fb48b1bcc88cdb406cb4e31aedc10735ab76b57ca8e...   \n",
       "4  03bd8fb1f4c0504c2c97da9a059fcf4df1f5b60caef436...   \n",
       "\n",
       "                                             user_id created_at  \\\n",
       "0  83340eac06d22f039113479a1cdddd88c6015af7a51eb7... 2023-12-06   \n",
       "1  83340eac06d22f039113479a1cdddd88c6015af7a51eb7... 2023-12-06   \n",
       "2  83340eac06d22f039113479a1cdddd88c6015af7a51eb7... 2023-12-06   \n",
       "3  83340eac06d22f039113479a1cdddd88c6015af7a51eb7... 2023-12-06   \n",
       "4  83340eac06d22f039113479a1cdddd88c6015af7a51eb7... 2023-12-22   \n",
       "\n",
       "                        updated_at  annual_interest  loan_amount    status  \\\n",
       "0 2023-12-06 20:50:26.060000+00:00              3.2        500.0  executed   \n",
       "1 2023-12-06 20:50:26.049000+00:00              3.2        500.0  executed   \n",
       "2 2023-12-22 07:25:57.889000+00:00              3.2        500.0    repaid   \n",
       "3 2023-12-06 20:54:10.858000+00:00              3.2        500.0  executed   \n",
       "4 2023-12-22 13:41:48.169000+00:00              3.2        500.0  executed   \n",
       "\n",
       "                                               batch allowlisted_date  \\\n",
       "0  4398a3e49d78f4b1b816ced315f34a5da5e830b1f53640...       2023-12-05   \n",
       "1  4398a3e49d78f4b1b816ced315f34a5da5e830b1f53640...       2023-12-05   \n",
       "2  4398a3e49d78f4b1b816ced315f34a5da5e830b1f53640...       2023-12-05   \n",
       "3  4398a3e49d78f4b1b816ced315f34a5da5e830b1f53640...       2023-12-05   \n",
       "4  4398a3e49d78f4b1b816ced315f34a5da5e830b1f53640...       2023-12-05   \n",
       "\n",
       "  batch_letter  \n",
       "0            D  \n",
       "1            D  \n",
       "2            D  \n",
       "3            D  \n",
       "4            D  "
      ]
     },
     "metadata": {},
     "output_type": "display_data"
    }
   ],
   "source": [
    "# Dataframe of loans with cohort information\n",
    "display(loans_and_cohort.head())"
   ]
  },
  {
   "cell_type": "code",
   "execution_count": 4,
   "id": "4c1661a1",
   "metadata": {},
   "outputs": [
    {
     "data": {
      "application/vnd.microsoft.datawrangler.viewer.v0+json": {
       "columns": [
        {
         "name": "index",
         "rawType": "int64",
         "type": "integer"
        },
        {
         "name": "date",
         "rawType": "datetime64[ns]",
         "type": "datetime"
        },
        {
         "name": "loan_id",
         "rawType": "object",
         "type": "string"
        },
        {
         "name": "repayment_amount",
         "rawType": "float64",
         "type": "float"
        },
        {
         "name": "billings_amount",
         "rawType": "float64",
         "type": "float"
        },
        {
         "name": "batch_letter",
         "rawType": "object",
         "type": "string"
        },
        {
         "name": "allowlisted_date",
         "rawType": "datetime64[ns]",
         "type": "datetime"
        }
       ],
       "ref": "2b1cfa6d-a134-4779-84ff-c81e10ec767d",
       "rows": [
        [
         "0",
         "2022-12-13 00:00:00",
         "66fb058ba3d8436e498813f940534410a2cbe63bca8c1dc49d65b5aefcd6ee3c",
         "0.0",
         "0.15",
         "B",
         "2022-08-29 00:00:00"
        ],
        [
         "1",
         "2022-12-13 00:00:00",
         "059f1d15ef6b5990280bb37efb4325b71b1d3b68c9c847eacfe36ad36a0444fe",
         "0.0",
         "71.88",
         "B",
         "2022-08-29 00:00:00"
        ],
        [
         "2",
         "2022-12-13 00:00:00",
         "bfde49d91ce96adc8b2f04a25850c929f6688d81e26b061b826624e939a3a6f0",
         "0.0",
         "1312.95",
         "B",
         "2022-08-29 00:00:00"
        ],
        [
         "3",
         "2022-12-13 00:00:00",
         "c1636359078ef9fc7a37aacb4afba4610d2492c1769d2424078c9b7e0bee6dc4",
         "0.0",
         "344.18",
         "B",
         "2022-08-29 00:00:00"
        ],
        [
         "4",
         "2022-12-13 00:00:00",
         "6cc14f085ec7834225629bc7e619d1d1bc03b36b1f5349f4c063fa9faef89898",
         "0.0",
         "98.07",
         "B",
         "2022-08-29 00:00:00"
        ]
       ],
       "shape": {
        "columns": 6,
        "rows": 5
       }
      },
      "text/html": [
       "<div>\n",
       "<style scoped>\n",
       "    .dataframe tbody tr th:only-of-type {\n",
       "        vertical-align: middle;\n",
       "    }\n",
       "\n",
       "    .dataframe tbody tr th {\n",
       "        vertical-align: top;\n",
       "    }\n",
       "\n",
       "    .dataframe thead th {\n",
       "        text-align: right;\n",
       "    }\n",
       "</style>\n",
       "<table border=\"1\" class=\"dataframe\">\n",
       "  <thead>\n",
       "    <tr style=\"text-align: right;\">\n",
       "      <th></th>\n",
       "      <th>date</th>\n",
       "      <th>loan_id</th>\n",
       "      <th>repayment_amount</th>\n",
       "      <th>billings_amount</th>\n",
       "      <th>batch_letter</th>\n",
       "      <th>allowlisted_date</th>\n",
       "    </tr>\n",
       "  </thead>\n",
       "  <tbody>\n",
       "    <tr>\n",
       "      <th>0</th>\n",
       "      <td>2022-12-13</td>\n",
       "      <td>66fb058ba3d8436e498813f940534410a2cbe63bca8c1d...</td>\n",
       "      <td>0.0</td>\n",
       "      <td>0.15</td>\n",
       "      <td>B</td>\n",
       "      <td>2022-08-29</td>\n",
       "    </tr>\n",
       "    <tr>\n",
       "      <th>1</th>\n",
       "      <td>2022-12-13</td>\n",
       "      <td>059f1d15ef6b5990280bb37efb4325b71b1d3b68c9c847...</td>\n",
       "      <td>0.0</td>\n",
       "      <td>71.88</td>\n",
       "      <td>B</td>\n",
       "      <td>2022-08-29</td>\n",
       "    </tr>\n",
       "    <tr>\n",
       "      <th>2</th>\n",
       "      <td>2022-12-13</td>\n",
       "      <td>bfde49d91ce96adc8b2f04a25850c929f6688d81e26b06...</td>\n",
       "      <td>0.0</td>\n",
       "      <td>1312.95</td>\n",
       "      <td>B</td>\n",
       "      <td>2022-08-29</td>\n",
       "    </tr>\n",
       "    <tr>\n",
       "      <th>3</th>\n",
       "      <td>2022-12-13</td>\n",
       "      <td>c1636359078ef9fc7a37aacb4afba4610d2492c1769d24...</td>\n",
       "      <td>0.0</td>\n",
       "      <td>344.18</td>\n",
       "      <td>B</td>\n",
       "      <td>2022-08-29</td>\n",
       "    </tr>\n",
       "    <tr>\n",
       "      <th>4</th>\n",
       "      <td>2022-12-13</td>\n",
       "      <td>6cc14f085ec7834225629bc7e619d1d1bc03b36b1f5349...</td>\n",
       "      <td>0.0</td>\n",
       "      <td>98.07</td>\n",
       "      <td>B</td>\n",
       "      <td>2022-08-29</td>\n",
       "    </tr>\n",
       "  </tbody>\n",
       "</table>\n",
       "</div>"
      ],
      "text/plain": [
       "        date                                            loan_id  \\\n",
       "0 2022-12-13  66fb058ba3d8436e498813f940534410a2cbe63bca8c1d...   \n",
       "1 2022-12-13  059f1d15ef6b5990280bb37efb4325b71b1d3b68c9c847...   \n",
       "2 2022-12-13  bfde49d91ce96adc8b2f04a25850c929f6688d81e26b06...   \n",
       "3 2022-12-13  c1636359078ef9fc7a37aacb4afba4610d2492c1769d24...   \n",
       "4 2022-12-13  6cc14f085ec7834225629bc7e619d1d1bc03b36b1f5349...   \n",
       "\n",
       "   repayment_amount  billings_amount batch_letter allowlisted_date  \n",
       "0               0.0             0.15            B       2022-08-29  \n",
       "1               0.0            71.88            B       2022-08-29  \n",
       "2               0.0          1312.95            B       2022-08-29  \n",
       "3               0.0           344.18            B       2022-08-29  \n",
       "4               0.0            98.07            B       2022-08-29  "
      ]
     },
     "metadata": {},
     "output_type": "display_data"
    }
   ],
   "source": [
    "# Dataframe of repayments with loans and cohort information, \n",
    "# we also have historical status of each loan\n",
    "display(repayments_and_loans.head())"
   ]
  },
  {
   "cell_type": "markdown",
   "id": "150aeb00",
   "metadata": {},
   "source": [
    "Now, let's create three important columns:\n",
    "- **cohort_start:** the date when the user was allowlisted\n",
    "- **h_days:** the number of days since the cohort_start until the repayment date\n",
    "- **repayment_total:** the total amount repaid by the user, including both normal repayments and collections."
   ]
  },
  {
   "cell_type": "code",
   "execution_count": 5,
   "id": "8c6a3b50",
   "metadata": {},
   "outputs": [
    {
     "data": {
      "application/vnd.microsoft.datawrangler.viewer.v0+json": {
       "columns": [
        {
         "name": "index",
         "rawType": "int64",
         "type": "integer"
        },
        {
         "name": "date",
         "rawType": "datetime64[ns]",
         "type": "datetime"
        },
        {
         "name": "loan_id",
         "rawType": "object",
         "type": "string"
        },
        {
         "name": "repayment_amount",
         "rawType": "float64",
         "type": "float"
        },
        {
         "name": "billings_amount",
         "rawType": "float64",
         "type": "float"
        },
        {
         "name": "batch_letter",
         "rawType": "object",
         "type": "string"
        },
        {
         "name": "allowlisted_date",
         "rawType": "datetime64[ns]",
         "type": "datetime"
        },
        {
         "name": "cohort_start",
         "rawType": "datetime64[ns]",
         "type": "datetime"
        },
        {
         "name": "h_days",
         "rawType": "int64",
         "type": "integer"
        },
        {
         "name": "repayment_total",
         "rawType": "float64",
         "type": "float"
        }
       ],
       "ref": "707de2e7-d7ca-42ae-82ac-78e2931a32a3",
       "rows": [
        [
         "0",
         "2022-12-13 00:00:00",
         "66fb058ba3d8436e498813f940534410a2cbe63bca8c1dc49d65b5aefcd6ee3c",
         "0.0",
         "0.15",
         "B",
         "2022-08-29 00:00:00",
         "2022-08-29 00:00:00",
         "106",
         "0.15"
        ],
        [
         "1",
         "2022-12-13 00:00:00",
         "059f1d15ef6b5990280bb37efb4325b71b1d3b68c9c847eacfe36ad36a0444fe",
         "0.0",
         "71.88",
         "B",
         "2022-08-29 00:00:00",
         "2022-08-29 00:00:00",
         "106",
         "71.88"
        ],
        [
         "2",
         "2022-12-13 00:00:00",
         "bfde49d91ce96adc8b2f04a25850c929f6688d81e26b061b826624e939a3a6f0",
         "0.0",
         "1312.95",
         "B",
         "2022-08-29 00:00:00",
         "2022-08-29 00:00:00",
         "106",
         "1312.95"
        ],
        [
         "3",
         "2022-12-13 00:00:00",
         "c1636359078ef9fc7a37aacb4afba4610d2492c1769d2424078c9b7e0bee6dc4",
         "0.0",
         "344.18",
         "B",
         "2022-08-29 00:00:00",
         "2022-08-29 00:00:00",
         "106",
         "344.18"
        ],
        [
         "4",
         "2022-12-13 00:00:00",
         "6cc14f085ec7834225629bc7e619d1d1bc03b36b1f5349f4c063fa9faef89898",
         "0.0",
         "98.07",
         "B",
         "2022-08-29 00:00:00",
         "2022-08-29 00:00:00",
         "106",
         "98.07"
        ]
       ],
       "shape": {
        "columns": 9,
        "rows": 5
       }
      },
      "text/html": [
       "<div>\n",
       "<style scoped>\n",
       "    .dataframe tbody tr th:only-of-type {\n",
       "        vertical-align: middle;\n",
       "    }\n",
       "\n",
       "    .dataframe tbody tr th {\n",
       "        vertical-align: top;\n",
       "    }\n",
       "\n",
       "    .dataframe thead th {\n",
       "        text-align: right;\n",
       "    }\n",
       "</style>\n",
       "<table border=\"1\" class=\"dataframe\">\n",
       "  <thead>\n",
       "    <tr style=\"text-align: right;\">\n",
       "      <th></th>\n",
       "      <th>date</th>\n",
       "      <th>loan_id</th>\n",
       "      <th>repayment_amount</th>\n",
       "      <th>billings_amount</th>\n",
       "      <th>batch_letter</th>\n",
       "      <th>allowlisted_date</th>\n",
       "      <th>cohort_start</th>\n",
       "      <th>h_days</th>\n",
       "      <th>repayment_total</th>\n",
       "    </tr>\n",
       "  </thead>\n",
       "  <tbody>\n",
       "    <tr>\n",
       "      <th>0</th>\n",
       "      <td>2022-12-13</td>\n",
       "      <td>66fb058ba3d8436e498813f940534410a2cbe63bca8c1d...</td>\n",
       "      <td>0.0</td>\n",
       "      <td>0.15</td>\n",
       "      <td>B</td>\n",
       "      <td>2022-08-29</td>\n",
       "      <td>2022-08-29</td>\n",
       "      <td>106</td>\n",
       "      <td>0.15</td>\n",
       "    </tr>\n",
       "    <tr>\n",
       "      <th>1</th>\n",
       "      <td>2022-12-13</td>\n",
       "      <td>059f1d15ef6b5990280bb37efb4325b71b1d3b68c9c847...</td>\n",
       "      <td>0.0</td>\n",
       "      <td>71.88</td>\n",
       "      <td>B</td>\n",
       "      <td>2022-08-29</td>\n",
       "      <td>2022-08-29</td>\n",
       "      <td>106</td>\n",
       "      <td>71.88</td>\n",
       "    </tr>\n",
       "    <tr>\n",
       "      <th>2</th>\n",
       "      <td>2022-12-13</td>\n",
       "      <td>bfde49d91ce96adc8b2f04a25850c929f6688d81e26b06...</td>\n",
       "      <td>0.0</td>\n",
       "      <td>1312.95</td>\n",
       "      <td>B</td>\n",
       "      <td>2022-08-29</td>\n",
       "      <td>2022-08-29</td>\n",
       "      <td>106</td>\n",
       "      <td>1312.95</td>\n",
       "    </tr>\n",
       "    <tr>\n",
       "      <th>3</th>\n",
       "      <td>2022-12-13</td>\n",
       "      <td>c1636359078ef9fc7a37aacb4afba4610d2492c1769d24...</td>\n",
       "      <td>0.0</td>\n",
       "      <td>344.18</td>\n",
       "      <td>B</td>\n",
       "      <td>2022-08-29</td>\n",
       "      <td>2022-08-29</td>\n",
       "      <td>106</td>\n",
       "      <td>344.18</td>\n",
       "    </tr>\n",
       "    <tr>\n",
       "      <th>4</th>\n",
       "      <td>2022-12-13</td>\n",
       "      <td>6cc14f085ec7834225629bc7e619d1d1bc03b36b1f5349...</td>\n",
       "      <td>0.0</td>\n",
       "      <td>98.07</td>\n",
       "      <td>B</td>\n",
       "      <td>2022-08-29</td>\n",
       "      <td>2022-08-29</td>\n",
       "      <td>106</td>\n",
       "      <td>98.07</td>\n",
       "    </tr>\n",
       "  </tbody>\n",
       "</table>\n",
       "</div>"
      ],
      "text/plain": [
       "        date                                            loan_id  \\\n",
       "0 2022-12-13  66fb058ba3d8436e498813f940534410a2cbe63bca8c1d...   \n",
       "1 2022-12-13  059f1d15ef6b5990280bb37efb4325b71b1d3b68c9c847...   \n",
       "2 2022-12-13  bfde49d91ce96adc8b2f04a25850c929f6688d81e26b06...   \n",
       "3 2022-12-13  c1636359078ef9fc7a37aacb4afba4610d2492c1769d24...   \n",
       "4 2022-12-13  6cc14f085ec7834225629bc7e619d1d1bc03b36b1f5349...   \n",
       "\n",
       "   repayment_amount  billings_amount batch_letter allowlisted_date  \\\n",
       "0               0.0             0.15            B       2022-08-29   \n",
       "1               0.0            71.88            B       2022-08-29   \n",
       "2               0.0          1312.95            B       2022-08-29   \n",
       "3               0.0           344.18            B       2022-08-29   \n",
       "4               0.0            98.07            B       2022-08-29   \n",
       "\n",
       "  cohort_start  h_days  repayment_total  \n",
       "0   2022-08-29     106             0.15  \n",
       "1   2022-08-29     106            71.88  \n",
       "2   2022-08-29     106          1312.95  \n",
       "3   2022-08-29     106           344.18  \n",
       "4   2022-08-29     106            98.07  "
      ]
     },
     "metadata": {},
     "output_type": "display_data"
    }
   ],
   "source": [
    "from src.data_manipulation import prepare_roi_columns\n",
    "\n",
    "# Prepare additional columns for ROI calculations\n",
    "repayments_and_loans = prepare_roi_columns(repayments_and_loans)\n",
    "\n",
    "display(repayments_and_loans.head())"
   ]
  },
  {
   "cell_type": "markdown",
   "id": "41a92dd3",
   "metadata": {},
   "source": [
    "Now, we need to compute the loan amount per batch."
   ]
  },
  {
   "cell_type": "code",
   "execution_count": 6,
   "id": "f64ede3e",
   "metadata": {},
   "outputs": [
    {
     "data": {
      "application/vnd.microsoft.datawrangler.viewer.v0+json": {
       "columns": [
        {
         "name": "batch_letter",
         "rawType": "object",
         "type": "string"
        },
        {
         "name": "cohort_principal",
         "rawType": "float64",
         "type": "float"
        }
       ],
       "ref": "b12cba74-3ca9-45ae-b0ef-c161479c269e",
       "rows": [
        [
         "A",
         "786691.62"
        ],
        [
         "B",
         "22463415.15"
        ],
        [
         "C",
         "30658758.56"
        ],
        [
         "D",
         "2587785.26"
        ],
        [
         "E",
         "14060518.8"
        ],
        [
         "F",
         "8349103.51"
        ],
        [
         "G",
         "3648047.6"
        ]
       ],
       "shape": {
        "columns": 1,
        "rows": 7
       }
      },
      "text/plain": [
       "batch_letter\n",
       "A      786691.62\n",
       "B    22463415.15\n",
       "C    30658758.56\n",
       "D     2587785.26\n",
       "E    14060518.80\n",
       "F     8349103.51\n",
       "G     3648047.60\n",
       "Name: cohort_principal, dtype: float64"
      ]
     },
     "metadata": {},
     "output_type": "display_data"
    }
   ],
   "source": [
    "from src.data_manipulation import compute_cohort_principal\n",
    "\n",
    "cohort_principal = compute_cohort_principal(loans_and_cohort)\n",
    "display(cohort_principal)"
   ]
  },
  {
   "cell_type": "markdown",
   "id": "f585e814",
   "metadata": {},
   "source": [
    "Now, let's group the loans by batch and days since cohort start, summing the repayments. Then, we will compute the cumulative sum of repayments over time for each batch. Finally, we will merge the cumulative repayments with the principal amounts to calculate the ROI for each cohort over time."
   ]
  },
  {
   "cell_type": "code",
   "execution_count": 7,
   "id": "523dfb14",
   "metadata": {},
   "outputs": [],
   "source": [
    "from src.data_manipulation import compute_roi_curves\n",
    "\n",
    "roi_curves_df = compute_roi_curves(repayments_and_loans, cohort_principal)"
   ]
  },
  {
   "cell_type": "code",
   "execution_count": 8,
   "id": "53e53e73",
   "metadata": {},
   "outputs": [
    {
     "data": {
      "application/vnd.microsoft.datawrangler.viewer.v0+json": {
       "columns": [
        {
         "name": "index",
         "rawType": "int64",
         "type": "integer"
        },
        {
         "name": "batch_letter",
         "rawType": "object",
         "type": "string"
        },
        {
         "name": "h_days",
         "rawType": "int64",
         "type": "integer"
        },
        {
         "name": "repayment_total",
         "rawType": "float64",
         "type": "float"
        },
        {
         "name": "cohort_principal",
         "rawType": "float64",
         "type": "float"
        },
        {
         "name": "ROI",
         "rawType": "float64",
         "type": "float"
        }
       ],
       "ref": "22e92988-fbde-426e-947d-2bb4be79854d",
       "rows": [
        [
         "0",
         "A",
         "0",
         "200.88",
         "786691.62",
         "-0.9997446521675164"
        ],
        [
         "1",
         "A",
         "1",
         "812.27",
         "786691.62",
         "-0.9989674861415201"
        ],
        [
         "2",
         "A",
         "2",
         "2685.62",
         "786691.62",
         "-0.9965861845585695"
        ],
        [
         "3",
         "A",
         "3",
         "2916.92",
         "786691.62",
         "-0.9962921684611309"
        ],
        [
         "4",
         "A",
         "4",
         "5725.787277",
         "786691.62",
         "-0.9927216877218039"
        ],
        [
         "5",
         "A",
         "5",
         "8275.687966000001",
         "786691.62",
         "-0.9894803913558912"
        ],
        [
         "6",
         "A",
         "6",
         "9802.077703",
         "786691.62",
         "-0.9875401269648709"
        ],
        [
         "7",
         "A",
         "7",
         "10489.405727000001",
         "786691.62",
         "-0.9866664326143452"
        ],
        [
         "8",
         "A",
         "8",
         "12559.52952",
         "786691.62",
         "-0.9840350027880048"
        ],
        [
         "9",
         "A",
         "9",
         "14277.950965",
         "786691.62",
         "-0.9818506380365409"
        ]
       ],
       "shape": {
        "columns": 5,
        "rows": 10
       }
      },
      "text/html": [
       "<div>\n",
       "<style scoped>\n",
       "    .dataframe tbody tr th:only-of-type {\n",
       "        vertical-align: middle;\n",
       "    }\n",
       "\n",
       "    .dataframe tbody tr th {\n",
       "        vertical-align: top;\n",
       "    }\n",
       "\n",
       "    .dataframe thead th {\n",
       "        text-align: right;\n",
       "    }\n",
       "</style>\n",
       "<table border=\"1\" class=\"dataframe\">\n",
       "  <thead>\n",
       "    <tr style=\"text-align: right;\">\n",
       "      <th></th>\n",
       "      <th>batch_letter</th>\n",
       "      <th>h_days</th>\n",
       "      <th>repayment_total</th>\n",
       "      <th>cohort_principal</th>\n",
       "      <th>ROI</th>\n",
       "    </tr>\n",
       "  </thead>\n",
       "  <tbody>\n",
       "    <tr>\n",
       "      <th>0</th>\n",
       "      <td>A</td>\n",
       "      <td>0</td>\n",
       "      <td>200.880000</td>\n",
       "      <td>786691.62</td>\n",
       "      <td>-0.999745</td>\n",
       "    </tr>\n",
       "    <tr>\n",
       "      <th>1</th>\n",
       "      <td>A</td>\n",
       "      <td>1</td>\n",
       "      <td>812.270000</td>\n",
       "      <td>786691.62</td>\n",
       "      <td>-0.998967</td>\n",
       "    </tr>\n",
       "    <tr>\n",
       "      <th>2</th>\n",
       "      <td>A</td>\n",
       "      <td>2</td>\n",
       "      <td>2685.620000</td>\n",
       "      <td>786691.62</td>\n",
       "      <td>-0.996586</td>\n",
       "    </tr>\n",
       "    <tr>\n",
       "      <th>3</th>\n",
       "      <td>A</td>\n",
       "      <td>3</td>\n",
       "      <td>2916.920000</td>\n",
       "      <td>786691.62</td>\n",
       "      <td>-0.996292</td>\n",
       "    </tr>\n",
       "    <tr>\n",
       "      <th>4</th>\n",
       "      <td>A</td>\n",
       "      <td>4</td>\n",
       "      <td>5725.787277</td>\n",
       "      <td>786691.62</td>\n",
       "      <td>-0.992722</td>\n",
       "    </tr>\n",
       "    <tr>\n",
       "      <th>5</th>\n",
       "      <td>A</td>\n",
       "      <td>5</td>\n",
       "      <td>8275.687966</td>\n",
       "      <td>786691.62</td>\n",
       "      <td>-0.989480</td>\n",
       "    </tr>\n",
       "    <tr>\n",
       "      <th>6</th>\n",
       "      <td>A</td>\n",
       "      <td>6</td>\n",
       "      <td>9802.077703</td>\n",
       "      <td>786691.62</td>\n",
       "      <td>-0.987540</td>\n",
       "    </tr>\n",
       "    <tr>\n",
       "      <th>7</th>\n",
       "      <td>A</td>\n",
       "      <td>7</td>\n",
       "      <td>10489.405727</td>\n",
       "      <td>786691.62</td>\n",
       "      <td>-0.986666</td>\n",
       "    </tr>\n",
       "    <tr>\n",
       "      <th>8</th>\n",
       "      <td>A</td>\n",
       "      <td>8</td>\n",
       "      <td>12559.529520</td>\n",
       "      <td>786691.62</td>\n",
       "      <td>-0.984035</td>\n",
       "    </tr>\n",
       "    <tr>\n",
       "      <th>9</th>\n",
       "      <td>A</td>\n",
       "      <td>9</td>\n",
       "      <td>14277.950965</td>\n",
       "      <td>786691.62</td>\n",
       "      <td>-0.981851</td>\n",
       "    </tr>\n",
       "  </tbody>\n",
       "</table>\n",
       "</div>"
      ],
      "text/plain": [
       "  batch_letter  h_days  repayment_total  cohort_principal       ROI\n",
       "0            A       0       200.880000         786691.62 -0.999745\n",
       "1            A       1       812.270000         786691.62 -0.998967\n",
       "2            A       2      2685.620000         786691.62 -0.996586\n",
       "3            A       3      2916.920000         786691.62 -0.996292\n",
       "4            A       4      5725.787277         786691.62 -0.992722\n",
       "5            A       5      8275.687966         786691.62 -0.989480\n",
       "6            A       6      9802.077703         786691.62 -0.987540\n",
       "7            A       7     10489.405727         786691.62 -0.986666\n",
       "8            A       8     12559.529520         786691.62 -0.984035\n",
       "9            A       9     14277.950965         786691.62 -0.981851"
      ]
     },
     "metadata": {},
     "output_type": "display_data"
    }
   ],
   "source": [
    "display(roi_curves_df.head(10))"
   ]
  },
  {
   "cell_type": "markdown",
   "id": "944183a3",
   "metadata": {},
   "source": [
    "Now, we can iterate over each batch to plot the ROI curves."
   ]
  },
  {
   "cell_type": "code",
   "execution_count": 9,
   "id": "9fc13173",
   "metadata": {},
   "outputs": [
    {
     "data": {
      "image/png": "[encoded data removed]",
      "text/plain": [
       "<Figure size 640x480 with 1 Axes>"
      ]
     },
     "metadata": {},
     "output_type": "display_data"
    }
   ],
   "source": [
    "from src.plot.roi import plot_roi_curves\n",
    "\n",
    "_ = plot_roi_curves(roi_curves_df)"
   ]
  },
  {
   "cell_type": "markdown",
   "id": "6880d576",
   "metadata": {},
   "source": [
    "Based on this graph, we can see that out of the 7 cohorts analyzed, 5 are profitable (A, B, C, E, F). Two of them became profitable after about 400–500 days, while the other 3 did so after approximately 1000 days.\n",
    "\n",
    "Given this observation, it is advisable to consider a horizon H of 1000–1200 days to ensure we capture the profitability of all cohorts.\n",
    "\n",
    "All cohorts exhibit a strictly increasing, monotonic behavior, with a plateau near the end of the data records. The derivative remains almost constant throughout most observations, but varies abruptly at the beginning of the plateau."
   ]
  },
  {
   "cell_type": "markdown",
   "id": "6689876e",
   "metadata": {},
   "source": [
    "## Correlation of results\n",
    "**Answering to the question:** \n",
    "\n",
    "\"Do loans within the same cohort being predominantly repaid increase the chance that a particular loan will be repaid?\"\n",
    "\n",
    "### Modeling loan repayment probability as a function of cohort repayment rate\n",
    "\n",
    "We can model the probability of loan repayment as a function of the cohort repayment rate using logistic regression. The cohort repayment rate serves as a predictor variable, while the individual loan repayment status (repaid or not) is the response variable.\n",
    "\n",
    "Let Y be a binary variable indicating whether a loan is repaid (1) or not (0).\n",
    "\n",
    "Let X be the cohort repayment rate, defined as the proportion of loans in the cohort that have been repaid.\n",
    "\n",
    "Our model can be expressed as:\n",
    "$$\n",
    "P(Y=1) = \\frac{1}{1 + e^{-(\\beta_0 + \\beta_1 X)}}\n",
    "$$\n",
    "\n"
   ]
  },
  {
   "cell_type": "code",
   "execution_count": 10,
   "id": "70e9a089",
   "metadata": {},
   "outputs": [
    {
     "data": {
      "application/vnd.microsoft.datawrangler.viewer.v0+json": {
       "columns": [
        {
         "name": "status",
         "rawType": "object",
         "type": "string"
        },
        {
         "name": "count",
         "rawType": "int64",
         "type": "integer"
        }
       ],
       "ref": "e6e267e1-ec4e-4bfa-8e27-72927b959977",
       "rows": [
        [
         "repaid",
         "40114"
        ],
        [
         "debt_collection",
         "2722"
        ],
        [
         "debt_repaid",
         "2529"
        ],
        [
         "manual_cancellation",
         "14"
        ],
        [
         "cancelled",
         "2"
        ]
       ],
       "shape": {
        "columns": 1,
        "rows": 5
       }
      },
      "text/plain": [
       "status\n",
       "repaid                 40114\n",
       "debt_collection         2722\n",
       "debt_repaid             2529\n",
       "manual_cancellation       14\n",
       "cancelled                  2\n",
       "Name: count, dtype: int64"
      ]
     },
     "execution_count": 10,
     "metadata": {},
     "output_type": "execute_result"
    }
   ],
   "source": [
    "# Checking loans last status\n",
    "loans_last_status = loans_and_cohort.sort_values('updated_at').drop_duplicates(subset=['loan_id'], keep='last')\n",
    "loans_last_status['status'].value_counts()"
   ]
  },
  {
   "cell_type": "code",
   "execution_count": 11,
   "id": "cdea983a",
   "metadata": {},
   "outputs": [
    {
     "data": {
      "application/vnd.microsoft.datawrangler.viewer.v0+json": {
       "columns": [
        {
         "name": "index",
         "rawType": "int64",
         "type": "integer"
        },
        {
         "name": "loan_id",
         "rawType": "object",
         "type": "string"
        },
        {
         "name": "user_id",
         "rawType": "object",
         "type": "string"
        },
        {
         "name": "created_at",
         "rawType": "datetime64[ns]",
         "type": "datetime"
        },
        {
         "name": "updated_at",
         "rawType": "datetime64[ns, UTC]",
         "type": "unknown"
        },
        {
         "name": "annual_interest",
         "rawType": "float64",
         "type": "float"
        },
        {
         "name": "loan_amount",
         "rawType": "float64",
         "type": "float"
        },
        {
         "name": "status",
         "rawType": "object",
         "type": "string"
        },
        {
         "name": "batch",
         "rawType": "object",
         "type": "string"
        },
        {
         "name": "allowlisted_date",
         "rawType": "datetime64[ns]",
         "type": "datetime"
        },
        {
         "name": "batch_letter",
         "rawType": "object",
         "type": "string"
        },
        {
         "name": "payed",
         "rawType": "int64",
         "type": "integer"
        },
        {
         "name": "batch_repayment_rate",
         "rawType": "float64",
         "type": "float"
        }
       ],
       "ref": "b6bc6350-13fd-47e9-951e-607cd0b68c2f",
       "rows": [
        [
         "23308",
         "5ef1e83bf3e1b5f4f46cebae0373c75e98812be1620fa9d0bd266be58a111c0d",
         "3c853ad3cc27407ec3f77eb19cdba4f9354a9c39dbc4e96e0f3830ce4a9ac7a3",
         "2022-09-11 00:00:00",
         "2022-10-10 12:42:27.332963+00:00",
         "1.7",
         "5000.0",
         "repaid",
         "5bcbc3d39978a3ff54a2671faf77e3e43c798faf53e98f6d27810f35a57346a1",
         "2022-09-09 00:00:00",
         "E",
         "1",
         "0.9175627240143369"
        ],
        [
         "2096",
         "cbb6861b6c7c1ef1a5ff792f96469cd78883185c3e686c2967b8c3781756af7c",
         "03ef881ec8c224c62a7ea08f65531c6962af5c4482a018a3cc09d4580dffb498",
         "2022-10-05 00:00:00",
         "2022-10-10 12:42:27.332963+00:00",
         "1.7",
         "1000.0",
         "repaid",
         "22bda9c4992b30b6b347e22c27f9e59fb9ce99f1072389373820e5ed747bdd71",
         "2022-09-09 00:00:00",
         "C",
         "1",
         "0.9477728418777764"
        ],
        [
         "38529",
         "8cf509bc0d9fbb8adf491e1a40d843682355afdef421b10ff99d92b60edef584",
         "57ca236251f20683f39ae100587112e675c35c8506d06907879f948aa7b60009",
         "2022-09-20 00:00:00",
         "2022-10-10 12:42:27.332963+00:00",
         "1.7",
         "1800.0",
         "repaid",
         "5bcbc3d39978a3ff54a2671faf77e3e43c798faf53e98f6d27810f35a57346a1",
         "2022-09-09 00:00:00",
         "E",
         "1",
         "0.9175627240143369"
        ],
        [
         "38524",
         "cf2b109c2dc9f7e7ed1d159f076364725c15b6319c1bbedfc10c98a5176b45f1",
         "57ca236251f20683f39ae100587112e675c35c8506d06907879f948aa7b60009",
         "2022-09-15 00:00:00",
         "2022-10-10 12:42:27.332963+00:00",
         "1.7",
         "1000.0",
         "repaid",
         "5bcbc3d39978a3ff54a2671faf77e3e43c798faf53e98f6d27810f35a57346a1",
         "2022-09-09 00:00:00",
         "E",
         "1",
         "0.9175627240143369"
        ],
        [
         "38525",
         "c5e9b9a20d58203c47c2906a7062884b2c92959f44cd61bee4ded7911adb1b02",
         "57ca236251f20683f39ae100587112e675c35c8506d06907879f948aa7b60009",
         "2022-09-17 00:00:00",
         "2022-10-10 12:42:27.332963+00:00",
         "1.7",
         "2500.0",
         "repaid",
         "5bcbc3d39978a3ff54a2671faf77e3e43c798faf53e98f6d27810f35a57346a1",
         "2022-09-09 00:00:00",
         "E",
         "1",
         "0.9175627240143369"
        ]
       ],
       "shape": {
        "columns": 12,
        "rows": 5
       }
      },
      "text/html": [
       "<div>\n",
       "<style scoped>\n",
       "    .dataframe tbody tr th:only-of-type {\n",
       "        vertical-align: middle;\n",
       "    }\n",
       "\n",
       "    .dataframe tbody tr th {\n",
       "        vertical-align: top;\n",
       "    }\n",
       "\n",
       "    .dataframe thead th {\n",
       "        text-align: right;\n",
       "    }\n",
       "</style>\n",
       "<table border=\"1\" class=\"dataframe\">\n",
       "  <thead>\n",
       "    <tr style=\"text-align: right;\">\n",
       "      <th></th>\n",
       "      <th>loan_id</th>\n",
       "      <th>user_id</th>\n",
       "      <th>created_at</th>\n",
       "      <th>updated_at</th>\n",
       "      <th>annual_interest</th>\n",
       "      <th>loan_amount</th>\n",
       "      <th>status</th>\n",
       "      <th>batch</th>\n",
       "      <th>allowlisted_date</th>\n",
       "      <th>batch_letter</th>\n",
       "      <th>payed</th>\n",
       "      <th>batch_repayment_rate</th>\n",
       "    </tr>\n",
       "  </thead>\n",
       "  <tbody>\n",
       "    <tr>\n",
       "      <th>23308</th>\n",
       "      <td>5ef1e83bf3e1b5f4f46cebae0373c75e98812be1620fa9...</td>\n",
       "      <td>3c853ad3cc27407ec3f77eb19cdba4f9354a9c39dbc4e9...</td>\n",
       "      <td>2022-09-11</td>\n",
       "      <td>2022-10-10 12:42:27.332963+00:00</td>\n",
       "      <td>1.7</td>\n",
       "      <td>5000.0</td>\n",
       "      <td>repaid</td>\n",
       "      <td>5bcbc3d39978a3ff54a2671faf77e3e43c798faf53e98f...</td>\n",
       "      <td>2022-09-09</td>\n",
       "      <td>E</td>\n",
       "      <td>1</td>\n",
       "      <td>0.917563</td>\n",
       "    </tr>\n",
       "    <tr>\n",
       "      <th>2096</th>\n",
       "      <td>cbb6861b6c7c1ef1a5ff792f96469cd78883185c3e686c...</td>\n",
       "      <td>03ef881ec8c224c62a7ea08f65531c6962af5c4482a018...</td>\n",
       "      <td>2022-10-05</td>\n",
       "      <td>2022-10-10 12:42:27.332963+00:00</td>\n",
       "      <td>1.7</td>\n",
       "      <td>1000.0</td>\n",
       "      <td>repaid</td>\n",
       "      <td>22bda9c4992b30b6b347e22c27f9e59fb9ce99f1072389...</td>\n",
       "      <td>2022-09-09</td>\n",
       "      <td>C</td>\n",
       "      <td>1</td>\n",
       "      <td>0.947773</td>\n",
       "    </tr>\n",
       "    <tr>\n",
       "      <th>38529</th>\n",
       "      <td>8cf509bc0d9fbb8adf491e1a40d843682355afdef421b1...</td>\n",
       "      <td>57ca236251f20683f39ae100587112e675c35c8506d069...</td>\n",
       "      <td>2022-09-20</td>\n",
       "      <td>2022-10-10 12:42:27.332963+00:00</td>\n",
       "      <td>1.7</td>\n",
       "      <td>1800.0</td>\n",
       "      <td>repaid</td>\n",
       "      <td>5bcbc3d39978a3ff54a2671faf77e3e43c798faf53e98f...</td>\n",
       "      <td>2022-09-09</td>\n",
       "      <td>E</td>\n",
       "      <td>1</td>\n",
       "      <td>0.917563</td>\n",
       "    </tr>\n",
       "    <tr>\n",
       "      <th>38524</th>\n",
       "      <td>cf2b109c2dc9f7e7ed1d159f076364725c15b6319c1bbe...</td>\n",
       "      <td>57ca236251f20683f39ae100587112e675c35c8506d069...</td>\n",
       "      <td>2022-09-15</td>\n",
       "      <td>2022-10-10 12:42:27.332963+00:00</td>\n",
       "      <td>1.7</td>\n",
       "      <td>1000.0</td>\n",
       "      <td>repaid</td>\n",
       "      <td>5bcbc3d39978a3ff54a2671faf77e3e43c798faf53e98f...</td>\n",
       "      <td>2022-09-09</td>\n",
       "      <td>E</td>\n",
       "      <td>1</td>\n",
       "      <td>0.917563</td>\n",
       "    </tr>\n",
       "    <tr>\n",
       "      <th>38525</th>\n",
       "      <td>c5e9b9a20d58203c47c2906a7062884b2c92959f44cd61...</td>\n",
       "      <td>57ca236251f20683f39ae100587112e675c35c8506d069...</td>\n",
       "      <td>2022-09-17</td>\n",
       "      <td>2022-10-10 12:42:27.332963+00:00</td>\n",
       "      <td>1.7</td>\n",
       "      <td>2500.0</td>\n",
       "      <td>repaid</td>\n",
       "      <td>5bcbc3d39978a3ff54a2671faf77e3e43c798faf53e98f...</td>\n",
       "      <td>2022-09-09</td>\n",
       "      <td>E</td>\n",
       "      <td>1</td>\n",
       "      <td>0.917563</td>\n",
       "    </tr>\n",
       "  </tbody>\n",
       "</table>\n",
       "</div>"
      ],
      "text/plain": [
       "                                                 loan_id  \\\n",
       "23308  5ef1e83bf3e1b5f4f46cebae0373c75e98812be1620fa9...   \n",
       "2096   cbb6861b6c7c1ef1a5ff792f96469cd78883185c3e686c...   \n",
       "38529  8cf509bc0d9fbb8adf491e1a40d843682355afdef421b1...   \n",
       "38524  cf2b109c2dc9f7e7ed1d159f076364725c15b6319c1bbe...   \n",
       "38525  c5e9b9a20d58203c47c2906a7062884b2c92959f44cd61...   \n",
       "\n",
       "                                                 user_id created_at  \\\n",
       "23308  3c853ad3cc27407ec3f77eb19cdba4f9354a9c39dbc4e9... 2022-09-11   \n",
       "2096   03ef881ec8c224c62a7ea08f65531c6962af5c4482a018... 2022-10-05   \n",
       "38529  57ca236251f20683f39ae100587112e675c35c8506d069... 2022-09-20   \n",
       "38524  57ca236251f20683f39ae100587112e675c35c8506d069... 2022-09-15   \n",
       "38525  57ca236251f20683f39ae100587112e675c35c8506d069... 2022-09-17   \n",
       "\n",
       "                            updated_at  annual_interest  loan_amount  status  \\\n",
       "23308 2022-10-10 12:42:27.332963+00:00              1.7       5000.0  repaid   \n",
       "2096  2022-10-10 12:42:27.332963+00:00              1.7       1000.0  repaid   \n",
       "38529 2022-10-10 12:42:27.332963+00:00              1.7       1800.0  repaid   \n",
       "38524 2022-10-10 12:42:27.332963+00:00              1.7       1000.0  repaid   \n",
       "38525 2022-10-10 12:42:27.332963+00:00              1.7       2500.0  repaid   \n",
       "\n",
       "                                                   batch allowlisted_date  \\\n",
       "23308  5bcbc3d39978a3ff54a2671faf77e3e43c798faf53e98f...       2022-09-09   \n",
       "2096   22bda9c4992b30b6b347e22c27f9e59fb9ce99f1072389...       2022-09-09   \n",
       "38529  5bcbc3d39978a3ff54a2671faf77e3e43c798faf53e98f...       2022-09-09   \n",
       "38524  5bcbc3d39978a3ff54a2671faf77e3e43c798faf53e98f...       2022-09-09   \n",
       "38525  5bcbc3d39978a3ff54a2671faf77e3e43c798faf53e98f...       2022-09-09   \n",
       "\n",
       "      batch_letter  payed  batch_repayment_rate  \n",
       "23308            E      1              0.917563  \n",
       "2096             C      1              0.947773  \n",
       "38529            E      1              0.917563  \n",
       "38524            E      1              0.917563  \n",
       "38525            E      1              0.917563  "
      ]
     },
     "metadata": {},
     "output_type": "display_data"
    }
   ],
   "source": [
    "loans_to_consider = loans_last_status[loans_last_status.status.isin([\"repaid\", \"debt_repaid\", \"debt_collection\"])].copy()\n",
    "\n",
    "# Computing Y variable (loan payed or not)\n",
    "loans_to_consider.loc[:,\"payed\"] = loans_to_consider[\"status\"].apply(lambda x: 0 if x == \"debt_collection\" else 1)\n",
    "\n",
    "# Computing X (batch repayment rate)\n",
    "loans_to_consider.loc[:, \"batch_repayment_rate\"] = loans_to_consider.groupby(\"batch_letter\")[\"payed\"].transform(\"mean\")\n",
    "\n",
    "display(loans_to_consider.head())"
   ]
  },
  {
   "cell_type": "code",
   "execution_count": 12,
   "id": "17fee4df",
   "metadata": {},
   "outputs": [
    {
     "name": "stdout",
     "output_type": "stream",
     "text": [
      "Optimization terminated successfully.\n",
      "         Current function value: 0.210481\n",
      "         Iterations 7\n"
     ]
    },
    {
     "data": {
      "text/html": [
       "<table class=\"simpletable\">\n",
       "<caption>Logit Regression Results</caption>\n",
       "<tr>\n",
       "  <th>Dep. Variable:</th>         <td>payed</td>      <th>  No. Observations:  </th>  <td> 45365</td> \n",
       "</tr>\n",
       "<tr>\n",
       "  <th>Model:</th>                 <td>Logit</td>      <th>  Df Residuals:      </th>  <td> 45363</td> \n",
       "</tr>\n",
       "<tr>\n",
       "  <th>Method:</th>                 <td>MLE</td>       <th>  Df Model:          </th>  <td>     1</td> \n",
       "</tr>\n",
       "<tr>\n",
       "  <th>Date:</th>            <td>Sat, 20 Sep 2025</td> <th>  Pseudo R-squ.:     </th>  <td>0.07266</td>\n",
       "</tr>\n",
       "<tr>\n",
       "  <th>Time:</th>                <td>17:21:31</td>     <th>  Log-Likelihood:    </th> <td> -9548.5</td>\n",
       "</tr>\n",
       "<tr>\n",
       "  <th>converged:</th>             <td>True</td>       <th>  LL-Null:           </th> <td> -10297.</td>\n",
       "</tr>\n",
       "<tr>\n",
       "  <th>Covariance Type:</th>     <td>nonrobust</td>    <th>  LLR p-value:       </th>  <td> 0.000</td> \n",
       "</tr>\n",
       "</table>\n",
       "<table class=\"simpletable\">\n",
       "<tr>\n",
       "            <td></td>              <th>coef</th>     <th>std err</th>      <th>z</th>      <th>P>|z|</th>  <th>[0.025</th>    <th>0.975]</th>  \n",
       "</tr>\n",
       "<tr>\n",
       "  <th>const</th>                <td>   -8.2504</td> <td>    0.262</td> <td>  -31.499</td> <td> 0.000</td> <td>   -8.764</td> <td>   -7.737</td>\n",
       "</tr>\n",
       "<tr>\n",
       "  <th>batch_repayment_rate</th> <td>   11.9141</td> <td>    0.289</td> <td>   41.253</td> <td> 0.000</td> <td>   11.348</td> <td>   12.480</td>\n",
       "</tr>\n",
       "</table>"
      ],
      "text/latex": [
       "\\begin{center}\n",
       "\\begin{tabular}{lclc}\n",
       "\\toprule\n",
       "\\textbf{Dep. Variable:}         &      payed       & \\textbf{  No. Observations:  } &    45365    \\\\\n",
       "\\textbf{Model:}                 &      Logit       & \\textbf{  Df Residuals:      } &    45363    \\\\\n",
       "\\textbf{Method:}                &       MLE        & \\textbf{  Df Model:          } &        1    \\\\\n",
       "\\textbf{Date:}                  & Sat, 20 Sep 2025 & \\textbf{  Pseudo R-squ.:     } &  0.07266    \\\\\n",
       "\\textbf{Time:}                  &     17:21:31     & \\textbf{  Log-Likelihood:    } &   -9548.5   \\\\\n",
       "\\textbf{converged:}             &       True       & \\textbf{  LL-Null:           } &   -10297.   \\\\\n",
       "\\textbf{Covariance Type:}       &    nonrobust     & \\textbf{  LLR p-value:       } &    0.000    \\\\\n",
       "\\bottomrule\n",
       "\\end{tabular}\n",
       "\\begin{tabular}{lcccccc}\n",
       "                                & \\textbf{coef} & \\textbf{std err} & \\textbf{z} & \\textbf{P$> |$z$|$} & \\textbf{[0.025} & \\textbf{0.975]}  \\\\\n",
       "\\midrule\n",
       "\\textbf{const}                  &      -8.2504  &        0.262     &   -31.499  &         0.000        &       -8.764    &       -7.737     \\\\\n",
       "\\textbf{batch\\_repayment\\_rate} &      11.9141  &        0.289     &    41.253  &         0.000        &       11.348    &       12.480     \\\\\n",
       "\\bottomrule\n",
       "\\end{tabular}\n",
       "%\\caption{Logit Regression Results}\n",
       "\\end{center}"
      ],
      "text/plain": [
       "<class 'statsmodels.iolib.summary.Summary'>\n",
       "\"\"\"\n",
       "                           Logit Regression Results                           \n",
       "==============================================================================\n",
       "Dep. Variable:                  payed   No. Observations:                45365\n",
       "Model:                          Logit   Df Residuals:                    45363\n",
       "Method:                           MLE   Df Model:                            1\n",
       "Date:                Sat, 20 Sep 2025   Pseudo R-squ.:                 0.07266\n",
       "Time:                        17:21:31   Log-Likelihood:                -9548.5\n",
       "converged:                       True   LL-Null:                       -10297.\n",
       "Covariance Type:            nonrobust   LLR p-value:                     0.000\n",
       "========================================================================================\n",
       "                           coef    std err          z      P>|z|      [0.025      0.975]\n",
       "----------------------------------------------------------------------------------------\n",
       "const                   -8.2504      0.262    -31.499      0.000      -8.764      -7.737\n",
       "batch_repayment_rate    11.9141      0.289     41.253      0.000      11.348      12.480\n",
       "========================================================================================\n",
       "\"\"\""
      ]
     },
     "metadata": {},
     "output_type": "display_data"
    }
   ],
   "source": [
    "# Fitting the model\n",
    "from statsmodels.api import Logit\n",
    "from statsmodels.tools import add_constant\n",
    "\n",
    "X = loans_to_consider[[\"batch_repayment_rate\"]]\n",
    "y = loans_to_consider[\"payed\"]\n",
    "X = add_constant(X)\n",
    "\n",
    "model = Logit(y, X).fit()\n",
    "\n",
    "display(model.summary())"
   ]
  },
  {
   "cell_type": "markdown",
   "id": "937eceb0",
   "metadata": {},
   "source": [
    "The results show a weak fit of the model, with a pseudo R-squared of 0.07.\n",
    "\n",
    "The coefficient for batch_repayment_rate is positive and significant, indicating that higher batch repayment rates are associated with a higher likelihood of individual loan repayment, however, this just explains a small part of the variability in loan repayment outcomes."
   ]
  },
  {
   "cell_type": "code",
   "execution_count": 13,
   "id": "4819368d",
   "metadata": {},
   "outputs": [
    {
     "data": {
      "image/png": "[encoded data removed]",
      "text/plain": [
       "<Figure size 640x480 with 1 Axes>"
      ]
     },
     "metadata": {},
     "output_type": "display_data"
    }
   ],
   "source": [
    "from matplotlib import pyplot as plt\n",
    "\n",
    "plt.boxplot([loans_to_consider[\"batch_repayment_rate\"][loans_to_consider[\"payed\"] == 0],\n",
    "              loans_to_consider[\"batch_repayment_rate\"][loans_to_consider[\"payed\"] == 1]],\n",
    "             tick_labels=[\"Not Repaid\", \"Repaid\"])\n",
    "plt.title(\"Batch Repayment Rate by Loan Status\")\n",
    "plt.ylabel(\"Batch Repayment Rate\")\n",
    "plt.show()"
   ]
  },
  {
   "cell_type": "markdown",
   "id": "16d14c06",
   "metadata": {},
   "source": [
    "This boxplot reinforces what was predicted by the logistic regression model. The medians between the two groups are similar, however, the interquartile range between Q1 and median for the \"Not Repaid\" group is much larger than that of the \"Repaid\" group. This indicates that loans that were not repaid tend to belong to cohorts with lower repayment rates, while loans that were repaid are more likely to be part of cohorts with higher repayment rates."
   ]
  },
  {
   "cell_type": "markdown",
   "id": "2442d025",
   "metadata": {},
   "source": [
    "## Sensitivity to large loans\n",
    "\n",
    "\"How much do top exposures move the ROI curve?\"\n",
    "\n",
    "To answer this question, we can perform a sensitivity analysis by excluding the top 5% of loans by amount and recalculating the ROI curves for each cohort."
   ]
  },
  {
   "cell_type": "code",
   "execution_count": 14,
   "id": "a87625f3",
   "metadata": {},
   "outputs": [
    {
     "data": {
      "image/png": "[encoded data removed]",
      "text/plain": [
       "<Figure size 1000x800 with 4 Axes>"
      ]
     },
     "metadata": {},
     "output_type": "display_data"
    }
   ],
   "source": [
    "from src.plot.roi import plot_roi_curves\n",
    "\n",
    "quantiles = [1, 0.95, 0.9, 0.8]\n",
    "roi_curves = {}\n",
    "\n",
    "for q in quantiles:\n",
    "    threshold = loans_last_status['loan_amount'].quantile(q)\n",
    "    no_top_loans = loans_last_status[loans_last_status['loan_amount'] < threshold]\n",
    "    \n",
    "    cohort_principal_no_top_loans = compute_cohort_principal(no_top_loans)\n",
    "    \n",
    "    roi_curve_no_top_loans = compute_roi_curves(\n",
    "        repayments_and_loans[repayments_and_loans['loan_id'].isin(no_top_loans['loan_id'])],\n",
    "        cohort_principal_no_top_loans\n",
    "    )\n",
    "    \n",
    "    roi_curves[q] = roi_curve_no_top_loans\n",
    "\n",
    "# Plotting the ROI curves for each quantile\n",
    "fig, axs = plt.subplots(2, len(quantiles)//2, figsize=(10, 8), sharey=True)\n",
    "for ax, (q, roi_curve) in zip(axs.flatten(), roi_curves.items()):\n",
    "    plot_roi_curves(roi_curve, ax=ax, extra_title=f'Quantile: {q}', show_legend=False)\n",
    "\n",
    "plt.tight_layout()\n",
    "plt.show()"
   ]
  },
  {
   "cell_type": "markdown",
   "id": "2a76bda7",
   "metadata": {},
   "source": [
    "It's not possible to see a significant difference in the ROI curves after excluding the top 5%-20% of loans by amount."
   ]
  },
  {
   "cell_type": "markdown",
   "id": "55f32e8a",
   "metadata": {},
   "source": [
    "## Collection sensitivity analysis\n",
    "\n",
    " How would changes in billing amounts affect the curve?\n",
    "\n",
    " Let's start by excluding all collection repayments and recalculating the ROI curves."
   ]
  },
  {
   "cell_type": "code",
   "execution_count": 15,
   "id": "9d10fb04",
   "metadata": {},
   "outputs": [
    {
     "data": {
      "image/png": "[encoded data removed]",
      "text/plain": [
       "<Figure size 900x400 with 2 Axes>"
      ]
     },
     "metadata": {},
     "output_type": "display_data"
    }
   ],
   "source": [
    "repayments_and_loans_without_billing = repayments_and_loans.copy()\n",
    "repayments_and_loans_without_billing[\"repayment_total\"] = repayments_and_loans_without_billing[\"repayment_amount\"]\n",
    "\n",
    "roi_curves_df_no_billing = compute_roi_curves(\n",
    "    repayments_and_loans_without_billing, cohort_principal\n",
    ")\n",
    "fig, ax = plt.subplots(1, 2, figsize=(9, 4), sharey=True)\n",
    "\n",
    "data_to_plot = [roi_curves_df, roi_curves_df_no_billing]\n",
    "for i, ax in enumerate(ax.flatten()):   \n",
    "    _ = plot_roi_curves(\n",
    "        data_to_plot[i],\n",
    "        ax=ax,\n",
    "        extra_title=[\"With Billing Amounts\", \"Without Billing Amounts\"][i],\n",
    "        show_legend=(i==len(data_to_plot)-1),\n",
    "    )\n",
    "plt.tight_layout()\n",
    "plt.show()"
   ]
  },
  {
   "cell_type": "markdown",
   "id": "17900ca9",
   "metadata": {},
   "source": [
    "The billing amounts have a key impact on the ROI curves. It enables the profitability of Cohort A and E, and reduces the loss of cohorts G and D. In an overall, the impact is significant in increasing the ROI of all cohorts."
   ]
  },
  {
   "cell_type": "code",
   "execution_count": 16,
   "id": "f6c02fed",
   "metadata": {
    "vscode": {
     "languageId": "ruby"
    }
   },
   "outputs": [
    {
     "data": {
      "application/vnd.microsoft.datawrangler.viewer.v0+json": {
       "columns": [
        {
         "name": "index",
         "rawType": "int64",
         "type": "integer"
        },
        {
         "name": "date",
         "rawType": "datetime64[ns]",
         "type": "datetime"
        },
        {
         "name": "loan_id",
         "rawType": "object",
         "type": "string"
        },
        {
         "name": "repayment_amount",
         "rawType": "float64",
         "type": "float"
        },
        {
         "name": "billings_amount",
         "rawType": "float64",
         "type": "float"
        },
        {
         "name": "batch_letter",
         "rawType": "object",
         "type": "string"
        },
        {
         "name": "allowlisted_date",
         "rawType": "datetime64[ns]",
         "type": "datetime"
        },
        {
         "name": "cohort_start",
         "rawType": "datetime64[ns]",
         "type": "datetime"
        },
        {
         "name": "h_days",
         "rawType": "int64",
         "type": "integer"
        },
        {
         "name": "repayment_total",
         "rawType": "float64",
         "type": "float"
        }
       ],
       "ref": "c5060a97-8eeb-423a-840f-44d1f00077f3",
       "rows": [
        [
         "0",
         "2022-12-13 00:00:00",
         "66fb058ba3d8436e498813f940534410a2cbe63bca8c1dc49d65b5aefcd6ee3c",
         "0.0",
         "0.15",
         "B",
         "2022-08-29 00:00:00",
         "2022-08-29 00:00:00",
         "106",
         "0.15"
        ],
        [
         "1",
         "2022-12-13 00:00:00",
         "059f1d15ef6b5990280bb37efb4325b71b1d3b68c9c847eacfe36ad36a0444fe",
         "0.0",
         "71.88",
         "B",
         "2022-08-29 00:00:00",
         "2022-08-29 00:00:00",
         "106",
         "71.88"
        ],
        [
         "2",
         "2022-12-13 00:00:00",
         "bfde49d91ce96adc8b2f04a25850c929f6688d81e26b061b826624e939a3a6f0",
         "0.0",
         "1312.95",
         "B",
         "2022-08-29 00:00:00",
         "2022-08-29 00:00:00",
         "106",
         "1312.95"
        ],
        [
         "3",
         "2022-12-13 00:00:00",
         "c1636359078ef9fc7a37aacb4afba4610d2492c1769d2424078c9b7e0bee6dc4",
         "0.0",
         "344.18",
         "B",
         "2022-08-29 00:00:00",
         "2022-08-29 00:00:00",
         "106",
         "344.18"
        ],
        [
         "4",
         "2022-12-13 00:00:00",
         "6cc14f085ec7834225629bc7e619d1d1bc03b36b1f5349f4c063fa9faef89898",
         "0.0",
         "98.07",
         "B",
         "2022-08-29 00:00:00",
         "2022-08-29 00:00:00",
         "106",
         "98.07"
        ],
        [
         "5",
         "2022-12-13 00:00:00",
         "e651b367f126aa43a1fb87a99e2e5c79e58ca7389a1c47c0b3d2a9f826205b19",
         "0.0",
         "31.57",
         "B",
         "2022-08-29 00:00:00",
         "2022-08-29 00:00:00",
         "106",
         "31.57"
        ],
        [
         "6",
         "2022-12-14 00:00:00",
         "6cc14f085ec7834225629bc7e619d1d1bc03b36b1f5349f4c063fa9faef89898",
         "0.0",
         "129.86",
         "B",
         "2022-08-29 00:00:00",
         "2022-08-29 00:00:00",
         "107",
         "129.86"
        ],
        [
         "7",
         "2022-12-14 00:00:00",
         "059f1d15ef6b5990280bb37efb4325b71b1d3b68c9c847eacfe36ad36a0444fe",
         "0.0",
         "9.81",
         "B",
         "2022-08-29 00:00:00",
         "2022-08-29 00:00:00",
         "107",
         "9.81"
        ],
        [
         "8",
         "2022-12-14 00:00:00",
         "e651b367f126aa43a1fb87a99e2e5c79e58ca7389a1c47c0b3d2a9f826205b19",
         "0.0",
         "59.38",
         "B",
         "2022-08-29 00:00:00",
         "2022-08-29 00:00:00",
         "107",
         "59.38"
        ],
        [
         "9",
         "2022-12-14 00:00:00",
         "dccca3b9f71db8bcb10f4244d059b58448a90b0af4d429f88e3b3857ae3004d1",
         "0.0",
         "194.21",
         "B",
         "2022-08-29 00:00:00",
         "2022-08-29 00:00:00",
         "107",
         "194.21"
        ],
        [
         "10",
         "2022-12-14 00:00:00",
         "c1636359078ef9fc7a37aacb4afba4610d2492c1769d2424078c9b7e0bee6dc4",
         "0.0",
         "125.78",
         "B",
         "2022-08-29 00:00:00",
         "2022-08-29 00:00:00",
         "107",
         "125.78"
        ],
        [
         "11",
         "2022-12-15 00:00:00",
         "dccca3b9f71db8bcb10f4244d059b58448a90b0af4d429f88e3b3857ae3004d1",
         "0.0",
         "147.6",
         "B",
         "2022-08-29 00:00:00",
         "2022-08-29 00:00:00",
         "108",
         "147.6"
        ],
        [
         "12",
         "2022-12-15 00:00:00",
         "09a2684d5ed49611abbc132535735de8ced1704a9dd71c9e3eea8f9cb75d9e35",
         "0.0",
         "25.87",
         "B",
         "2022-08-29 00:00:00",
         "2022-08-29 00:00:00",
         "108",
         "25.87"
        ],
        [
         "13",
         "2022-12-15 00:00:00",
         "f5fea348495dcc692729a94eb34f2f0f54654e4b2cb36684cc75af1b3affb7fb",
         "0.0",
         "742.85",
         "B",
         "2022-08-29 00:00:00",
         "2022-08-29 00:00:00",
         "108",
         "742.85"
        ],
        [
         "14",
         "2022-12-15 00:00:00",
         "059f1d15ef6b5990280bb37efb4325b71b1d3b68c9c847eacfe36ad36a0444fe",
         "0.0",
         "11.33",
         "B",
         "2022-08-29 00:00:00",
         "2022-08-29 00:00:00",
         "108",
         "11.33"
        ],
        [
         "15",
         "2022-12-15 00:00:00",
         "ef705748b7f126465593dbc2e4f177d93d681922025ac97c95dee8bf309b6278",
         "0.0",
         "759.92",
         "B",
         "2022-08-29 00:00:00",
         "2022-08-29 00:00:00",
         "108",
         "759.92"
        ],
        [
         "16",
         "2022-12-15 00:00:00",
         "0c0451d941d93667775d707fa6a60c6a2833ca3e41e240b2f4bd04fb3711e457",
         "0.0",
         "246.4",
         "B",
         "2022-08-29 00:00:00",
         "2022-08-29 00:00:00",
         "108",
         "246.4"
        ],
        [
         "17",
         "2022-12-15 00:00:00",
         "b1ab7a00ef76896bddd4915e8c52399843f043ba5e57bab72a31256fb1bdf7ce",
         "0.0",
         "623.05",
         "C",
         "2022-09-09 00:00:00",
         "2022-09-09 00:00:00",
         "97",
         "623.05"
        ],
        [
         "18",
         "2022-12-15 00:00:00",
         "e1ad632b25d9ca4b80a51a1fe764e98a9e6caa212e64782f214f69f6260342f9",
         "0.0",
         "83.8",
         "B",
         "2022-08-29 00:00:00",
         "2022-08-29 00:00:00",
         "108",
         "83.8"
        ],
        [
         "19",
         "2022-12-15 00:00:00",
         "1cb1b5ea58da83b68f99d797be9972a85cb8627da895413bb30b895b59654cc3",
         "0.0",
         "480.31",
         "B",
         "2022-08-29 00:00:00",
         "2022-08-29 00:00:00",
         "108",
         "480.31"
        ],
        [
         "20",
         "2022-12-15 00:00:00",
         "e651b367f126aa43a1fb87a99e2e5c79e58ca7389a1c47c0b3d2a9f826205b19",
         "0.0",
         "12.71",
         "B",
         "2022-08-29 00:00:00",
         "2022-08-29 00:00:00",
         "108",
         "12.71"
        ],
        [
         "21",
         "2022-12-15 00:00:00",
         "6cc14f085ec7834225629bc7e619d1d1bc03b36b1f5349f4c063fa9faef89898",
         "0.0",
         "155.37",
         "B",
         "2022-08-29 00:00:00",
         "2022-08-29 00:00:00",
         "108",
         "155.37"
        ],
        [
         "22",
         "2022-12-15 00:00:00",
         "abd5d18a3a7a51b49064fef462e5d1a99ec727a4d7bd0819bcc4e0b3911f1522",
         "0.0",
         "24.39",
         "B",
         "2022-08-29 00:00:00",
         "2022-08-29 00:00:00",
         "108",
         "24.39"
        ],
        [
         "23",
         "2022-12-15 00:00:00",
         "ee77c747103aae9f6bdb44ad7ac192150e476879fab35ad5a1897b2ea3cc6cd8",
         "0.0",
         "21.68",
         "B",
         "2022-08-29 00:00:00",
         "2022-08-29 00:00:00",
         "108",
         "21.68"
        ],
        [
         "24",
         "2022-12-15 00:00:00",
         "c1636359078ef9fc7a37aacb4afba4610d2492c1769d2424078c9b7e0bee6dc4",
         "0.0",
         "121.49",
         "B",
         "2022-08-29 00:00:00",
         "2022-08-29 00:00:00",
         "108",
         "121.49"
        ],
        [
         "25",
         "2022-12-15 00:00:00",
         "fa4600d32504ebd58b7f4fb5776c76c0b04c17ec703bc797ff9f200aa09aca0d",
         "0.0",
         "22.67",
         "B",
         "2022-08-29 00:00:00",
         "2022-08-29 00:00:00",
         "108",
         "22.67"
        ],
        [
         "26",
         "2022-12-16 00:00:00",
         "09a2684d5ed49611abbc132535735de8ced1704a9dd71c9e3eea8f9cb75d9e35",
         "0.0",
         "234.7",
         "B",
         "2022-08-29 00:00:00",
         "2022-08-29 00:00:00",
         "109",
         "234.7"
        ],
        [
         "27",
         "2022-12-16 00:00:00",
         "6cc14f085ec7834225629bc7e619d1d1bc03b36b1f5349f4c063fa9faef89898",
         "0.0",
         "36.56",
         "B",
         "2022-08-29 00:00:00",
         "2022-08-29 00:00:00",
         "109",
         "36.56"
        ],
        [
         "28",
         "2022-12-16 00:00:00",
         "af6fac91d9cb2f3cb739f76a66287c987b6a847edca2c0ffbb5cde5e765934b9",
         "0.0",
         "13.71",
         "B",
         "2022-08-29 00:00:00",
         "2022-08-29 00:00:00",
         "109",
         "13.71"
        ],
        [
         "29",
         "2022-12-16 00:00:00",
         "1cb1b5ea58da83b68f99d797be9972a85cb8627da895413bb30b895b59654cc3",
         "0.0",
         "40.79",
         "B",
         "2022-08-29 00:00:00",
         "2022-08-29 00:00:00",
         "109",
         "40.79"
        ],
        [
         "30",
         "2022-12-16 00:00:00",
         "fa4600d32504ebd58b7f4fb5776c76c0b04c17ec703bc797ff9f200aa09aca0d",
         "0.0",
         "58.77",
         "B",
         "2022-08-29 00:00:00",
         "2022-08-29 00:00:00",
         "109",
         "58.77"
        ],
        [
         "31",
         "2022-12-16 00:00:00",
         "c1636359078ef9fc7a37aacb4afba4610d2492c1769d2424078c9b7e0bee6dc4",
         "0.0",
         "178.31",
         "B",
         "2022-08-29 00:00:00",
         "2022-08-29 00:00:00",
         "109",
         "178.31"
        ],
        [
         "32",
         "2022-12-16 00:00:00",
         "8fa6d1c128fedccf6f3cd6ce933100e7f58825a3892ff058534f64ce6c6901e7",
         "0.0",
         "44.75",
         "B",
         "2022-08-29 00:00:00",
         "2022-08-29 00:00:00",
         "109",
         "44.75"
        ],
        [
         "33",
         "2022-12-16 00:00:00",
         "cf4c510608ec7ac6cadcc349793e6108e57ebaef61c35d565078f67b311040e0",
         "0.0",
         "16.02",
         "B",
         "2022-08-29 00:00:00",
         "2022-08-29 00:00:00",
         "109",
         "16.02"
        ],
        [
         "34",
         "2022-12-16 00:00:00",
         "059f1d15ef6b5990280bb37efb4325b71b1d3b68c9c847eacfe36ad36a0444fe",
         "0.0",
         "56.99",
         "B",
         "2022-08-29 00:00:00",
         "2022-08-29 00:00:00",
         "109",
         "56.99"
        ],
        [
         "35",
         "2022-12-16 00:00:00",
         "30d80a2f32a0c2d4df65b1825bb9700d3dc1af7f17cae517a3218ba178905eab",
         "0.0",
         "13.16",
         "B",
         "2022-08-29 00:00:00",
         "2022-08-29 00:00:00",
         "109",
         "13.16"
        ],
        [
         "36",
         "2022-12-16 00:00:00",
         "ee77c747103aae9f6bdb44ad7ac192150e476879fab35ad5a1897b2ea3cc6cd8",
         "0.0",
         "59.57",
         "B",
         "2022-08-29 00:00:00",
         "2022-08-29 00:00:00",
         "109",
         "59.57"
        ],
        [
         "37",
         "2022-12-16 00:00:00",
         "617180f6cb8c048df74f495d4e6dedbc6446a16ee916626bff87af3d25240a53",
         "0.0",
         "444.13",
         "B",
         "2022-08-29 00:00:00",
         "2022-08-29 00:00:00",
         "109",
         "444.13"
        ],
        [
         "38",
         "2022-12-16 00:00:00",
         "0c0451d941d93667775d707fa6a60c6a2833ca3e41e240b2f4bd04fb3711e457",
         "0.0",
         "285.82",
         "B",
         "2022-08-29 00:00:00",
         "2022-08-29 00:00:00",
         "109",
         "285.82"
        ],
        [
         "39",
         "2022-12-19 00:00:00",
         "059f1d15ef6b5990280bb37efb4325b71b1d3b68c9c847eacfe36ad36a0444fe",
         "0.0",
         "602.58",
         "B",
         "2022-08-29 00:00:00",
         "2022-08-29 00:00:00",
         "112",
         "602.58"
        ],
        [
         "40",
         "2022-12-19 00:00:00",
         "6432a5b51637c9af53ebec28b1be2cc02d8a7a1e7a9da5918960d97dce352c7f",
         "0.0",
         "729.0",
         "B",
         "2022-08-29 00:00:00",
         "2022-08-29 00:00:00",
         "112",
         "729.0"
        ],
        [
         "41",
         "2022-12-19 00:00:00",
         "1f5547d572d341d53a718372575f026df46d29cba554bc3bf14fe19051899987",
         "0.0",
         "28.87",
         "B",
         "2022-08-29 00:00:00",
         "2022-08-29 00:00:00",
         "112",
         "28.87"
        ],
        [
         "42",
         "2022-12-19 00:00:00",
         "065439f4466dffe30c1163c284b435f692da7eaca4aadc77700584bd902b6ac4",
         "0.0",
         "13.9",
         "B",
         "2022-08-29 00:00:00",
         "2022-08-29 00:00:00",
         "112",
         "13.9"
        ],
        [
         "43",
         "2022-12-19 00:00:00",
         "a1d2f5dcdee4b32eab6bbfcf887c5f3a6f184e03889a1a385be8f9e856786e77",
         "0.0",
         "3005.12",
         "C",
         "2022-09-09 00:00:00",
         "2022-09-09 00:00:00",
         "101",
         "3005.12"
        ],
        [
         "44",
         "2022-12-19 00:00:00",
         "d3c340fcdb34308e25a971b61c5260eb1dfc785e90c19ecfd77c129f2223c1f4",
         "0.0",
         "213.05",
         "C",
         "2022-09-09 00:00:00",
         "2022-09-09 00:00:00",
         "101",
         "213.05"
        ],
        [
         "45",
         "2022-12-19 00:00:00",
         "cab4e7c170dce8f74050d70033d88e2d289734d9f03c13a8dfdb6e9611e74109",
         "0.0",
         "280.13",
         "C",
         "2022-09-09 00:00:00",
         "2022-09-09 00:00:00",
         "101",
         "280.13"
        ],
        [
         "46",
         "2022-12-19 00:00:00",
         "be4139ff39789450443406a0a375c4fa57bb708b3406998e8a9d98be181fd187",
         "0.0",
         "69.98",
         "B",
         "2022-08-29 00:00:00",
         "2022-08-29 00:00:00",
         "112",
         "69.98"
        ],
        [
         "47",
         "2022-12-19 00:00:00",
         "07b7af032289df9f346007a352fde97cb5f9a0757b081e2e77b09a2f5b68d4ab",
         "0.0",
         "2498.87",
         "E",
         "2022-09-09 00:00:00",
         "2022-09-09 00:00:00",
         "101",
         "2498.87"
        ],
        [
         "48",
         "2022-12-19 00:00:00",
         "fa036b87a7efcd5d6eedc65ef0ac195247bfbf312e3b91207a2a3e71151de1b5",
         "0.0",
         "556.43",
         "C",
         "2022-09-09 00:00:00",
         "2022-09-09 00:00:00",
         "101",
         "556.43"
        ],
        [
         "49",
         "2022-12-19 00:00:00",
         "5bc173f8912b62bb5c44b63c5692624cbad3ea025e1b6c678b730a024fa68d18",
         "0.0",
         "230.54",
         "B",
         "2022-08-29 00:00:00",
         "2022-08-29 00:00:00",
         "112",
         "230.54"
        ]
       ],
       "shape": {
        "columns": 9,
        "rows": 606646
       }
      },
      "text/html": [
       "<div>\n",
       "<style scoped>\n",
       "    .dataframe tbody tr th:only-of-type {\n",
       "        vertical-align: middle;\n",
       "    }\n",
       "\n",
       "    .dataframe tbody tr th {\n",
       "        vertical-align: top;\n",
       "    }\n",
       "\n",
       "    .dataframe thead th {\n",
       "        text-align: right;\n",
       "    }\n",
       "</style>\n",
       "<table border=\"1\" class=\"dataframe\">\n",
       "  <thead>\n",
       "    <tr style=\"text-align: right;\">\n",
       "      <th></th>\n",
       "      <th>date</th>\n",
       "      <th>loan_id</th>\n",
       "      <th>repayment_amount</th>\n",
       "      <th>billings_amount</th>\n",
       "      <th>batch_letter</th>\n",
       "      <th>allowlisted_date</th>\n",
       "      <th>cohort_start</th>\n",
       "      <th>h_days</th>\n",
       "      <th>repayment_total</th>\n",
       "    </tr>\n",
       "  </thead>\n",
       "  <tbody>\n",
       "    <tr>\n",
       "      <th>0</th>\n",
       "      <td>2022-12-13</td>\n",
       "      <td>66fb058ba3d8436e498813f940534410a2cbe63bca8c1d...</td>\n",
       "      <td>0.00</td>\n",
       "      <td>0.15</td>\n",
       "      <td>B</td>\n",
       "      <td>2022-08-29</td>\n",
       "      <td>2022-08-29</td>\n",
       "      <td>106</td>\n",
       "      <td>0.15</td>\n",
       "    </tr>\n",
       "    <tr>\n",
       "      <th>1</th>\n",
       "      <td>2022-12-13</td>\n",
       "      <td>059f1d15ef6b5990280bb37efb4325b71b1d3b68c9c847...</td>\n",
       "      <td>0.00</td>\n",
       "      <td>71.88</td>\n",
       "      <td>B</td>\n",
       "      <td>2022-08-29</td>\n",
       "      <td>2022-08-29</td>\n",
       "      <td>106</td>\n",
       "      <td>71.88</td>\n",
       "    </tr>\n",
       "    <tr>\n",
       "      <th>2</th>\n",
       "      <td>2022-12-13</td>\n",
       "      <td>bfde49d91ce96adc8b2f04a25850c929f6688d81e26b06...</td>\n",
       "      <td>0.00</td>\n",
       "      <td>1312.95</td>\n",
       "      <td>B</td>\n",
       "      <td>2022-08-29</td>\n",
       "      <td>2022-08-29</td>\n",
       "      <td>106</td>\n",
       "      <td>1312.95</td>\n",
       "    </tr>\n",
       "    <tr>\n",
       "      <th>3</th>\n",
       "      <td>2022-12-13</td>\n",
       "      <td>c1636359078ef9fc7a37aacb4afba4610d2492c1769d24...</td>\n",
       "      <td>0.00</td>\n",
       "      <td>344.18</td>\n",
       "      <td>B</td>\n",
       "      <td>2022-08-29</td>\n",
       "      <td>2022-08-29</td>\n",
       "      <td>106</td>\n",
       "      <td>344.18</td>\n",
       "    </tr>\n",
       "    <tr>\n",
       "      <th>4</th>\n",
       "      <td>2022-12-13</td>\n",
       "      <td>6cc14f085ec7834225629bc7e619d1d1bc03b36b1f5349...</td>\n",
       "      <td>0.00</td>\n",
       "      <td>98.07</td>\n",
       "      <td>B</td>\n",
       "      <td>2022-08-29</td>\n",
       "      <td>2022-08-29</td>\n",
       "      <td>106</td>\n",
       "      <td>98.07</td>\n",
       "    </tr>\n",
       "    <tr>\n",
       "      <th>...</th>\n",
       "      <td>...</td>\n",
       "      <td>...</td>\n",
       "      <td>...</td>\n",
       "      <td>...</td>\n",
       "      <td>...</td>\n",
       "      <td>...</td>\n",
       "      <td>...</td>\n",
       "      <td>...</td>\n",
       "      <td>...</td>\n",
       "    </tr>\n",
       "    <tr>\n",
       "      <th>606641</th>\n",
       "      <td>2025-07-23</td>\n",
       "      <td>0fc1987eea1cd5f8d7e3701a4dbf14c64ed873989be65a...</td>\n",
       "      <td>100.28</td>\n",
       "      <td>0.00</td>\n",
       "      <td>C</td>\n",
       "      <td>2022-09-09</td>\n",
       "      <td>2022-09-09</td>\n",
       "      <td>1048</td>\n",
       "      <td>100.28</td>\n",
       "    </tr>\n",
       "    <tr>\n",
       "      <th>606642</th>\n",
       "      <td>2025-07-23</td>\n",
       "      <td>4c8640eb3165b8ec4658f8438319014321c2ddeac591a8...</td>\n",
       "      <td>544.87</td>\n",
       "      <td>0.00</td>\n",
       "      <td>B</td>\n",
       "      <td>2022-08-29</td>\n",
       "      <td>2022-08-29</td>\n",
       "      <td>1059</td>\n",
       "      <td>544.87</td>\n",
       "    </tr>\n",
       "    <tr>\n",
       "      <th>606643</th>\n",
       "      <td>2025-07-23</td>\n",
       "      <td>a57431a8700495819c06895d4d1fbd129cf72f0a6c532a...</td>\n",
       "      <td>15.00</td>\n",
       "      <td>0.00</td>\n",
       "      <td>E</td>\n",
       "      <td>2022-09-09</td>\n",
       "      <td>2022-09-09</td>\n",
       "      <td>1048</td>\n",
       "      <td>15.00</td>\n",
       "    </tr>\n",
       "    <tr>\n",
       "      <th>606644</th>\n",
       "      <td>2025-07-24</td>\n",
       "      <td>4c8640eb3165b8ec4658f8438319014321c2ddeac591a8...</td>\n",
       "      <td>144.16</td>\n",
       "      <td>0.00</td>\n",
       "      <td>B</td>\n",
       "      <td>2022-08-29</td>\n",
       "      <td>2022-08-29</td>\n",
       "      <td>1060</td>\n",
       "      <td>144.16</td>\n",
       "    </tr>\n",
       "    <tr>\n",
       "      <th>606645</th>\n",
       "      <td>2025-08-22</td>\n",
       "      <td>4040111219235a224c353ae09f2f123603632414118e61...</td>\n",
       "      <td>36.61</td>\n",
       "      <td>0.00</td>\n",
       "      <td>A</td>\n",
       "      <td>2024-04-04</td>\n",
       "      <td>2024-04-04</td>\n",
       "      <td>505</td>\n",
       "      <td>36.61</td>\n",
       "    </tr>\n",
       "  </tbody>\n",
       "</table>\n",
       "<p>606646 rows × 9 columns</p>\n",
       "</div>"
      ],
      "text/plain": [
       "             date                                            loan_id  \\\n",
       "0      2022-12-13  66fb058ba3d8436e498813f940534410a2cbe63bca8c1d...   \n",
       "1      2022-12-13  059f1d15ef6b5990280bb37efb4325b71b1d3b68c9c847...   \n",
       "2      2022-12-13  bfde49d91ce96adc8b2f04a25850c929f6688d81e26b06...   \n",
       "3      2022-12-13  c1636359078ef9fc7a37aacb4afba4610d2492c1769d24...   \n",
       "4      2022-12-13  6cc14f085ec7834225629bc7e619d1d1bc03b36b1f5349...   \n",
       "...           ...                                                ...   \n",
       "606641 2025-07-23  0fc1987eea1cd5f8d7e3701a4dbf14c64ed873989be65a...   \n",
       "606642 2025-07-23  4c8640eb3165b8ec4658f8438319014321c2ddeac591a8...   \n",
       "606643 2025-07-23  a57431a8700495819c06895d4d1fbd129cf72f0a6c532a...   \n",
       "606644 2025-07-24  4c8640eb3165b8ec4658f8438319014321c2ddeac591a8...   \n",
       "606645 2025-08-22  4040111219235a224c353ae09f2f123603632414118e61...   \n",
       "\n",
       "        repayment_amount  billings_amount batch_letter allowlisted_date  \\\n",
       "0                   0.00             0.15            B       2022-08-29   \n",
       "1                   0.00            71.88            B       2022-08-29   \n",
       "2                   0.00          1312.95            B       2022-08-29   \n",
       "3                   0.00           344.18            B       2022-08-29   \n",
       "4                   0.00            98.07            B       2022-08-29   \n",
       "...                  ...              ...          ...              ...   \n",
       "606641            100.28             0.00            C       2022-09-09   \n",
       "606642            544.87             0.00            B       2022-08-29   \n",
       "606643             15.00             0.00            E       2022-09-09   \n",
       "606644            144.16             0.00            B       2022-08-29   \n",
       "606645             36.61             0.00            A       2024-04-04   \n",
       "\n",
       "       cohort_start  h_days  repayment_total  \n",
       "0        2022-08-29     106             0.15  \n",
       "1        2022-08-29     106            71.88  \n",
       "2        2022-08-29     106          1312.95  \n",
       "3        2022-08-29     106           344.18  \n",
       "4        2022-08-29     106            98.07  \n",
       "...             ...     ...              ...  \n",
       "606641   2022-09-09    1048           100.28  \n",
       "606642   2022-08-29    1059           544.87  \n",
       "606643   2022-09-09    1048            15.00  \n",
       "606644   2022-08-29    1060           144.16  \n",
       "606645   2024-04-04     505            36.61  \n",
       "\n",
       "[606646 rows x 9 columns]"
      ]
     },
     "execution_count": 16,
     "metadata": {},
     "output_type": "execute_result"
    }
   ],
   "source": [
    "repayments_and_loans"
   ]
  },
  {
   "cell_type": "code",
   "execution_count": 17,
   "id": "1f129bf0",
   "metadata": {
    "vscode": {
     "languageId": "ruby"
    }
   },
   "outputs": [
    {
     "data": {
      "application/vnd.microsoft.datawrangler.viewer.v0+json": {
       "columns": [
        {
         "name": "batch_letter",
         "rawType": "object",
         "type": "string"
        },
        {
         "name": "normal_ratio",
         "rawType": "float64",
         "type": "float"
        },
        {
         "name": "collections_ratio",
         "rawType": "float64",
         "type": "float"
        },
        {
         "name": "ROI",
         "rawType": "float64",
         "type": "float"
        }
       ],
       "ref": "8d2394e1-8094-42c8-9267-867eb3714359",
       "rows": [
        [
         "A",
         "96.01102564020738",
         "3.9889743597926195",
         "0.04199662384226244"
        ],
        [
         "B",
         "95.5617870752945",
         "4.438212924705495",
         "0.06621863017667651"
        ],
        [
         "C",
         "95.83141859771592",
         "4.168581402284074",
         "0.06326161884729631"
        ],
        [
         "D",
         "91.10788598412665",
         "8.892114015873357",
         "-0.05469175859746578"
        ],
        [
         "E",
         "91.87211978954852",
         "8.127880210451476",
         "0.017566088832440485"
        ],
        [
         "F",
         "97.2943292292345",
         "2.7056707707654932",
         "0.06545425225432377"
        ],
        [
         "G",
         "93.82147548183832",
         "6.178524518161675",
         "-0.006991733608410211"
        ]
       ],
       "shape": {
        "columns": 3,
        "rows": 7
       }
      },
      "text/html": [
       "<div>\n",
       "<style scoped>\n",
       "    .dataframe tbody tr th:only-of-type {\n",
       "        vertical-align: middle;\n",
       "    }\n",
       "\n",
       "    .dataframe tbody tr th {\n",
       "        vertical-align: top;\n",
       "    }\n",
       "\n",
       "    .dataframe thead th {\n",
       "        text-align: right;\n",
       "    }\n",
       "</style>\n",
       "<table border=\"1\" class=\"dataframe\">\n",
       "  <thead>\n",
       "    <tr style=\"text-align: right;\">\n",
       "      <th></th>\n",
       "      <th>normal_ratio</th>\n",
       "      <th>collections_ratio</th>\n",
       "      <th>ROI</th>\n",
       "    </tr>\n",
       "    <tr>\n",
       "      <th>batch_letter</th>\n",
       "      <th></th>\n",
       "      <th></th>\n",
       "      <th></th>\n",
       "    </tr>\n",
       "  </thead>\n",
       "  <tbody>\n",
       "    <tr>\n",
       "      <th>A</th>\n",
       "      <td>96.011026</td>\n",
       "      <td>3.988974</td>\n",
       "      <td>0.041997</td>\n",
       "    </tr>\n",
       "    <tr>\n",
       "      <th>B</th>\n",
       "      <td>95.561787</td>\n",
       "      <td>4.438213</td>\n",
       "      <td>0.066219</td>\n",
       "    </tr>\n",
       "    <tr>\n",
       "      <th>C</th>\n",
       "      <td>95.831419</td>\n",
       "      <td>4.168581</td>\n",
       "      <td>0.063262</td>\n",
       "    </tr>\n",
       "    <tr>\n",
       "      <th>D</th>\n",
       "      <td>91.107886</td>\n",
       "      <td>8.892114</td>\n",
       "      <td>-0.054692</td>\n",
       "    </tr>\n",
       "    <tr>\n",
       "      <th>E</th>\n",
       "      <td>91.872120</td>\n",
       "      <td>8.127880</td>\n",
       "      <td>0.017566</td>\n",
       "    </tr>\n",
       "    <tr>\n",
       "      <th>F</th>\n",
       "      <td>97.294329</td>\n",
       "      <td>2.705671</td>\n",
       "      <td>0.065454</td>\n",
       "    </tr>\n",
       "    <tr>\n",
       "      <th>G</th>\n",
       "      <td>93.821475</td>\n",
       "      <td>6.178525</td>\n",
       "      <td>-0.006992</td>\n",
       "    </tr>\n",
       "  </tbody>\n",
       "</table>\n",
       "</div>"
      ],
      "text/plain": [
       "              normal_ratio  collections_ratio       ROI\n",
       "batch_letter                                           \n",
       "A                96.011026           3.988974  0.041997\n",
       "B                95.561787           4.438213  0.066219\n",
       "C                95.831419           4.168581  0.063262\n",
       "D                91.107886           8.892114 -0.054692\n",
       "E                91.872120           8.127880  0.017566\n",
       "F                97.294329           2.705671  0.065454\n",
       "G                93.821475           6.178525 -0.006992"
      ]
     },
     "metadata": {},
     "output_type": "display_data"
    }
   ],
   "source": [
    "batch_sums = repayments_and_loans.groupby(\"batch_letter\")[[\"repayment_amount\", \"billings_amount\"]].sum()\n",
    "batch_sums[\"total_repaid\"] = batch_sums[\"repayment_amount\"] + batch_sums[\"billings_amount\"] \n",
    "batch_sums[\"normal_ratio\"] = batch_sums[\"repayment_amount\"] / batch_sums[\"total_repaid\"] * 100\n",
    "batch_sums[\"collections_ratio\"] = batch_sums[\"billings_amount\"] / batch_sums[\"total_repaid\"] * 100\n",
    "batch_sums[\"ROI\"] = batch_sums[\"total_repaid\"] / loans_last_status.groupby(\"batch_letter\")[\"loan_amount\"].sum() - 1\n",
    "display(batch_sums[[\"normal_ratio\", \"collections_ratio\", \"ROI\"]])"
   ]
  },
  {
   "cell_type": "markdown",
   "id": "fcce776f",
   "metadata": {},
   "source": [
    "Collections represent a small portion of the total repayments across all batches. Most batches have a normal repayment ratio above 90%, indicating that the majority of repayments come from regular payments rather than collections.\n",
    "\n",
    "Lets look the correlation between collections repayment ratio and ROI."
   ]
  },
  {
   "cell_type": "code",
   "execution_count": 18,
   "id": "3b679b72",
   "metadata": {
    "vscode": {
     "languageId": "ruby"
    }
   },
   "outputs": [
    {
     "name": "stdout",
     "output_type": "stream",
     "text": [
      "                            OLS Regression Results                            \n",
      "==============================================================================\n",
      "Dep. Variable:                    ROI   R-squared:                       0.747\n",
      "Model:                            OLS   Adj. R-squared:                  0.697\n",
      "No. Observations:                   7   F-statistic:                     14.79\n",
      "Covariance Type:            nonrobust   Prob (F-statistic):             0.0121\n",
      "=====================================================================================\n",
      "                        coef    std err          t      P>|t|      [0.025      0.975]\n",
      "-------------------------------------------------------------------------------------\n",
      "const                 0.1216      0.026      4.636      0.006       0.054       0.189\n",
      "collections_ratio    -0.0171      0.004     -3.846      0.012      -0.029      -0.006\n",
      "=====================================================================================\n",
      "\n",
      "Notes:\n",
      "[1] Standard Errors assume that the covariance matrix of the errors is correctly specified.\n"
     ]
    },
    {
     "name": "stderr",
     "output_type": "stream",
     "text": [
      "c:\\Users\\vitor\\git_repos\\case-ds-cloud-walk\\.venv\\Lib\\site-packages\\statsmodels\\stats\\stattools.py:74: ValueWarning: omni_normtest is not valid with less than 8 observations; 7 samples were given.\n",
      "  warn(\"omni_normtest is not valid with less than 8 observations; %i \"\n"
     ]
    },
    {
     "data": {
      "text/plain": [
       "[<matplotlib.lines.Line2D at 0x1efbe6e2450>]"
      ]
     },
     "execution_count": 18,
     "metadata": {},
     "output_type": "execute_result"
    },
    {
     "data": {
      "image/png": "[encoded data removed]",
      "text/plain": [
       "<Figure size 500x400 with 1 Axes>"
      ]
     },
     "metadata": {},
     "output_type": "display_data"
    }
   ],
   "source": [
    "\n",
    "import statsmodels.api as sm\n",
    "\n",
    "# Computing a linear regression model between collections ratio and ROI\n",
    "X = sm.add_constant(batch_sums[\"collections_ratio\"])\n",
    "y = batch_sums[\"ROI\"]\n",
    "model = sm.OLS(y, X).fit()\n",
    "print(model.summary(slim=True))\n",
    "\n",
    "# Create the scatter plot\n",
    "ax = batch_sums.plot(\n",
    "    kind=\"scatter\", x=\"collections_ratio\", y=\"ROI\", title=\"Collections Ratio vs ROI\", figsize=(5,4)\n",
    ")\n",
    "ax.plot(batch_sums[\"collections_ratio\"], model.predict(X), color='red')"
   ]
  },
  {
   "cell_type": "markdown",
   "id": "5f05ffcb",
   "metadata": {
    "vscode": {
     "languageId": "ruby"
    }
   },
   "source": [
    "The R-squared of 0.747 indicates that the collections ratio explains a substantial part of the variance in ROI. The negative coefficient (-0.0171) for the collections ratio is statistically significant (p = 0.012 < 0.05), despite having few observations, suggesting that higher collections ratios are associated with lower ROI.\n",
    "\n",
    "This shows an expected correlation: cohorts with bad payers tends to have lower ROI and rely more on collections to recover their losses.\n",
    "\n",
    "And obviously, the opposite is also true: higher normal payment ratios are associated with higher ROI."
   ]
  },
  {
   "cell_type": "markdown",
   "id": "75332c09",
   "metadata": {
    "vscode": {
     "languageId": "ruby"
    }
   },
   "source": [
    "## First Loan Tolerance\n",
    "\n",
    "How much initial default rate could this cohort tolerate and still reach non-negative ROI by horizon $H$?\n",
    "\n",
    "Stating some definitions:\n",
    "\n",
    "- **initial default loans:** the loans in the cohort that are expected to default at the beginning of the investment horizon.\n",
    "- **initial default rate:** = (Principal amount of initialdefaulted loans) / (Total principal amount of cohort)\n",
    "\n",
    "To answer this question, we can simulate different initial default rates for the cohort and calculate the ROI at horizon $H$ for each scenario. The goal is to find the maximum initial default rate that still results in a non-negative ROI.\n",
    "\n",
    "To get a better understanding about how to perform this simulation, let's look at the distribution of loan principal amounts across cohorts."
   ]
  },
  {
   "cell_type": "code",
   "execution_count": 25,
   "id": "27735bfe",
   "metadata": {},
   "outputs": [
    {
     "data": {
      "application/vnd.microsoft.datawrangler.viewer.v0+json": {
       "columns": [
        {
         "name": "batch_letter",
         "rawType": "object",
         "type": "string"
        },
        {
         "name": "count",
         "rawType": "float64",
         "type": "float"
        },
        {
         "name": "mean",
         "rawType": "float64",
         "type": "float"
        },
        {
         "name": "std",
         "rawType": "float64",
         "type": "float"
        },
        {
         "name": "min",
         "rawType": "float64",
         "type": "float"
        },
        {
         "name": "25%",
         "rawType": "float64",
         "type": "float"
        },
        {
         "name": "50%",
         "rawType": "float64",
         "type": "float"
        },
        {
         "name": "75%",
         "rawType": "float64",
         "type": "float"
        },
        {
         "name": "max",
         "rawType": "float64",
         "type": "float"
        }
       ],
       "ref": "be1ad989-2513-47d2-b20b-07b133883d8c",
       "rows": [
        [
         "A",
         "3183.0",
         "247.154137606032",
         "425.6802502999336",
         "8.0",
         "50.0",
         "50.0",
         "250.0",
         "8430.0"
        ],
        [
         "B",
         "6028.0",
         "3726.5121350364966",
         "4238.268713727108",
         "10.0",
         "1500.0",
         "2500.0",
         "4200.0",
         "53230.0"
        ],
        [
         "C",
         "8335.0",
         "3678.3153641271742",
         "3467.704651240341",
         "13.0",
         "1600.0",
         "2500.0",
         "4500.0",
         "41600.0"
        ],
        [
         "D",
         "4976.0",
         "520.0533078778135",
         "383.0550915133514",
         "5.0",
         "500.0",
         "500.0",
         "500.0",
         "10270.0"
        ],
        [
         "E",
         "4468.0",
         "3146.9379588182633",
         "2863.601906032301",
         "20.0",
         "1500.0",
         "2250.0",
         "3700.0",
         "28540.0"
        ],
        [
         "F",
         "3641.0",
         "2293.0797885196375",
         "3761.001483733025",
         "10.0",
         "500.0",
         "1200.0",
         "2470.0",
         "64900.0"
        ],
        [
         "G",
         "14750.0",
         "247.32526101694916",
         "653.2372034535632",
         "10.0",
         "50.0",
         "50.0",
         "150.0",
         "15450.0"
        ]
       ],
       "shape": {
        "columns": 8,
        "rows": 7
       }
      },
      "text/html": [
       "<div>\n",
       "<style scoped>\n",
       "    .dataframe tbody tr th:only-of-type {\n",
       "        vertical-align: middle;\n",
       "    }\n",
       "\n",
       "    .dataframe tbody tr th {\n",
       "        vertical-align: top;\n",
       "    }\n",
       "\n",
       "    .dataframe thead th {\n",
       "        text-align: right;\n",
       "    }\n",
       "</style>\n",
       "<table border=\"1\" class=\"dataframe\">\n",
       "  <thead>\n",
       "    <tr style=\"text-align: right;\">\n",
       "      <th></th>\n",
       "      <th>count</th>\n",
       "      <th>mean</th>\n",
       "      <th>std</th>\n",
       "      <th>min</th>\n",
       "      <th>25%</th>\n",
       "      <th>50%</th>\n",
       "      <th>75%</th>\n",
       "      <th>max</th>\n",
       "    </tr>\n",
       "    <tr>\n",
       "      <th>batch_letter</th>\n",
       "      <th></th>\n",
       "      <th></th>\n",
       "      <th></th>\n",
       "      <th></th>\n",
       "      <th></th>\n",
       "      <th></th>\n",
       "      <th></th>\n",
       "      <th></th>\n",
       "    </tr>\n",
       "  </thead>\n",
       "  <tbody>\n",
       "    <tr>\n",
       "      <th>A</th>\n",
       "      <td>3183.0</td>\n",
       "      <td>247.154138</td>\n",
       "      <td>425.680250</td>\n",
       "      <td>8.0</td>\n",
       "      <td>50.0</td>\n",
       "      <td>50.0</td>\n",
       "      <td>250.0</td>\n",
       "      <td>8430.0</td>\n",
       "    </tr>\n",
       "    <tr>\n",
       "      <th>B</th>\n",
       "      <td>6028.0</td>\n",
       "      <td>3726.512135</td>\n",
       "      <td>4238.268714</td>\n",
       "      <td>10.0</td>\n",
       "      <td>1500.0</td>\n",
       "      <td>2500.0</td>\n",
       "      <td>4200.0</td>\n",
       "      <td>53230.0</td>\n",
       "    </tr>\n",
       "    <tr>\n",
       "      <th>C</th>\n",
       "      <td>8335.0</td>\n",
       "      <td>3678.315364</td>\n",
       "      <td>3467.704651</td>\n",
       "      <td>13.0</td>\n",
       "      <td>1600.0</td>\n",
       "      <td>2500.0</td>\n",
       "      <td>4500.0</td>\n",
       "      <td>41600.0</td>\n",
       "    </tr>\n",
       "    <tr>\n",
       "      <th>D</th>\n",
       "      <td>4976.0</td>\n",
       "      <td>520.053308</td>\n",
       "      <td>383.055092</td>\n",
       "      <td>5.0</td>\n",
       "      <td>500.0</td>\n",
       "      <td>500.0</td>\n",
       "      <td>500.0</td>\n",
       "      <td>10270.0</td>\n",
       "    </tr>\n",
       "    <tr>\n",
       "      <th>E</th>\n",
       "      <td>4468.0</td>\n",
       "      <td>3146.937959</td>\n",
       "      <td>2863.601906</td>\n",
       "      <td>20.0</td>\n",
       "      <td>1500.0</td>\n",
       "      <td>2250.0</td>\n",
       "      <td>3700.0</td>\n",
       "      <td>28540.0</td>\n",
       "    </tr>\n",
       "    <tr>\n",
       "      <th>F</th>\n",
       "      <td>3641.0</td>\n",
       "      <td>2293.079789</td>\n",
       "      <td>3761.001484</td>\n",
       "      <td>10.0</td>\n",
       "      <td>500.0</td>\n",
       "      <td>1200.0</td>\n",
       "      <td>2470.0</td>\n",
       "      <td>64900.0</td>\n",
       "    </tr>\n",
       "    <tr>\n",
       "      <th>G</th>\n",
       "      <td>14750.0</td>\n",
       "      <td>247.325261</td>\n",
       "      <td>653.237203</td>\n",
       "      <td>10.0</td>\n",
       "      <td>50.0</td>\n",
       "      <td>50.0</td>\n",
       "      <td>150.0</td>\n",
       "      <td>15450.0</td>\n",
       "    </tr>\n",
       "  </tbody>\n",
       "</table>\n",
       "</div>"
      ],
      "text/plain": [
       "                count         mean          std   min     25%     50%     75%  \\\n",
       "batch_letter                                                                    \n",
       "A              3183.0   247.154138   425.680250   8.0    50.0    50.0   250.0   \n",
       "B              6028.0  3726.512135  4238.268714  10.0  1500.0  2500.0  4200.0   \n",
       "C              8335.0  3678.315364  3467.704651  13.0  1600.0  2500.0  4500.0   \n",
       "D              4976.0   520.053308   383.055092   5.0   500.0   500.0   500.0   \n",
       "E              4468.0  3146.937959  2863.601906  20.0  1500.0  2250.0  3700.0   \n",
       "F              3641.0  2293.079789  3761.001484  10.0   500.0  1200.0  2470.0   \n",
       "G             14750.0   247.325261   653.237203  10.0    50.0    50.0   150.0   \n",
       "\n",
       "                  max  \n",
       "batch_letter           \n",
       "A              8430.0  \n",
       "B             53230.0  \n",
       "C             41600.0  \n",
       "D             10270.0  \n",
       "E             28540.0  \n",
       "F             64900.0  \n",
       "G             15450.0  "
      ]
     },
     "metadata": {},
     "output_type": "display_data"
    }
   ],
   "source": [
    "# Display basic statistics of loan amounts by cohort\n",
    "loan_stats = loans_last_status.groupby('batch_letter')['loan_amount'].describe()\n",
    "# puts \"Loan amount statistics by cohort:\"\n",
    "display(loan_stats)"
   ]
  },
  {
   "cell_type": "code",
   "execution_count": 38,
   "id": "4b53b223",
   "metadata": {},
   "outputs": [
    {
     "data": {
      "image/png": "[encoded data removed]",
      "text/plain": [
       "<Figure size 1500x800 with 7 Axes>"
      ]
     },
     "metadata": {},
     "output_type": "display_data"
    }
   ],
   "source": [
    "\n",
    "# Create histogram showing distribution of loan amounts for each cohort\n",
    "cohorts = loan_stats.index.tolist()\n",
    "fig, axes = plt.subplots(2, 4, figsize=(15, 8))\n",
    "axes = axes.flatten()\n",
    "\n",
    "for i, cohort in enumerate(cohorts):\n",
    "    cohort_loans = loans_last_status[loans_last_status['batch_letter'] == cohort]['loan_amount']\n",
    "    axes[i].hist(cohort_loans, bins=30, alpha=0.7, edgecolor='black')\n",
    "    axes[i].set_title(f\"Cohort #{cohort} - Loan Amount Distribution\")\n",
    "    axes[i].set_xlabel('Loan Amount')\n",
    "    axes[i].set_ylabel('Frequency')\n",
    "\n",
    "# # Remove the last empty subplot\n",
    "axes[-1].remove()\n",
    "\n",
    "plt.tight_layout()\n",
    "plt.show()"
   ]
  },
  {
   "cell_type": "markdown",
   "id": "a98eb342",
   "metadata": {},
   "source": [
    "All the distributions are right-skewed, with most loans being of smaller amounts and a few loans being of significantly larger amounts. Cohorts B, C, and E have a wider range of loan amounts, while cohorts A, D, F, and G have a more concentrated distribution of smaller loans."
   ]
  },
  {
   "cell_type": "markdown",
   "id": "54720f3c",
   "metadata": {},
   "source": [
    "### Stratified loan selection for initial default simulation\n",
    "\n",
    "Since the loan amounts are right-skewed, randomly selecting loans to default could lead to biased results. To mitigate this, we can use **stratified sampling** based on loan amount percentiles.\n",
    "\n",
    "This approach ensures that we select defaulted loans from different segments of the loan amount distribution, providing a more representative simulation of initial defaults.\n",
    "\n",
    "The code to perform is quite complex, so I moved it to a separate file: `initial_default_rate_tolerance.py`.\n",
    "The basic idea is to divide the loans into `3` stratum based on their amount percentiles, and then select defaulted loans from each stratum proportionally to its size.\n",
    "\n",
    "In some cases, due the highly concentrated distribution of loan amounts, it may not be possible to split in 3 stratum. In this case, we will reduce the number of stratum until it is possible to split the loans (obviously, 1 stratum is always possible).\n",
    "\n",
    "The number of loans to default in each stratum is determined by the target initial default rate. \n",
    "\n",
    "**Example:** If we have a target initial default rate of 5%, we would select stratified random loans until the total principal of the selected loans reaches 5% (within a small tolerance) of the total principal of the cohort.\n",
    "\n",
    "Let's look at the results of the stratified sampling for cohort A."
   ]
  },
  {
   "cell_type": "code",
   "execution_count": 85,
   "id": "da419d5d",
   "metadata": {},
   "outputs": [
    {
     "name": "stdout",
     "output_type": "stream",
     "text": [
      "Selected 83 loans from Small stratum\n",
      "Selected 20 loans from Medium stratum\n",
      "Selected 40 loans from Large stratum\n",
      "Default rate for Cohort A: 0.04781988144223528\n"
     ]
    },
    {
     "data": {
      "application/vnd.microsoft.datawrangler.viewer.v0+json": {
       "columns": [
        {
         "name": "index",
         "rawType": "int64",
         "type": "integer"
        },
        {
         "name": "loan_id",
         "rawType": "object",
         "type": "string"
        },
        {
         "name": "loan_amount",
         "rawType": "float64",
         "type": "float"
        },
        {
         "name": "size_stratum",
         "rawType": "category",
         "type": "unknown"
        },
        {
         "name": "batch_letter",
         "rawType": "object",
         "type": "string"
        }
       ],
       "ref": "4db9df8a-74df-490c-b46a-a49f4b1c97ca",
       "rows": [
        [
         "157395",
         "8172561569992e38544f64a12c521c0c7517bb195bb71b9eb59e2bfae5fbd0d5",
         "20.0",
         "Small",
         "A"
        ],
        [
         "161171",
         "ec97f38be9a1ef5d1905986b80a0f2067e2fd6131dd8224837e51948e1a81f46",
         "500.0",
         "Large",
         "A"
        ],
        [
         "138097",
         "fd7931027cdc8bbd93f29a5bb4d867332d79fd2ff06bdac2b4c267c1144b2887",
         "50.0",
         "Small",
         "A"
        ],
        [
         "156171",
         "457d997b8f205c314334528d87f624bccc8ef96a247425e358c2d62bc8a7fb0d",
         "50.0",
         "Small",
         "A"
        ],
        [
         "131489",
         "f6277c41d2b862738733614b90389cdb0933ba5e96496108d612b896e164f3b6",
         "250.0",
         "Large",
         "A"
        ],
        [
         "153146",
         "c4af8f4b5f3eb958db2fb18b454d3ccab1779162c3aea7ec2dee4091ecd84f00",
         "300.0",
         "Large",
         "A"
        ],
        [
         "127974",
         "edebfa220e08f774c4a418981b0be442a7c281aab9300fe1a2609f42b2caebad",
         "50.0",
         "Small",
         "A"
        ],
        [
         "145683",
         "a04541044d294ce85f3a35cf4735e1fb68b2fa77c2b74dbdda420424dd6bdeb6",
         "200.0",
         "Large",
         "A"
        ],
        [
         "131783",
         "64f8da2c0ad6480d5cc93ee220150b040854e90effb899dc3ab687f151e99ed2",
         "100.0",
         "Medium",
         "A"
        ],
        [
         "78494",
         "459ddefcfb71fa2a03c1a7b554c06659c383ba2ff3d6457863157e1929bfd8f2",
         "50.0",
         "Small",
         "A"
        ]
       ],
       "shape": {
        "columns": 4,
        "rows": 10
       }
      },
      "text/html": [
       "<div>\n",
       "<style scoped>\n",
       "    .dataframe tbody tr th:only-of-type {\n",
       "        vertical-align: middle;\n",
       "    }\n",
       "\n",
       "    .dataframe tbody tr th {\n",
       "        vertical-align: top;\n",
       "    }\n",
       "\n",
       "    .dataframe thead th {\n",
       "        text-align: right;\n",
       "    }\n",
       "</style>\n",
       "<table border=\"1\" class=\"dataframe\">\n",
       "  <thead>\n",
       "    <tr style=\"text-align: right;\">\n",
       "      <th></th>\n",
       "      <th>loan_id</th>\n",
       "      <th>loan_amount</th>\n",
       "      <th>size_stratum</th>\n",
       "      <th>batch_letter</th>\n",
       "    </tr>\n",
       "  </thead>\n",
       "  <tbody>\n",
       "    <tr>\n",
       "      <th>157395</th>\n",
       "      <td>8172561569992e38544f64a12c521c0c7517bb195bb71b...</td>\n",
       "      <td>20.0</td>\n",
       "      <td>Small</td>\n",
       "      <td>A</td>\n",
       "    </tr>\n",
       "    <tr>\n",
       "      <th>161171</th>\n",
       "      <td>ec97f38be9a1ef5d1905986b80a0f2067e2fd6131dd822...</td>\n",
       "      <td>500.0</td>\n",
       "      <td>Large</td>\n",
       "      <td>A</td>\n",
       "    </tr>\n",
       "    <tr>\n",
       "      <th>138097</th>\n",
       "      <td>fd7931027cdc8bbd93f29a5bb4d867332d79fd2ff06bda...</td>\n",
       "      <td>50.0</td>\n",
       "      <td>Small</td>\n",
       "      <td>A</td>\n",
       "    </tr>\n",
       "    <tr>\n",
       "      <th>156171</th>\n",
       "      <td>457d997b8f205c314334528d87f624bccc8ef96a247425...</td>\n",
       "      <td>50.0</td>\n",
       "      <td>Small</td>\n",
       "      <td>A</td>\n",
       "    </tr>\n",
       "    <tr>\n",
       "      <th>131489</th>\n",
       "      <td>f6277c41d2b862738733614b90389cdb0933ba5e964961...</td>\n",
       "      <td>250.0</td>\n",
       "      <td>Large</td>\n",
       "      <td>A</td>\n",
       "    </tr>\n",
       "    <tr>\n",
       "      <th>153146</th>\n",
       "      <td>c4af8f4b5f3eb958db2fb18b454d3ccab1779162c3aea7...</td>\n",
       "      <td>300.0</td>\n",
       "      <td>Large</td>\n",
       "      <td>A</td>\n",
       "    </tr>\n",
       "    <tr>\n",
       "      <th>127974</th>\n",
       "      <td>edebfa220e08f774c4a418981b0be442a7c281aab9300f...</td>\n",
       "      <td>50.0</td>\n",
       "      <td>Small</td>\n",
       "      <td>A</td>\n",
       "    </tr>\n",
       "    <tr>\n",
       "      <th>145683</th>\n",
       "      <td>a04541044d294ce85f3a35cf4735e1fb68b2fa77c2b74d...</td>\n",
       "      <td>200.0</td>\n",
       "      <td>Large</td>\n",
       "      <td>A</td>\n",
       "    </tr>\n",
       "    <tr>\n",
       "      <th>131783</th>\n",
       "      <td>64f8da2c0ad6480d5cc93ee220150b040854e90effb899...</td>\n",
       "      <td>100.0</td>\n",
       "      <td>Medium</td>\n",
       "      <td>A</td>\n",
       "    </tr>\n",
       "    <tr>\n",
       "      <th>78494</th>\n",
       "      <td>459ddefcfb71fa2a03c1a7b554c06659c383ba2ff3d645...</td>\n",
       "      <td>50.0</td>\n",
       "      <td>Small</td>\n",
       "      <td>A</td>\n",
       "    </tr>\n",
       "  </tbody>\n",
       "</table>\n",
       "</div>"
      ],
      "text/plain": [
       "                                                  loan_id  loan_amount  \\\n",
       "157395  8172561569992e38544f64a12c521c0c7517bb195bb71b...         20.0   \n",
       "161171  ec97f38be9a1ef5d1905986b80a0f2067e2fd6131dd822...        500.0   \n",
       "138097  fd7931027cdc8bbd93f29a5bb4d867332d79fd2ff06bda...         50.0   \n",
       "156171  457d997b8f205c314334528d87f624bccc8ef96a247425...         50.0   \n",
       "131489  f6277c41d2b862738733614b90389cdb0933ba5e964961...        250.0   \n",
       "153146  c4af8f4b5f3eb958db2fb18b454d3ccab1779162c3aea7...        300.0   \n",
       "127974  edebfa220e08f774c4a418981b0be442a7c281aab9300f...         50.0   \n",
       "145683  a04541044d294ce85f3a35cf4735e1fb68b2fa77c2b74d...        200.0   \n",
       "131783  64f8da2c0ad6480d5cc93ee220150b040854e90effb899...        100.0   \n",
       "78494   459ddefcfb71fa2a03c1a7b554c06659c383ba2ff3d645...         50.0   \n",
       "\n",
       "       size_stratum batch_letter  \n",
       "157395        Small            A  \n",
       "161171        Large            A  \n",
       "138097        Small            A  \n",
       "156171        Small            A  \n",
       "131489        Large            A  \n",
       "153146        Large            A  \n",
       "127974        Small            A  \n",
       "145683        Large            A  \n",
       "131783       Medium            A  \n",
       "78494         Small            A  "
      ]
     },
     "execution_count": 85,
     "metadata": {},
     "output_type": "execute_result"
    }
   ],
   "source": [
    "from src.stratified_selection import stratified_loan_selection\n",
    "\n",
    "cohort_a_loans = loans_last_status[loans_last_status[\"batch_letter\"] == \"A\"]\n",
    "\n",
    "stratified_a_selection = stratified_loan_selection(\n",
    "    loans_df=cohort_a_loans, target_default_rate=0.05, random_state=42\n",
    ")\n",
    "target_default_rate = (\n",
    "    stratified_a_selection[\"loan_amount\"].sum() / cohort_a_loans[\"loan_amount\"].sum()\n",
    ")\n",
    "print(\"Default rate for Cohort A:\", target_default_rate)\n",
    "\n",
    "stratified_a_selection[[\"loan_id\", \"loan_amount\", \"size_stratum\", \"batch_letter\"]].head(10)\n"
   ]
  },
  {
   "cell_type": "markdown",
   "id": "47f53f32",
   "metadata": {},
   "source": [
    "If we change a **different** ``random_state``, we should get a slightly different selection, however, with the same default rate"
   ]
  },
  {
   "cell_type": "code",
   "execution_count": 80,
   "id": "41359f47",
   "metadata": {},
   "outputs": [
    {
     "name": "stdout",
     "output_type": "stream",
     "text": [
      "Selected 83 loans from Small stratum\n",
      "Selected 22 loans from Medium stratum\n",
      "Selected 43 loans from Large stratum\n",
      "Default rate for Cohort A (different random state): 0.048541256865047074\n"
     ]
    }
   ],
   "source": [
    "stratified_a_selection = stratified_loan_selection(\n",
    "    loans_df=cohort_a_loans, target_default_rate=0.05, random_state=1\n",
    ")\n",
    "target_default_rate = (\n",
    "    stratified_a_selection[\"loan_amount\"].sum() / cohort_a_loans[\"loan_amount\"].sum()\n",
    ")\n",
    "print(\"Default rate for Cohort A (different random state):\", target_default_rate)"
   ]
  },
  {
   "cell_type": "markdown",
   "id": "e37ca6fc",
   "metadata": {},
   "source": [
    "### Initial default rate tolerance simulation\n",
    "\n",
    "With the stratified loan selection function in place, we can now define a simple function to simulate different initial default rates and calculate the ROI at horizon $H$ for each scenario.\n",
    "\n",
    "The idea is just to iterate over a range of default rates, select the corresponding loans to default using the stratified selection function, and then calculate the ROI at horizon $H$ excluding the repayments from the defaulted loans.\n"
   ]
  },
  {
   "cell_type": "code",
   "execution_count": 86,
   "id": "4b488338",
   "metadata": {},
   "outputs": [
    {
     "data": {
      "application/vnd.microsoft.datawrangler.viewer.v0+json": {
       "columns": [
        {
         "name": "index",
         "rawType": "int64",
         "type": "integer"
        },
        {
         "name": "default_rates",
         "rawType": "float64",
         "type": "float"
        },
        {
         "name": "roi_values",
         "rawType": "float64",
         "type": "float"
        }
       ],
       "ref": "561abee8-03a4-4723-9345-fc943b4af854",
       "rows": [
        [
         "0",
         "0.009800536581284547",
         "0.032328831077417686"
        ],
        [
         "1",
         "0.0191943064043316",
         "0.02198316341414719"
        ],
        [
         "2",
         "0.028612863576708752",
         "0.012280774869573685"
        ],
        [
         "3",
         "0.03871847522667142",
         "0.0015053811797312022"
        ],
        [
         "4",
         "0.04781988144223528",
         "-0.00903574456405154"
        ],
        [
         "5",
         "0.05781236108756314",
         "-0.019579106091151544"
        ],
        [
         "6",
         "0.06669767246281333",
         "-0.028840754256413526"
        ],
        [
         "7",
         "0.07626940274258928",
         "-0.037834285958200375"
        ],
        [
         "8",
         "0.08638772585374688",
         "-0.04885229850293804"
        ],
        [
         "9",
         "0.09678442996507323",
         "-0.059967511500885085"
        ]
       ],
       "shape": {
        "columns": 2,
        "rows": 10
       }
      },
      "text/html": [
       "<div>\n",
       "<style scoped>\n",
       "    .dataframe tbody tr th:only-of-type {\n",
       "        vertical-align: middle;\n",
       "    }\n",
       "\n",
       "    .dataframe tbody tr th {\n",
       "        vertical-align: top;\n",
       "    }\n",
       "\n",
       "    .dataframe thead th {\n",
       "        text-align: right;\n",
       "    }\n",
       "</style>\n",
       "<table border=\"1\" class=\"dataframe\">\n",
       "  <thead>\n",
       "    <tr style=\"text-align: right;\">\n",
       "      <th></th>\n",
       "      <th>default_rates</th>\n",
       "      <th>roi_values</th>\n",
       "    </tr>\n",
       "  </thead>\n",
       "  <tbody>\n",
       "    <tr>\n",
       "      <th>0</th>\n",
       "      <td>0.009801</td>\n",
       "      <td>0.032329</td>\n",
       "    </tr>\n",
       "    <tr>\n",
       "      <th>1</th>\n",
       "      <td>0.019194</td>\n",
       "      <td>0.021983</td>\n",
       "    </tr>\n",
       "    <tr>\n",
       "      <th>2</th>\n",
       "      <td>0.028613</td>\n",
       "      <td>0.012281</td>\n",
       "    </tr>\n",
       "    <tr>\n",
       "      <th>3</th>\n",
       "      <td>0.038718</td>\n",
       "      <td>0.001505</td>\n",
       "    </tr>\n",
       "    <tr>\n",
       "      <th>4</th>\n",
       "      <td>0.047820</td>\n",
       "      <td>-0.009036</td>\n",
       "    </tr>\n",
       "    <tr>\n",
       "      <th>5</th>\n",
       "      <td>0.057812</td>\n",
       "      <td>-0.019579</td>\n",
       "    </tr>\n",
       "    <tr>\n",
       "      <th>6</th>\n",
       "      <td>0.066698</td>\n",
       "      <td>-0.028841</td>\n",
       "    </tr>\n",
       "    <tr>\n",
       "      <th>7</th>\n",
       "      <td>0.076269</td>\n",
       "      <td>-0.037834</td>\n",
       "    </tr>\n",
       "    <tr>\n",
       "      <th>8</th>\n",
       "      <td>0.086388</td>\n",
       "      <td>-0.048852</td>\n",
       "    </tr>\n",
       "    <tr>\n",
       "      <th>9</th>\n",
       "      <td>0.096784</td>\n",
       "      <td>-0.059968</td>\n",
       "    </tr>\n",
       "  </tbody>\n",
       "</table>\n",
       "</div>"
      ],
      "text/plain": [
       "   default_rates  roi_values\n",
       "0       0.009801    0.032329\n",
       "1       0.019194    0.021983\n",
       "2       0.028613    0.012281\n",
       "3       0.038718    0.001505\n",
       "4       0.047820   -0.009036\n",
       "5       0.057812   -0.019579\n",
       "6       0.066698   -0.028841\n",
       "7       0.076269   -0.037834\n",
       "8       0.086388   -0.048852\n",
       "9       0.096784   -0.059968"
      ]
     },
     "execution_count": 86,
     "metadata": {},
     "output_type": "execute_result"
    }
   ],
   "source": [
    "import numpy as np\n",
    "\n",
    "# NOTE: I choose leave this function in the notebook for clarity\n",
    "\n",
    "\n",
    "def simulate_default_tolerance(\n",
    "    cohort_letter, default_rates=None, random_state=42, verbose=False\n",
    "):\n",
    "    \"\"\"\n",
    "    Simulate ROI at horizon H for different initial default rates using stratified sampling.\n",
    "\n",
    "    Args:\n",
    "        cohort_letter: The cohort to analyze\n",
    "        default_rates: List of default rates to test\n",
    "\n",
    "    Returns:\n",
    "        dict: Results with default rates and corresponding ROI values\n",
    "    \"\"\"\n",
    "    if default_rates is None:\n",
    "        default_rates = np.linspace(0.01, 0.1, 10)  # 1% to 10% in 1% increments\n",
    "\n",
    "    # Get cohort data\n",
    "    cohort_loans = loans_last_status[\n",
    "        loans_last_status[\"batch_letter\"] == cohort_letter\n",
    "    ].copy()\n",
    "    cohort_repayments = repayments_and_loans[\n",
    "        repayments_and_loans[\"loan_id\"].isin(cohort_loans[\"loan_id\"])\n",
    "    ].copy()\n",
    "\n",
    "    results = {\"default_rates\": [], \"roi_values\": []}\n",
    "\n",
    "    for target_default_rate in default_rates:\n",
    "        # Select loans for default using stratified sampling\n",
    "        defaulted_loans_selection = stratified_loan_selection(\n",
    "            cohort_loans,\n",
    "            target_default_rate,\n",
    "            random_state=random_state,\n",
    "            verbose=verbose,\n",
    "        )\n",
    "            \n",
    "        # Simulate scenario: remove repayments for defaulted loans\n",
    "        scenario_repayments = cohort_repayments[\n",
    "            ~cohort_repayments[\"loan_id\"].isin(defaulted_loans_selection[\"loan_id\"])\n",
    "        ].copy()\n",
    "\n",
    "        # Calculate total repayments at horizon H\n",
    "        total_repayments = scenario_repayments[\"repayment_total\"].sum()\n",
    "\n",
    "        # Calculate ROI\n",
    "        roi = (total_repayments / cohort_loans[\"loan_amount\"].sum()) - 1\n",
    "\n",
    "        true_default_rate = (\n",
    "            defaulted_loans_selection[\"loan_amount\"].sum()\n",
    "            / cohort_loans[\"loan_amount\"].sum()\n",
    "        )\n",
    "\n",
    "        results[\"default_rates\"].append(true_default_rate)\n",
    "        results[\"roi_values\"].append(roi)\n",
    "\n",
    "        if verbose:\n",
    "            print(\n",
    "                f\"Default rate: {target_default_rate:.1%}, ROI: {roi:.3f}, Defaulted loans: {len(defaulted_loans_selection)}\"\n",
    "            )\n",
    "\n",
    "    return results\n",
    "\n",
    "\n",
    "# Test the stratified sampling approach for Cohort B (profitable cohort)\n",
    "cohort_to_test = \"A\"\n",
    "tolerance_results = simulate_default_tolerance(cohort_to_test, verbose=False)\n",
    "pd.DataFrame(tolerance_results)"
   ]
  },
  {
   "cell_type": "markdown",
   "id": "094bae4e",
   "metadata": {},
   "source": [
    "Now, let's compute the default tolerance results for all cohorts and plot the results."
   ]
  },
  {
   "cell_type": "code",
   "execution_count": null,
   "id": "d46fd97f",
   "metadata": {},
   "outputs": [
    {
     "name": "stdout",
     "output_type": "stream",
     "text": [
      "Error occurred while spliting cohort into 3 strata, reducing number of strata\n",
      "Error occurred while spliting cohort into 3 strata, reducing number of strata\n",
      "Error occurred while spliting cohort into 3 strata, reducing number of strata\n",
      "Error occurred while spliting cohort into 3 strata, reducing number of strata\n",
      "Error occurred while spliting cohort into 3 strata, reducing number of strata\n",
      "Error occurred while spliting cohort into 3 strata, reducing number of strata\n",
      "Error occurred while spliting cohort into 3 strata, reducing number of strata\n",
      "Error occurred while spliting cohort into 3 strata, reducing number of strata\n",
      "Error occurred while spliting cohort into 3 strata, reducing number of strata\n",
      "Error occurred while spliting cohort into 3 strata, reducing number of strata\n"
     ]
    },
    {
     "data": {
      "image/png": "[encoded data removed]",
      "text/plain": [
       "<Figure size 1500x800 with 7 Axes>"
      ]
     },
     "metadata": {},
     "output_type": "display_data"
    }
   ],
   "source": [
    "from src.plot.initial_default_rate_tolerance import initial_default_tolerance_simulation_plot\n",
    "\n",
    "all_cohorts_letters = loans_last_status[\"batch_letter\"].unique()\n",
    "all_cohorts_letters.sort()\n",
    "\n",
    "fig, axes = plt.subplots(2, 4, figsize=(15, 8), sharey=True)\n",
    "flattened_axes = axes.flatten()\n",
    "\n",
    "for i, cohort_letter in enumerate(all_cohorts_letters):\n",
    "    tolerance_results = simulate_default_tolerance(cohort_letter, verbose=False)\n",
    "    _ = initial_default_tolerance_simulation_plot(tolerance_results, cohort_letter, ax=flattened_axes[i])\n",
    "\n",
    "flattened_axes[-1].remove()\n",
    "plt.tight_layout()\n",
    "plt.show()"
   ]
  },
  {
   "cell_type": "markdown",
   "id": "43e8524d",
   "metadata": {},
   "source": [
    "To ensure that our approach is not too sensitive to the random selection of defaulted loans, we can repeat the simulation with a different random seeds.\n",
    "\n",
    "Lets consider that each seed represents a experiment.\n",
    "\n",
    "We can then aggregate the results across all experiments to obtain a more robust estimate of the maximum tolerance rate for each cohort."
   ]
  },
  {
   "cell_type": "code",
   "execution_count": 112,
   "id": "bb9abeb9",
   "metadata": {},
   "outputs": [
    {
     "data": {
      "application/vnd.microsoft.datawrangler.viewer.v0+json": {
       "columns": [
        {
         "name": "index",
         "rawType": "int64",
         "type": "integer"
        },
        {
         "name": "Cohort",
         "rawType": "object",
         "type": "string"
        },
        {
         "name": "mean_max_tolerance_rate",
         "rawType": "float64",
         "type": "float"
        },
        {
         "name": "std_max_tolerance_rate",
         "rawType": "float64",
         "type": "float"
        }
       ],
       "ref": "b9ec8f7b-ea00-452e-a560-ea0a4cc17d48",
       "rows": [
        [
         "0",
         "A",
         "0.038845716953232585",
         "0.00026983123820624336"
        ],
        [
         "1",
         "B",
         "0.05740316204769068",
         "0.0002974624054563735"
        ],
        [
         "2",
         "C",
         "0.05721051896368762",
         "0.00013282387007503932"
        ],
        [
         "3",
         "D",
         "0.0",
         "0.0"
        ],
        [
         "4",
         "E",
         "0.009791957320948924",
         "0.00010578559994775518"
        ],
        [
         "5",
         "F",
         "0.057275035508572825",
         "8.240333956547661e-05"
        ],
        [
         "6",
         "G",
         "0.0",
         "0.0"
        ]
       ],
       "shape": {
        "columns": 3,
        "rows": 7
       }
      },
      "text/html": [
       "<div>\n",
       "<style scoped>\n",
       "    .dataframe tbody tr th:only-of-type {\n",
       "        vertical-align: middle;\n",
       "    }\n",
       "\n",
       "    .dataframe tbody tr th {\n",
       "        vertical-align: top;\n",
       "    }\n",
       "\n",
       "    .dataframe thead th {\n",
       "        text-align: right;\n",
       "    }\n",
       "</style>\n",
       "<table border=\"1\" class=\"dataframe\">\n",
       "  <thead>\n",
       "    <tr style=\"text-align: right;\">\n",
       "      <th></th>\n",
       "      <th>Cohort</th>\n",
       "      <th>mean_max_tolerance_rate</th>\n",
       "      <th>std_max_tolerance_rate</th>\n",
       "    </tr>\n",
       "  </thead>\n",
       "  <tbody>\n",
       "    <tr>\n",
       "      <th>0</th>\n",
       "      <td>A</td>\n",
       "      <td>0.038846</td>\n",
       "      <td>0.000270</td>\n",
       "    </tr>\n",
       "    <tr>\n",
       "      <th>1</th>\n",
       "      <td>B</td>\n",
       "      <td>0.057403</td>\n",
       "      <td>0.000297</td>\n",
       "    </tr>\n",
       "    <tr>\n",
       "      <th>2</th>\n",
       "      <td>C</td>\n",
       "      <td>0.057211</td>\n",
       "      <td>0.000133</td>\n",
       "    </tr>\n",
       "    <tr>\n",
       "      <th>3</th>\n",
       "      <td>D</td>\n",
       "      <td>0.000000</td>\n",
       "      <td>0.000000</td>\n",
       "    </tr>\n",
       "    <tr>\n",
       "      <th>4</th>\n",
       "      <td>E</td>\n",
       "      <td>0.009792</td>\n",
       "      <td>0.000106</td>\n",
       "    </tr>\n",
       "    <tr>\n",
       "      <th>5</th>\n",
       "      <td>F</td>\n",
       "      <td>0.057275</td>\n",
       "      <td>0.000082</td>\n",
       "    </tr>\n",
       "    <tr>\n",
       "      <th>6</th>\n",
       "      <td>G</td>\n",
       "      <td>0.000000</td>\n",
       "      <td>0.000000</td>\n",
       "    </tr>\n",
       "  </tbody>\n",
       "</table>\n",
       "</div>"
      ],
      "text/plain": [
       "  Cohort  mean_max_tolerance_rate  std_max_tolerance_rate\n",
       "0      A                 0.038846                0.000270\n",
       "1      B                 0.057403                0.000297\n",
       "2      C                 0.057211                0.000133\n",
       "3      D                 0.000000                0.000000\n",
       "4      E                 0.009792                0.000106\n",
       "5      F                 0.057275                0.000082\n",
       "6      G                 0.000000                0.000000"
      ]
     },
     "metadata": {},
     "output_type": "display_data"
    }
   ],
   "source": [
    "import numpy as np\n",
    "\n",
    "# Define random seeds and cohorts\n",
    "random_seeds = [1, 2, 3, 4, 5]\n",
    "all_cohorts_letters = loans_last_status[\"batch_letter\"].unique()\n",
    "all_cohorts_letters.sort()\n",
    "\n",
    "# Dictionary to store results for each cohort\n",
    "cohort_tolerance_results = {}\n",
    "\n",
    "# Compute max tolerance rate for each cohort across different random seeds\n",
    "for cohort_letter in all_cohorts_letters:\n",
    "    max_tolerance_rates = []\n",
    "    \n",
    "    for seed in random_seeds:\n",
    "        tolerance_results = simulate_default_tolerance(\n",
    "            cohort_letter, random_state=seed, verbose=False\n",
    "        )\n",
    "        tolerance_results_pd = pd.DataFrame(tolerance_results)\n",
    "        \n",
    "        # Find maximum default rate where ROI is still positive\n",
    "        positive_roi_results = tolerance_results_pd[tolerance_results_pd[\"roi_values\"] > 0]\n",
    "        \n",
    "        if len(positive_roi_results) > 0:\n",
    "            max_tolerance_rate = positive_roi_results[\"default_rates\"].max()\n",
    "        else:\n",
    "            max_tolerance_rate = 0.0  # No tolerance if cohort is never profitable\n",
    "            \n",
    "        max_tolerance_rates.append(max_tolerance_rate)\n",
    "    \n",
    "    cohort_tolerance_results[cohort_letter] = max_tolerance_rates\n",
    "\n",
    "# Create summary table with mean and std\n",
    "summary_data = []\n",
    "for cohort_letter in all_cohorts_letters:\n",
    "    rates = cohort_tolerance_results[cohort_letter]\n",
    "    summary_data.append({\n",
    "        'Cohort': cohort_letter,\n",
    "        'mean_max_tolerance_rate': np.mean(rates),\n",
    "        'std_max_tolerance_rate': np.std(rates)\n",
    "    })\n",
    "\n",
    "tolerance_summary_df = pd.DataFrame(summary_data)\n",
    "display(tolerance_summary_df)"
   ]
  },
  {
   "cell_type": "code",
   "execution_count": null,
   "id": "97f8d392",
   "metadata": {},
   "outputs": [
    {
     "name": "stdout",
     "output_type": "stream",
     "text": [
      "Error occurred while creating size strata: Bin edges must be unique: Index([5.0, 500.0, 500.0, 10270.0], dtype='float64', name='loan_amount').\n",
      "You can drop duplicate edges by setting the 'duplicates' kwarg\n",
      "Selected 201 loans from Small stratum\n",
      "Selected 44 loans from Medium stratum\n",
      "Default rate for Cohort A: 0.04763262311804033\n"
     ]
    },
    {
     "data": {
      "application/vnd.microsoft.datawrangler.viewer.v0+json": {
       "columns": [
        {
         "name": "index",
         "rawType": "int64",
         "type": "integer"
        },
        {
         "name": "loan_id",
         "rawType": "object",
         "type": "string"
        },
        {
         "name": "loan_amount",
         "rawType": "float64",
         "type": "float"
        },
        {
         "name": "size_stratum",
         "rawType": "category",
         "type": "unknown"
        },
        {
         "name": "batch_letter",
         "rawType": "object",
         "type": "string"
        }
       ],
       "ref": "723e84c3-ebc1-4d8e-bbcb-cb3142d8ad89",
       "rows": [
        [
         "115568",
         "3d9507c974d29c4d9fb584d142b778e55e7633ded7bba8e4bbb3e59505a4fda2",
         "500.0",
         "Small",
         "D"
        ],
        [
         "133760",
         "471f19efbb67f3e09c9a8f84baf5fa7919f63fbedca70667affe0e35ad35546e",
         "500.0",
         "Small",
         "D"
        ],
        [
         "106014",
         "a6af132fc9ec255e124d9d5609db3025b315817bd92edd8e98f3ca32cd91aadc",
         "300.0",
         "Small",
         "D"
        ],
        [
         "105306",
         "a0f4739050553e6b338037bf62cffd5d0ac6ac2cd4dd3d5c21abe43e75a96e04",
         "500.0",
         "Small",
         "D"
        ],
        [
         "122177",
         "82e6785418528026b827dc0cf438b4e4ffb8f36b8eeb104ff906ee466cb84302",
         "500.0",
         "Small",
         "D"
        ],
        [
         "91039",
         "e6afef05d2bde572499216c8b969906da8940d5c627ec3daa670f3e35d250f54",
         "500.0",
         "Small",
         "D"
        ],
        [
         "119265",
         "81b3b3d6a5b791c0b5a78d59d470f8b3aa032f4c4982d873165692c7630ecaab",
         "250.0",
         "Small",
         "D"
        ],
        [
         "119651",
         "90ec2fa09cb73644e95fba527a24e3169221f3e4a2f57c9275e20f0db14bcd24",
         "500.0",
         "Small",
         "D"
        ],
        [
         "95143",
         "8af7fa538f7a5e0316a384581971c735634a1536ee92345afaef7a1d8b900019",
         "500.0",
         "Small",
         "D"
        ],
        [
         "126088",
         "133da7d33a4f35270a0e7b60ab16fc7f10dc7e74de03fa997bd1899b2db57181",
         "300.0",
         "Small",
         "D"
        ]
       ],
       "shape": {
        "columns": 4,
        "rows": 10
       }
      },
      "text/html": [
       "<div>\n",
       "<style scoped>\n",
       "    .dataframe tbody tr th:only-of-type {\n",
       "        vertical-align: middle;\n",
       "    }\n",
       "\n",
       "    .dataframe tbody tr th {\n",
       "        vertical-align: top;\n",
       "    }\n",
       "\n",
       "    .dataframe thead th {\n",
       "        text-align: right;\n",
       "    }\n",
       "</style>\n",
       "<table border=\"1\" class=\"dataframe\">\n",
       "  <thead>\n",
       "    <tr style=\"text-align: right;\">\n",
       "      <th></th>\n",
       "      <th>loan_id</th>\n",
       "      <th>loan_amount</th>\n",
       "      <th>size_stratum</th>\n",
       "      <th>batch_letter</th>\n",
       "    </tr>\n",
       "  </thead>\n",
       "  <tbody>\n",
       "    <tr>\n",
       "      <th>115568</th>\n",
       "      <td>3d9507c974d29c4d9fb584d142b778e55e7633ded7bba8...</td>\n",
       "      <td>500.0</td>\n",
       "      <td>Small</td>\n",
       "      <td>D</td>\n",
       "    </tr>\n",
       "    <tr>\n",
       "      <th>133760</th>\n",
       "      <td>471f19efbb67f3e09c9a8f84baf5fa7919f63fbedca706...</td>\n",
       "      <td>500.0</td>\n",
       "      <td>Small</td>\n",
       "      <td>D</td>\n",
       "    </tr>\n",
       "    <tr>\n",
       "      <th>106014</th>\n",
       "      <td>a6af132fc9ec255e124d9d5609db3025b315817bd92edd...</td>\n",
       "      <td>300.0</td>\n",
       "      <td>Small</td>\n",
       "      <td>D</td>\n",
       "    </tr>\n",
       "    <tr>\n",
       "      <th>105306</th>\n",
       "      <td>a0f4739050553e6b338037bf62cffd5d0ac6ac2cd4dd3d...</td>\n",
       "      <td>500.0</td>\n",
       "      <td>Small</td>\n",
       "      <td>D</td>\n",
       "    </tr>\n",
       "    <tr>\n",
       "      <th>122177</th>\n",
       "      <td>82e6785418528026b827dc0cf438b4e4ffb8f36b8eeb10...</td>\n",
       "      <td>500.0</td>\n",
       "      <td>Small</td>\n",
       "      <td>D</td>\n",
       "    </tr>\n",
       "    <tr>\n",
       "      <th>91039</th>\n",
       "      <td>e6afef05d2bde572499216c8b969906da8940d5c627ec3...</td>\n",
       "      <td>500.0</td>\n",
       "      <td>Small</td>\n",
       "      <td>D</td>\n",
       "    </tr>\n",
       "    <tr>\n",
       "      <th>119265</th>\n",
       "      <td>81b3b3d6a5b791c0b5a78d59d470f8b3aa032f4c4982d8...</td>\n",
       "      <td>250.0</td>\n",
       "      <td>Small</td>\n",
       "      <td>D</td>\n",
       "    </tr>\n",
       "    <tr>\n",
       "      <th>119651</th>\n",
       "      <td>90ec2fa09cb73644e95fba527a24e3169221f3e4a2f57c...</td>\n",
       "      <td>500.0</td>\n",
       "      <td>Small</td>\n",
       "      <td>D</td>\n",
       "    </tr>\n",
       "    <tr>\n",
       "      <th>95143</th>\n",
       "      <td>8af7fa538f7a5e0316a384581971c735634a1536ee9234...</td>\n",
       "      <td>500.0</td>\n",
       "      <td>Small</td>\n",
       "      <td>D</td>\n",
       "    </tr>\n",
       "    <tr>\n",
       "      <th>126088</th>\n",
       "      <td>133da7d33a4f35270a0e7b60ab16fc7f10dc7e74de03fa...</td>\n",
       "      <td>300.0</td>\n",
       "      <td>Small</td>\n",
       "      <td>D</td>\n",
       "    </tr>\n",
       "  </tbody>\n",
       "</table>\n",
       "</div>"
      ],
      "text/plain": [
       "                                                  loan_id  loan_amount  \\\n",
       "115568  3d9507c974d29c4d9fb584d142b778e55e7633ded7bba8...        500.0   \n",
       "133760  471f19efbb67f3e09c9a8f84baf5fa7919f63fbedca706...        500.0   \n",
       "106014  a6af132fc9ec255e124d9d5609db3025b315817bd92edd...        300.0   \n",
       "105306  a0f4739050553e6b338037bf62cffd5d0ac6ac2cd4dd3d...        500.0   \n",
       "122177  82e6785418528026b827dc0cf438b4e4ffb8f36b8eeb10...        500.0   \n",
       "91039   e6afef05d2bde572499216c8b969906da8940d5c627ec3...        500.0   \n",
       "119265  81b3b3d6a5b791c0b5a78d59d470f8b3aa032f4c4982d8...        250.0   \n",
       "119651  90ec2fa09cb73644e95fba527a24e3169221f3e4a2f57c...        500.0   \n",
       "95143   8af7fa538f7a5e0316a384581971c735634a1536ee9234...        500.0   \n",
       "126088  133da7d33a4f35270a0e7b60ab16fc7f10dc7e74de03fa...        300.0   \n",
       "\n",
       "       size_stratum batch_letter  \n",
       "115568        Small            D  \n",
       "133760        Small            D  \n",
       "106014        Small            D  \n",
       "105306        Small            D  \n",
       "122177        Small            D  \n",
       "91039         Small            D  \n",
       "119265        Small            D  \n",
       "119651        Small            D  \n",
       "95143         Small            D  \n",
       "126088        Small            D  "
      ]
     },
     "execution_count": 92,
     "metadata": {},
     "output_type": "execute_result"
    }
   ],
   "source": [
    "# from src.stratified_selection import stratified_loan_selection\n",
    "\n",
    "# cohort_a_loans = loans_last_status[loans_last_status[\"batch_letter\"] == \"D\"]\n",
    "\n",
    "# stratified_a_selection = stratified_loan_selection(\n",
    "#     loans_df=cohort_a_loans, target_default_rate=0.05, random_state=42\n",
    "# )\n",
    "# target_default_rate = (\n",
    "#     stratified_a_selection[\"loan_amount\"].sum() / cohort_a_loans[\"loan_amount\"].sum()\n",
    "# )\n",
    "# print(\"Default rate for Cohort A:\", target_default_rate)\n",
    "\n",
    "# stratified_a_selection[[\"loan_id\", \"loan_amount\", \"size_stratum\", \"batch_letter\"]].head(10)\n"
   ]
  }
 ],
 "metadata": {
  "kernelspec": {
   "display_name": "case-ds-cloud-walk",
   "language": "python",
   "name": "python3"
  },
  "language_info": {
   "codemirror_mode": {
    "name": "ipython",
    "version": 3
   },
   "file_extension": ".py",
   "mimetype": "text/x-python",
   "name": "python",
   "nbconvert_exporter": "python",
   "pygments_lexer": "ipython3",
   "version": "3.12.6"
  }
 },
 "nbformat": 4,
 "nbformat_minor": 5
}
